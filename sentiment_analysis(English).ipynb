{
  "nbformat": 4,
  "nbformat_minor": 0,
  "metadata": {
    "colab": {
      "name": "sentiment_analysis_Eng.ipynb",
      "provenance": [],
      "collapsed_sections": [],
      "authorship_tag": "ABX9TyNvc1DuzEmUvKG14vUU1Nrz",
      "include_colab_link": true
    },
    "kernelspec": {
      "name": "python3",
      "display_name": "Python 3"
    },
    "accelerator": "GPU"
  },
  "cells": [
    {
      "cell_type": "markdown",
      "metadata": {
        "id": "view-in-github",
        "colab_type": "text"
      },
      "source": [
        "<a href=\"https://colab.research.google.com/github/ssooni/sentiment_analysis/blob/main/sentiment_analysis(English).ipynb\" target=\"_parent\"><img src=\"https://colab.research.google.com/assets/colab-badge.svg\" alt=\"Open In Colab\"/></a>"
      ]
    },
    {
      "cell_type": "code",
      "metadata": {
        "id": "UDixBRlmyfYb",
        "colab": {
          "base_uri": "https://localhost:8080/"
        },
        "outputId": "706868eb-517c-4015-a9ec-d3fe42f41dfc"
      },
      "source": [
        "from google.colab import drive\n",
        "drive.flush_and_unmount()\n",
        "drive.mount('/dataset', force_remount=True)"
      ],
      "execution_count": null,
      "outputs": [
        {
          "output_type": "stream",
          "text": [
            "Drive not mounted, so nothing to flush and unmount.\n",
            "Mounted at /dataset\n"
          ],
          "name": "stdout"
        }
      ]
    },
    {
      "cell_type": "code",
      "metadata": {
        "id": "8YLSedAmzGxA"
      },
      "source": [
        "import torch\n",
        "import torch.nn as nn\n",
        "import torch.nn.functional as F\n",
        "\n",
        "from torchtext.vocab import Vectors\n",
        "from torchtext.data import TabularDataset, Field\n",
        "from torchtext import data, datasets\n",
        "\n",
        "import random\n",
        "import os\n",
        "import numpy as np\n",
        "import pandas as pd\n",
        "import json\n",
        "from gensim.models import Word2Vec, KeyedVectors\n",
        "from torchtext.vocab import GloVe\n",
        "\n",
        "BATCH_SIZE = 64\n",
        "lr = 0.00001\n",
        "EPOCHS = 200\n",
        "USE_CUDA = torch.cuda.is_available()\n",
        "DEVICE = torch.device(\"cuda\" if USE_CUDA else \"cpu\")"
      ],
      "execution_count": null,
      "outputs": []
    },
    {
      "cell_type": "code",
      "metadata": {
        "colab": {
          "base_uri": "https://localhost:8080/"
        },
        "id": "nhn4Ru4FMbJy",
        "outputId": "99a98dac-aa59-4c09-f807-8d14f96e9569"
      },
      "source": [
        "!ls -la \"/dataset/My Drive/friends\""
      ],
      "execution_count": null,
      "outputs": [
        {
          "output_type": "stream",
          "text": [
            "total 2774\n",
            "-rw------- 1 root root  229392 Aug  6  2018 friends_dev.json\n",
            "-rw------- 1 root root  544341 Aug  6  2018 friends_test.json\n",
            "-rw------- 1 root root 2065470 Aug  6  2018 friends_train.json\n"
          ],
          "name": "stdout"
        }
      ]
    },
    {
      "cell_type": "code",
      "metadata": {
        "id": "Mw1yhOQ9MQ-W"
      },
      "source": [
        "def reform(filename):\n",
        "  with open(filename) as json_file:\n",
        "      json_data = json.load(json_file)\n",
        "  reform_list = list()\n",
        "  count = 0\n",
        "  header = ['speaker_utterance', 'emotion', 'annotation']\n",
        "  # [neutral, joy, sadness, fear, anger, surprise, disgust]\n",
        "  for i, d_list in enumerate(json_data):\n",
        "    speaker_dict = {}\n",
        "    count = 0\n",
        "    bf_talk = \"\"\n",
        "    for j, d in enumerate(d_list):\n",
        "      l = list()\n",
        "      l.append(d['speaker'] + \" \" + d['utterance'])\n",
        "      l.append(d['emotion'])\n",
        "      l.append(d['annotation'])\n",
        " \n",
        "#     bf_talk = speaker_dict[d['speaker']] + \" \" + d['utterance'] + \" \"\n",
        "\n",
        "\n",
        "      reform_list.append(l)\n",
        "\n",
        "  df = pd.DataFrame(reform_list, columns=header)\n",
        "  print(df.head())\n",
        "  return df"
      ],
      "execution_count": null,
      "outputs": []
    },
    {
      "cell_type": "code",
      "metadata": {
        "colab": {
          "base_uri": "https://localhost:8080/"
        },
        "id": "1FBeUk7qOeSA",
        "outputId": "bb40370b-2f9b-43c5-ed0c-56a9e1db39df"
      },
      "source": [
        "reform(\"/dataset/My Drive/friends/friends_train.json\").to_csv(\"./friends_train.csv\", index=None)\n",
        "reform(\"/dataset/My Drive/friends/friends_dev.json\").to_csv(\"./friends_dev.csv\", index=None)\n",
        "reform(\"/dataset/My Drive/friends/friends_test.json\").to_csv(\"./friends_test.csv\", index=None) "
      ],
      "execution_count": null,
      "outputs": [
        {
          "output_type": "stream",
          "text": [
            "                                   speaker_utterance   emotion annotation\n",
            "0  Chandler also I was the point person on my com...   neutral    4100000\n",
            "1   The Interviewer You mustve had your hands full.   neutral    5000000\n",
            "2                   Chandler That I did. That I did.   neutral    5000000\n",
            "3  The Interviewer So lets talk a little bit abo...   neutral    5000000\n",
            "4                    Chandler My duties?  All right.  surprise    2000030\n",
            "                                   speaker_utterance      emotion annotation\n",
            "0  Phoebe Oh my God, hes lost it. Hes totally l...  non-neutral    0002120\n",
            "1                                       Monica What?     surprise    1000130\n",
            "2  Ross Or! Or, we could go to the bank, close ou...      neutral    3000200\n",
            "3                          Chandler Youre a genius!          joy    0500000\n",
            "4       Joey Aww, man, now we wont be bank buddies!      sadness    0040100\n",
            "                                   speaker_utterance      emotion annotation\n",
            "0  Mark Why do all youre coffee mugs have number...     surprise    2000030\n",
            "1  Rachel Oh. Thats so Monica can keep track. Th...  non-neutral    2100011\n",
            "2                                Rachel Y'know what?      neutral    3000020\n",
            "3                                    Ross It didnt.      neutral    5000000\n",
            "4  Frank Okay, so what you used to have with Rach...          joy    1300010\n"
          ],
          "name": "stdout"
        }
      ]
    },
    {
      "cell_type": "code",
      "metadata": {
        "colab": {
          "base_uri": "https://localhost:8080/"
        },
        "id": "yAtINm0IQbAi",
        "outputId": "17d9b863-f0c1-4da0-e37a-34144cd33822"
      },
      "source": [
        "!ls -la"
      ],
      "execution_count": null,
      "outputs": [
        {
          "output_type": "stream",
          "text": [
            "total 1100\n",
            "drwxr-xr-x 1 root root   4096 Dec 23 11:00 .\n",
            "drwxr-xr-x 1 root root   4096 Dec 23 10:40 ..\n",
            "drwxr-xr-x 1 root root   4096 Dec 21 17:29 .config\n",
            "-rw-r--r-- 1 root root  86609 Dec 23 11:00 friends_dev.csv\n",
            "-rw-r--r-- 1 root root 212174 Dec 23 11:00 friends_test.csv\n",
            "-rw-r--r-- 1 root root 805555 Dec 23 11:00 friends_train.csv\n",
            "drwxr-xr-x 1 root root   4096 Dec 21 17:29 sample_data\n"
          ],
          "name": "stdout"
        }
      ]
    },
    {
      "cell_type": "code",
      "metadata": {
        "id": "BbKy9dBa0pIA"
      },
      "source": [
        "i = Field(sequential=False, unk_token=None)\n",
        "j = Field(sequential=False, unk_token=None)\n",
        "speaker = Field(sequential=False, unk_token=None)\n",
        "utterance = Field(sequential=True, use_vocab=True, tokenize = \"spacy\", lower=True, init_token = '<sos>', eos_token = '<eos>', batch_first=True)\n",
        "emotion = Field(sequential=False, use_vocab=True, batch_first=True, unk_token=None)\n",
        "annotation = Field(sequential=False, use_vocab=True, batch_first=True, unk_token=None)\n",
        "\n",
        "fields = [('utterance', utterance), ('emotion', emotion), ('annotation', annotation)]\n",
        "#fields = [('i', i), ('j', j), ('speaker', speaker), ('utterance', utterance), ('emotion', emotion), ('annotation', annotation)]\n",
        "train_data, val_data, test_data = TabularDataset.splits(path=\"./\",  train='friends_train.csv', test='friends_test.csv', validation='friends_dev.csv', format='csv', fields=fields, skip_header=True)"
      ],
      "execution_count": null,
      "outputs": []
    },
    {
      "cell_type": "markdown",
      "metadata": {
        "id": "kB0TvI4F_Ddl"
      },
      "source": [
        "### 단어 사전 생성 \n",
        "1. 2회 이상 나온 단어만 단어 사전에 수록\n",
        "2. 형태소 분석기는 Komoran을 사용하였음"
      ]
    },
    {
      "cell_type": "code",
      "metadata": {
        "id": "QRkTRFjpCU1z",
        "colab": {
          "base_uri": "https://localhost:8080/"
        },
        "outputId": "0d91eb1b-7414-4129-e340-f71258fb39c3"
      },
      "source": [
        "#i.build_vocab(train_data) \n",
        "#j.build_vocab(train_data) \n",
        "#speaker.build_vocab(train_data) \n",
        "annotation.build_vocab(train_data) \n",
        "utterance.build_vocab(train_data,vectors=GloVe(name='6B', dim=300), min_freq=3) \n",
        "emotion.build_vocab(train_data)\n",
        "\n",
        "vocab_size = len(utterance.vocab)\n",
        "n_classes = len(emotion.vocab)\n",
        "\n",
        "\n",
        "\n",
        "print('단어 집합의 크기 : {}'.format(vocab_size))\n",
        "print('클래스 : {}'.format(n_classes))\n",
        "print('{}'.format(utterance.vocab.freqs))\n",
        "\n",
        "output = open('./vocab_list.pkl', 'wb')\n",
        "torch.save(utterance.vocab, output)\n",
        "output.close()\n"
      ],
      "execution_count": null,
      "outputs": [
        {
          "output_type": "stream",
          "text": [
            "단어 집합의 크기 : 2115\n",
            "클래스 : 8\n",
            "Counter({',': 7471, '.': 6789, '!': 4527, 'i': 3794, 'you': 3389, '?': 3004, 'the': 2015, 'joey': 1787, 'ross': 1767, 'to': 1664, 'rachel': 1654, 'a': 1626, 'phoebe': 1562, 'chandler': 1501, 'monica': 1497, 'it': 1330, 'and': 1293, 'that': 1219, 'oh': 1183, '-': 1111, 'no': 974, 'what': 957, 'is': 812, 'this': 773, 'me': 761, 'do': 743, 'so': 726, 'okay': 718, 'yeah': 713, 'just': 696, \"'s\": 693, 'my': 685, 'of': 685, 'we': 685, 'in': 654, 'have': 613, ' ': 609, 'hey': 595, 'i\\x92m': 566, 'well': 562, 'all': 545, 'not': 530, 'know': 522, 'on': 517, 'are': 510, 'was': 508, 'for': 497, 'right': 493, 'with': 473, 'but': 468, 'be': 465, \"n't\": 413, 'go': 397, 'your': 394, 'don\\x92t': 391, 'like': 390, 'here': 384, 'na': 379, 'gon': 378, 'get': 377, 'he': 374, 'it\\x92s': 374, 'can': 363, 'out': 363, 'really': 352, 'uh': 351, 'about': 338, 'got': 334, 'there': 317, 'up': 313, '...': 310, 'think': 308, \"'m\": 303, 'look': 302, 'how': 296, 'that\\x92s': 286, 'now': 282, 'her': 281, 'one': 277, 'if': 273, 'did': 271, 'at': 271, 'she': 260, 'mean': 249, 'see': 243, 'you\\x92re': 230, 'god': 228, 'they': 227, 'come': 227, 'him': 222, 'why': 222, 'good': 219, 'sorry': 215, 'want': 215, \"'re\": 196, 'tell': 193, 'great': 188, '\"': 184, 'when': 179, 'hi': 178, 'guys': 178, 'would': 174, 'y\\x92know': 174, 'yes': 171, \"y'know\": 167, 'going': 167, 'could': 165, 'umm': 162, 'were': 157, 'some': 155, 'then': 153, 'back': 152, 'because': 150, 'time': 149, 'who': 148, 'too': 145, 'had': 142, 'little': 141, 'say': 140, 'can\\x92t': 138, 'guy': 137, 'love': 136, 'something': 135, 'been': 133, 'let': 127, 'wait': 127, 'should': 124, 'as': 124, 'thank': 122, 'or': 122, 'an': 121, 'mr.': 121, 'ok': 119, 'huh': 119, 'wanna': 118, 'does': 115, 'over': 115, 'doing': 113, 'from': 112, 'his': 110, 'am': 110, 'we\\x92re': 109, 'said': 109, 'man': 109, 'them': 108, 'make': 107, 'thing': 105, 'take': 105, 'i\\x92ll': 105, 'us': 105, 'will': 102, 'never': 101, 'where': 100, 'people': 99, 'sure': 99, 'please': 98, 'ah': 97, 'maybe': 97, 'much': 95, \"'ll\": 94, \"'\": 92, 'still': 92, 'by': 92, 'dr.': 91, 'listen': 90, 'janice': 90, 'down': 89, 'um': 89, 'off': 89, 'again': 89, 'very': 89, 'way': 88, 'two': 88, 'actually': 87, 'wow': 87, 'give': 86, 'fine': 86, 'need': 86, '\\x85': 84, 'first': 84, 'our': 84, 'believe': 82, 'he\\x92s': 82, 'i\\x92ve': 81, 'even': 81, 'didn\\x92t': 78, 'pheebs': 78, \"'ve\": 77, 'ca': 77, 'thanks': 77, 'woman': 75, 'thought': 75, 'big': 75, 'whoa': 74, 'only': 73, '   ': 73, 'nice': 73, 'has': 71, 'geller': 71, 'night': 70, 'more': 70, 'before': 69, 'other': 69, 'ta': 69, 'work': 69, 'call': 68, 'these': 68, 'hello': 68, 'place': 67, 'stuff': 67, 'stop': 67, 'talk': 66, 'she\\x92s': 66, 'feel': 66, 'ya': 66, 'bye': 65, 'carol': 65, 'girl': 65, 'ever': 64, 'lot': 63, 'any': 62, 'those': 62, 'there\\x92s': 62, 'nothing': 60, 'put': 60, 'baby': 60, 'anything': 60, 'married': 60, 'things': 60, 'last': 58, 'pretty': 58, 'remember': 58, 'new': 57, 'let\\x92s': 56, 'what\\x92s': 56, 'emily': 56, 'ohh': 56, 'rach': 54, 'date': 54, 'went': 53, 'happened': 53, 'told': 53, 'wanted': 53, 'into': 52, 'room': 52, 'they\\x92re': 52, 'better': 52, 'kinda': 51, 'around': 51, 'made': 51, 'guess': 50, 'name': 50, 'honey': 49, 'mona': 49, 'play': 49, \"'d\": 49, 'talking': 48, 'friend': 48, 'care': 48, 'help': 48, 'tag': 48, 'mrs.': 48, 'wedding': 47, 'always': 47, 'totally': 46, 'happy': 46, 'best': 46, 'together': 46, 'having': 46, 'fun': 46, 'kind': 46, 'ooh': 46, 'thinking': 46, 'pick': 45, 'day': 45, 'friends': 45, 'richard': 45, 'phone': 44, 'ben': 44, 'getting': 44, 'mark': 42, 'next': 42, 'ask': 42, 'bad': 42, 'left': 42, 'second': 42, 'stupid': 42, 'which': 41, 'another': 41, 'wrong': 41, 'long': 41, 'tonight': 41, 'doesn\\x92t': 41, 'five': 40, '\\x85 ': 40, 'else': 40, 'ready': 40, 'yet': 40, 'green': 40, 'done': 39, 'doug': 39, 'pete': 39, 'whole': 38, 'job': 38, 'eat': 38, 'funny': 38, '....': 38, 'ow': 38, 'hear': 37, 'coming': 37, 'than': 37, 'stay': 37, 'david': 37, 'problem': 37, 'years': 37, 'try': 37, 'find': 37, 'later': 36, 'ring': 36, 'old': 36, 'after': 36, 'i\\x92d': 36, 'home': 36, 'check': 36, 'tomorrow': 35, 'someone': 35, 'might': 35, 'director': 35, 'such': 35, 'trying': 35, 'looking': 35, 'game': 35, 'today': 35, 'hand': 35, 'called': 35, 'we\\x92ll': 34, 'anyway': 34, 'idea': 34, ':': 34, '\\x91cause': 34, 'probably': 33, 'course': 33, 'life': 33, 'may': 33, 'leave': 33, 'myself': 33, 'money': 33, 'hot': 33, 'ho': 32, 'happen': 32, 'three': 32, 'hard': 32, 'away': 32, 'came': 32, 'mom': 32, 'danny': 32, 'move': 32, '..': 32, 'enough': 31, 'real': 31, 'supposed': 31, 'keep': 31, 'mine': 31, 'party': 31, 'being': 31, 'every': 31, 'susan': 31, 'coffee': 30, 'wants': 30, 'head': 30, 'treeger': 30, 'women': 30, 'julie': 30, 'crazy': 29, 'everybody': 29, 'part': 29, 'hold': 29, 'minute': 29, 'weird': 29, 'bing': 29, 'sex': 29, 'saying': 29, 'serious': 28, 'each': 28, 'dad': 28, 'took': 28, 'matter': 28, 'ha': 28, 'morning': 28, 'year': 28, 'joanna': 28, 'frank': 28, 'wouldn\\x92t': 27, 'apartment': 27, 'anymore': 27, 'elizabeth': 27, 'father': 27, 'naked': 27, 'high': 27, 'dinner': 27, 'telling': 27, 'kathy': 27, 'hmm': 27, 'barry': 27, 'chip': 27, 'show': 26, 'bring': 26, 'knew': 26, 'both': 26, 'either': 26, 'same': 26, 'knows': 26, 'you\\x92ve': 26, 'their': 26, 'excuse': 26, 'anyone': 26, 'everything': 26, 'turn': 26, 'you\\x92ll': 25, 'says': 25, 'world': 25, 'start': 25, 'most': 25, 'hours': 25, 'sleep': 25, 'amazing': 25, 'looks': 25, 'marry': 25, 'seen': 25, 'food': 25, 'use': 25, 'alright': 25, 'house': 25, 'earl': 25, 'hang': 24, 'though': 24, 'bob': 24, 'watch': 24, 'paul': 24, 'saw': 24, 'live': 24, 'who\\x92s': 24, 'joshua': 24, 'minutes': 24, 'kiss': 24, 'half': 24, 'also': 23, ';': 23, 'joe': 23, 'wish': 23, 'late': 23, 'since': 23, 'tribbiani': 23, 'ahh': 23, 'until': 23, 'chance': 23, 'yourself': 23, 'question': 23, 'anybody': 23, 'deal': 23, 'wearing': 23, 'lost': 23, 'couple': 23, 'n’t': 23, 'comes': 23, 'teacher': 23, 'sr': 23, 'forget': 22, 'open': 22, 'doctor': 22, 'throw': 22, 'without': 22, 'kids': 22, 'beautiful': 22, 'meet': 22, 'dude': 22, 'four': 22, 'break': 22, 'read': 22, 'sister': 22, 'making': 22, 'wo': 22, 'pants': 22, 'drake': 22, 'person': 21, 'bit': 21, 'understand': 21, 'asked': 21, 'kidding': 21, 'own': 21, 'mind': 21, '  ': 21, 'glad': 21, 'walk': 21, 'won\\x92t': 21, 'already': 21, 'school': 21, 'cool': 21, 'must': 21, 'through': 21, 'gunther': 21, 'absolutely': 20, 'once': 20, 'bed': 20, 'girls': 20, 'hurt': 20, 'hate': 20, 'number': 20, 'sweet': 20, 'couldn\\x92t': 20, 'promise': 20, 'hope': 20, 'somebody': 20, 'ten': 20, 'while': 20, 'under': 19, 'roommate': 19, 'mad': 19, 'alone': 19, 'babies': 19, 'kill': 19, 'wear': 19, 'times': 19, 'hell': 19, 'used': 19, 'jill': 19, 'cute': 19, 'makes': 19, 'museum': 19, 'gone': 19, 'eric': 19, '’s': 19, 'started': 18, 'haven\\x92t': 18, 'sounds': 18, 'different': 18, 'boy': 18, 'mike': 18, 'yep': 18, 'true': 18, 'bitch': 18, 'miss': 18, 'kid': 18, 'sit': 18, 'wasn\\x92t': 18, 'brother': 18, 'gay': 18, 'sir': 18, 'ugh': 18, '$': 18, 'worry': 18, 'between': 18, 'found': 18, 'issac': 18, 'exactly': 17, 'buddy': 17, 'able': 17, 'working': 17, 'here\\x92s': 17, 'wh': 17, 'uhh': 17, 'gave': 17, 'movie': 17, 'six': 17, 'important': 17, 'bet': 17, 'buy': 17, 'gets': 17, 'story': 17, 'book': 17, 'easy': 17, 'cooking': 17, 'sweetie': 17, 'goes': 17, 'parents': 17, 'plan': 17, 'free': 17, 'broke': 16, 'ball': 16, 'unbelievable': 16, '\\x91em': 16, 'kate': 16, 'cut': 16, 'feeling': 16, 'cassie': 16, 'kristen': 16, 'city': 16, 'soon': 16, 'picture': 16, 'pay': 16, 'message': 16, 'isn\\x92t': 16, 'fireman': 16, 'relax': 15, 'liked': 15, 'thanksgiving': 15, 'charlie': 15, 'end': 15, 'huge': 15, 'means': 15, 'perfect': 15, 'face': 15, 'julio': 15, 'son': 15, 'small': 15, 'machine': 15, 'everyone': 15, 'win': 15, 'family': 15, 'isabella': 15, 'candy': 15, 'car': 15, 'katie': 15, 'hour': 15, \"'cause\": 15, 'mon': 14, 'asleep': 14, 'realize': 14, 'table': 14, 'nurse': 14, 'dina': 14, 'clothes': 14, 'dance': 14, 'girlfriend': 14, 'casting': 14, 'men': 14, 'word': 14, 'eh': 14, 'lady': 14, 'shower': 14, 'seeing': 14, 'brought': 14, 'touch': 14, 'pregnant': 14, 'hit': 14, 'its': 14, 'moving': 14, 'close': 14, 'alice': 14, 'marriage': 14, 'eyes': 14, 'fire': 14, 'robert': 14, 'chloe': 14, 'larry': 14, 'sick': 14, 'evil': 13, 'bathroom': 13, 'many': 13, 'blue': 13, 'taking': 13, 'figure': 13, 'street': 13, 'ass': 13, 'scared': 13, 'asking': 13, 'almost': 13, 'aww': 13, 'birthday': 13, 'you\\x92d': 13, 'playing': 13, 'lives': 13, 'song': 13, 'soup': 13, '2': 13, 'seven': 13, 'russell': 13, 'seem': 12, 'thinks': 12, 'building': 12, 'line': 12, 'fell': 12, 'nobody': 12, 'stand': 12, 'reason': 12, 'dead': 12, 'rest': 12, 'talked': 12, 'few': 12, 'change': 12, 'bag': 12, 'tickets': 12, 'seriously': 12, 'fact': 12, 'smell': 12, 'dana': 12, 'whatever': 12, 'office': 12, 'ohhh': 12, 'special': 12, 'side': 12, 'aw': 12, 'fault': 12, 'aren\\x92t': 12, '\\x85  ': 12, 'heard': 12, 'yours': 12, '1': 12, 'spend': 12, 'monica\\x92s': 12, 'week': 12, 'eye': 12, 'dog': 12, 'least': 12, 'restaurant': 12, 'heckles': 12, 'porn': 12, 'policeman': 12, 'stick': 12, 'list': 12, 'mischa': 12, 'plans': 12, 'janine': 12, 'dum': 12, 'lydia': 12, 'spent': 12, 'heads': 12, 'ursula': 12, '/': 12, 'stanley': 12, 'answer': 11, 'meant': 11, 'shut': 11, 'top': 11, 'moment': 11, 'shouldn\\x92t': 11, 'young': 11, 'fast': 11, 'grandmother': 11, 'ew': 11, 'welcome': 11, 'terrible': 11, 'won': 11, 'quick': 11, 'doin\\x92': 11, 'quit': 11, 'loved': 11, 'krista': 11, 'team': 11, 'forgot': 11, 'living': 11, 'moved': 11, 'lose': 11, 'bucks': 11, 'ticket': 11, 'card': 11, 'run': 11, 'definitely': 11, 'lunch': 11, 'shirt': 11, 'ago': 11, 'underwear': 11, 'floor': 11, 'wife': 11, 'front': 11, 'feels': 11, 'questions': 11, 'shoot': 11, 'angela': 11, 'bought': 11, 'boxes': 11, 'red': 11, 'roger': 11, 'gary': 11, 'write': 11, 'grab': 11, 'shot': 11, 'class': 11, 'jim': 11, 'interviewer': 10, 'hands': 10, 'apparently': 10, 'route': 10, 'happens': 10, 'boyfriend': 10, 'hair': 10, 'luck': 10, 'weeks': 10, 'heart': 10, 'daddy': 10, 'ones': 10, 'surprise': 10, 'excited': 10, \"i'm\": 10, 'box': 10, 'against': 10, 'how\\x92s': 10, 'chef': 10, 'stuck': 10, 'turned': 10, 'lie': 10, 'watching': 10, 'fake': 10, 'attendant': 10, 'chick': 10, 'tired': 10, 'months': 10, 'hole': 10, 'decided': 10, 'third': 10, 'felt': 10, 'drunk': 10, 'days': 10, 'cookies': 10, 'idiot': 10, 'store': 10, 'town': 10, 'laundry': 10, 'cliff': 10, 'owe': 10, 'cup': 10, 'door': 10, 'chandler\\x92s': 10, 'casey': 10, 'sometimes': 10, 'window': 10, 'tour': 10, 'bonnie': 10, 'porsche': 10, 'light': 10, 'baldhara': 10, 'business': 10, 'die': 10, 'mother': 10, 'mail': 10, 'receptionist': 10, 'point': 9, 'wrote': 9, 'jealous': 9, 'scene': 9, 'customer': 9, 'london': 9, 'damn': 9, 'cat': 9, 'loves': 9, 'water': 9, 'completely': 9, 'tv': 9, 'sweater': 9, 'eight': 9, 'hotel': 9, 'mistake': 9, '--': 9, 'ran': 9, 'seems': 9, 'clear': 9, 'franklin': 9, 'less': 9, 'neither': 9, 'calling': 9, 'would\\x92ve': 9, 'missed': 9, 'looked': 9, 'sitting': 9, 'trust': 9, 'somewhere': 9, 'stripper': 9, 'fight': 9, 'dollars': 9, 'needs': 9, 'taste': 9, '10': 9, 'fair': 9, 'fat': 9, 'weekend': 9, 'set': 9, 'died': 9, 'news': 9, 'entire': 9, 'student': 9, 'rule': 9, 'knock': 9, 'mess': 9, 'interested': 9, 'sad': 9, 'nooo': 9, '3': 9, 'figured': 9, 'yesterday': 9, 'suck': 9, 'park': 9, 'imagine': 9, 'twin': 9, \"c'mon\": 9, 'speak': 9, 'grade': 9, 'pass': 9, 'bigger': 9, 'guy\\x92s': 9, 'damnit': 9, 'nah': 9, 'mindy': 9, '(': 9, 'starts': 9, 'stage': 9, 'remoray': 9, 'actor': 9, 'terry': 9, 'smoking': 9, 'alan': 9, 'shelley': 9, 'full': 8, 'sucks': 8, 'empty': 8, 'inside': 8, 'wondering': 8, 'finally': 8, 'professor': 8, 'middle': 8, 'difference': 8, 'pizza': 8, 'straight': 8, 'switch': 8, 'yay': 8, 'nervous': 8, 'although': 8, 'met': 8, 'breaking': 8, 'calm': 8, 'audition': 8, 'interesting': 8, 'smart': 8, 'kissed': 8, \"'em\": 8, 'duck': 8, 'king': 8, 'rules': 8, 'favorite': 8, 'uncle': 8, 'secret': 8, 'train': 8, 'bastard': 8, 'we\\x92ve': 8, 'jason': 8, 'joey\\x92s': 8, 'christmas': 8, 'crush': 8, 'vegas': 8, 'kim': 8, 'drink': 8, 'ms.': 8, 'test': 8, 'clean': 8, 'nickname': 8, 'dating': 8, 'far': 8, 'favor': 8, 'early': 8, 'band': 8, 'sing': 8, 'downstairs': 8, 'invite': 8, 'nine': 8, 'choose': 8, 'duncan': 8, 'sent': 8, 'button': 8, 'finish': 8, 'leg': 8, 'wonder': 8, 'behind': 8, 'divorce': 8, 'jake': 8, '8': 8, 'giving': 8, 'purse': 8, 'strong': 8, 'holding': 8, '…': 8, 'lights': 8, 'romantic': 8, 'lying': 8, 'burgin': 8, 'bijan': 8, 'birds': 8, 'crap': 8, 'la': 8, 'decide': 8, 'kristin': 8, 'using': 8, 'keys': 8, 'steve': 8, 'megan': 8, 'quarter': 8, 'security': 8, 'potential': 8, 'system': 7, 'must\\x92ve': 7, '30': 7, 'month': 7, 'italian': 7, 'tough': 7, 'proud': 7, 'surprised': 7, 'paid': 7, 'health': 7, 'pain': 7, 'speech': 7, 'kept': 7, 'feelings': 7, 'fan': 7, 'putting': 7, 'worth': 7, 'warm': 7, 'letting': 7, 'bike': 7, 'scientist': 7, 'stole': 7, 'starting': 7, 'ma': 7, 'worked': 7, 'pack': 7, 'sensitive': 7, 'gimme': 7, 'especially': 7, 'careful': 7, 'keeps': 7, 'bobby': 7, 'personal': 7, 'shopping': 7, 'ended': 7, 'twice': 7, 'ladies': 7, 'future': 7, 'happening': 7, 'gotten': 7, 'engaged': 7, 'along': 7, 'dancing': 7, 'leaving': 7, \"you're\": 7, 'showing': 7, 'across': 7, 'dear': 7, 'worried': 7, 'worse': 7, 'changed': 7, 'trip': 7, 'obviously': 7, 'aunt': 7, 'page': 7, 'appreciate': 7, 'explain': 7, 'piece': 7, 'forever': 7, 'instead': 7, 'walking': 7, 'sometime': 7, 'human': 7, 'cover': 7, 'speed': 7, 'order': 7, 'relationship': 7, 'charming': 7, 'jane': 7, 'walked': 7, 'freak': 7, 'phoebe\\x92s': 7, 'body': 7, 'drop': 7, 'apologize': 7, 'sound': 7, 'turkey': 7, 'ethan': 7, 'it\\x92ll': 7, 'lovely': 7, 'shh': 7, 'cry': 7, 'teach': 7, 'he\\x92ll': 7, 'cowboy': 7, 'mouth': 7, 'noo': 7, 'save': 7, 'guide': 7, 'upset': 7, 'picked': 7, 'birth': 7, 'jam': 7, 'flight': 7, 'hoo': 7, 'ride': 7, 'guard': 7, 'rooms': 7, 'places': 7, 'ate': 7, 'children': 7, 'movies': 7, 'husband': 7, 'official': 7, 'tulsa': 7, 'dump': 6, 'bar': 6, 'paper': 6, 'fall': 6, 'truth': 6, 'central': 6, 'hoping': 6, 'stranger': 6, 'horny': 6, 'bunch': 6, '\\x91kay': 6, 'clerk': 6, 'conversation': 6, 'catch': 6, 'fashion': 6, '.....': 6, 'incredible': 6, 'size': 6, 'kyle': 6, 'wonderful': 6, 'ways': 6, 'inappropriate': 6, 'broken': 6, 'age': 6, 'dry': 6, 'sudden': 6, 'pocket': 6, 'lucky': 6, 'sandwich': 6, 'ronni': 6, 'worst': 6, 'everything\\x92s': 6, 'otherwise': 6, 'technically': 6, 'follow': 6, 'college': 6, 'couch': 6, 'fix': 6, 'accident': 6, 'takes': 6, 'hooked': 6, 'boring': 6, 'annoying': 6, 'except': 6, 'counter': 6, 'bride': 6, 'dress': 6, 'white': 6, 'remembered': 6, 'nancy': 6, 'assistant': 6, 'guest': 6, 'wine': 6, 'outside': 6, 'buffay': 6, 'hundred': 6, \"doin'\": 6, 'what\\x92d': 6, 'kick': 6, 'sell': 6, 'sarah': 6, 'double': 6, 'universe': 6, 'cheesecake': 6, 'cares': 6, 'choice': 6, 'singing': 6, 'morning\\x92s': 6, 'roll': 6, 'enjoy': 6, 'critic': 6, 'post': 6, 'extra': 6, 'listening': 6, 'desk': 6, 'past': 6, 'basically': 6, 'trouble': 6, 'daughter': 6, 'checking': 6, 'tie': 6, 'dream': 6, 'feet': 6, 'words': 6, 'drive': 6, 'cheese': 6, 'pie': 6, 'divorced': 6, 'nope': 6, 'hurry': 6, 'ice': 6, 'sleeping': 6, 'tall': 6, 'kicking': 6, 'flowers': 6, 'boutros': 6, 'york': 6, 'short': 6, 'secrets': 6, 'coat': 6, 'final': 6, 'invited': 6, 'books': 6, 'brain': 6, 'thoughts': 6, 'waiting': 6, 'busy': 6, 'view': 6, 'comfortable': 6, 'tiny': 6, 'honest': 6, 'wake': 6, 'learned': 6, 'gym': 6, 'boat': 6, 'maid': 6, 'honor': 6, 'cross': 6, 'note': 6, 'deep': 6, 'sold': 6, 'sense': 6, 'mary': 6, 'gift': 6, 'bugs': 6, 'nap': 6, 'milk': 6, 'pig': 6, 'reading': 6, 'ex': 6, 'names': 6, 'bedroom': 6, 'outta': 6, 'miller': 6, 'presents': 6, 'hanging': 6, 'reset': 6, 'backup': 6, 'hm': 6, 'noodle': 6, 'hospital': 6, 'grandmother\\x92s': 6, '\\xa0 ': 6, 'spending': 6, 'zane': 6, 'rick': 6, 'fit': 5, 'poor': 5, 'sergei': 5, 'teaching': 5, 'case': 5, 'james': 5, 'estelle': 5, 'key': 5, 'scary': 5, 'sports': 5, 'breathe': 5, 'dark': 5, 'share': 5, 'unless': 5, 'pink': 5, 'joke': 5, 'hung': 5, 'stevens': 5, 'embarrassed': 5, 'dirty': 5, 'script': 5, 'character': 5, 'camera': 5, 'ridiculous': 5, 'jack': 5, 'o': 5, 'genius': 5, 'robot': 5, 'fired': 5, 'easier': 5, 'music': 5, 'death': 5, 'rachel\\x92s': 5, 'bank': 5, 'op': 5, 'tux': 5, 'control': 5, 'sink': 5, 'blew': 5, 'canoe': 5, 'center': 5, 'throwing': 5, 'yemen': 5, 'child': 5, 'library': 5, 'everywhere': 5, 'familiar': 5, 'europe': 5, 'regular': 5, 'handle': 5, 'realise': 5, 'they\\x92ve': 5, 'sophie': 5, 'chicken': 5, 'nipple': 5, 'rhodes': 5, 'congratulations': 5, 'accept': 5, 'sec': 5, 'he-': 5, 'asks': 5, 'british': 5, 'jester': 5, 'rock': 5, 'actual': 5, 'strip': 5, 'covered': 5, 'foot': 5, 'n': 5, 'become': 5, 'dumped': 5, 'copy': 5, 'sauce': 5, 'writing': 5, 'turns': 5, 'rather': 5, 'expecting': 5, 'ugly': 5, 'fill': 5, 'dentist': 5, 'soo': 5, 'twenty': 5, 'experience': 5, '’m': 5, 'standing': 5, 'opened': 5, 'bite': 5, 'hates': 5, 'lemonade': 5, 'jerk': 5, 'suppose': 5, 'goodbye': 5, 'voice': 5, 'holiday': 5, '25': 5, 'john': 5, 'one\\x92s': 5, 'subway': 5, 'hah': 5, 'chute': 5, 'smelly': 5, 'board': 5, 'works': 5, 'french': 5, 'hormones': 5, 'celebrate': 5, 'expect': 5, 'anywhere': 5, 'whose': 5, 'tom': 5, 'saving': 5, '40': 5, '7': 5, 'vendor': 5, 'trick': 5, 'forward': 5, 'spot': 5, 'memories': 5, 'computer': 5, 'plane': 5, 'air': 5, 'lean': 5, 'neck': 5, 'san': 5, 'quite': 5, 'killed': 5, 'interview': 5, 'treat': 5, \"goin'\": 5, 'oberman': 5, 'wha': 5, 'candles': 5, 'plus': 5, 'poker': 5, '%': 5, 'hooker': 5, 'e': 5, 'selling': 5, 'possible': 5, 'hall': 5, 'device': 5, 'annabelle': 5, 'needed': 5, 'shoes': 5, 'zelner': 5, 'lately': 5, 'o\\x92clock': 5, 'liam': 5, 'bill': 5, 'woo': 5, 'carl': 5, 'dumb': 5, 'letter': 5, 'safe': 5, 'single': 5, 'lots': 5, 'jail': 5, 'she\\x92ll': 5, 'lorraine': 5, 'richard\\x92s': 5, 'kitchen': 5, 'calls': 5, 'mmm': 5, 'paolo': 5, 'none': 5, 'island': 5, 'judge': 5, 'swear': 5, 'magic': 5, 'picking': 5, 'black': 5, 'bunny': 5, 'librarian': 5, 'hats': 5, 'tree': 5, 'brave': 5, 'suds': 5, 'heldi': 5, 'bug': 5, 'trudie': 5, 'melissa': 5, 'monday': 4, 'closing': 4, 'beer': 4, 'mm': 4, 'touched': 4, 'vase': 4, 'how\\x92d': 4, 'jade': 4, 'legs': 4, 'bond': 4, 'afternoon': 4, 'impression': 4, 'arms': 4, 'bucket': 4, 'garbage': 4, 'insurance': 4, 'toilet': 4, 'during': 4, 'pool': 4, 'blind': 4, 'commercial': 4, 'delivery': 4, 'loud': 4, 'earrings': 4, 'bus': 4, 'practice': 4, 'raymond': 4, 'cause': 4, 'beat': 4, 'sort': 4, 'usually': 4, 'address': 4, 'actress': 4, 'nuts': 4, 'nothin\\x92.': 4, 'history': 4, 'attracted': 4, 'likes': 4, 'teeth': 4, 'ace': 4, 'hearing': 4, 'company': 4, 'meeting': 4, 'vestibule': 4, 'drew': 4, 'department': 4, 'land': 4, 'saved': 4, 'hero': 4, 'dammit': 4, 'opportunity': 4, '50': 4, 'trade': 4, 'entertainment': 4, 'cards': 4, 'quickly': 4, 'vince': 4, 'lived': 4, 'santa': 4, 'act': 4, 'zoo': 4, 'groom': 4, 'handling': 4, 'present': 4, 'drinking': 4, 'horrible': 4, 'account': 4, 'dates': 4, 'cafeteria': 4, 'grandma': 4, 'salad': 4, 'rid': 4, 'slice': 4, 'chi': 4, 'attention': 4, 'he\\x92d': 4, 'space': 4, 'cups': 4, 'sheet': 4, 'shop': 4, 'bra': 4, '17': 4, 'oooh': 4, 'emergency': 4, 'soap': 4, 'burn': 4, 'litter': 4, 'plastic': 4, 'notice': 4, 'freaked': 4, '\\x85\\x85': 4, 'sexy': 4, 'kip': 4, 'massage': 4, 'noise': 4, 'service': 4, 'rip': 4, 'slow': 4, 'click': 4, 'major': 4, 'it\\x92d': 4, 'somebody\\x92s': 4, 'singer': 4, 'guitar': 4, 'beard': 4, 'tea': 4, 'switching': 4, 'hitchhiker': 4, 'slept': 4, 'friday': 4, 'rogers': 4, 'shame': 4, 'cost': 4, 'trash': 4, 'leslie': 4, 'rosselini': 4, 'admit': 4, 'twelve': 4, 'biggest': 4, 'altar': 4, 'named': 4, 'chasing': 4, 'fifth': 4, 'pull': 4, 'blazer': 4, 'tried': 4, 'fear': 4, 'boss': 4, 'sexual': 4, '4': 4, '6': 4, 'knicks': 4, 'ad': 4, 'pages': 4, 'hypothetically': 4, 'market': 4, 'cab': 4, 'ruin': 4, 'uncomfortable': 4, 'fourth': 4, 'diego': 4, 'percent': 4, 'states': 4, 'goofing': 4, 'pulling': 4, 'longer': 4, 'jokes': 4, 'she\\x92d': 4, 'bottom': 4, 'games': 4, 'pair': 4, 'weren\\x92t': 4, 'lipstick': 4, 'killing': 4, 'ehh': 4, 'million': 4, 'dinosaur': 4, 'sweetheart': 4, 'aruba': 4, 'bernice': 4, 'farber': 4, 'cream': 4, 'fighting': 4, 'gee': 4, 'ross\\x92s': 4, 'coats': 4, 'hitting': 4, 'thread': 4, 'cameras': 4, '15': 4, 'fruit': 4, 'goggles': 4, 'allowed': 4, 'international': 4, 'country': 4, 'centimeters': 4, 'd': 4, 'honeymoon': 4, 'millions': 4, 'respect': 4, 'sisters': 4, 'tight': 4, 'bee': 4, 'enjoying': 4, 'rhyme': 4, 'poughkeepsie': 4, 'wash': 4, 'bars': 4, 'letters': 4, 'wet': 4, 'puck': 4, 'ordered': 4, 'unfair': 4, 'butt': 4, 'crying': 4, 'near': 4, 'numbers': 4, 'whew': 4, 'afraid': 4, 'host': 4, 'screw': 4, 'heh': 4, 'george': 4, 'lurker': 4, 'deserve': 4, 'chuck': 4, 'screwed': 4, 'hoshi': 4, 'loose': 4, 'available': 4, 'realized': 4, 'noooo': 4, 'area': 4, 'needle': 4, 'cobb': 4, 'gun': 4, 'annulment': 4, 'basket': 4, 'quitting': 4, 'exciting': 4, 'clearly': 4, 'star': 4, 'played': 4, 'shoe': 4, 'bake': 4, 'bla': 4, 'ladle': 4, 'section': 4, 'smooth': 4, 'information': 4, 'wesley': 4, 'waiter': 4, 'paula': 4, 'learn': 4, 'styler': 4, 'montreal': 4, 'allesandro': 4, 'duties': 3, 'heading': 3, 'division': 3, 'perhaps': 3, 'waitress': 3, 'poem': 3, 'ameri': 3, 'notch': 3, 'specifics': 3, 'kangaroo': 3, 'dying': 3, 'thinkin': 3, 'sees': 3, 'pure': 3, 'stomach': 3, 'century': 3, 'conference': 3, 'gentlemen': 3, 'hat': 3, 'oy': 3, 'responsibilities': 3, 'ahhh': 3, 'sandwiches': 3, 'issue': 3, 'talkin\\x92': 3, 'public': 3, 'insane': 3, 'nerve': 3, 'unfortunately': 3, 'sign': 3, 'narrowed': 3, 'borrowed': 3, 'bloody': 3, 'barely': 3, 'propose': 3, 'advice': 3, 'prefer': 3, 'boyfriends': 3, 'cleaner': 3, 'wall': 3, 'tape': 3, 'depends': 3, 'research': 3, 'peel': 3, 'appointment': 3, 'burning': 3, 'dropped': 3, 'bringing': 3, 'known': 3, 'actors': 3, 'wanting': 3, 'i.': 3, 'goodacre': 3, 'rich': 3, 'apartments': 3, 'lines': 3, 'phil': 3, 'pal': 3, 'toby': 3, 'semi': 3, 'everyday': 3, 'eleven': 3, 'film': 3, 'famous': 3, 'perform': 3, 'staring': 3, 'oo': 3, '[': 3, ']': 3, 'coulda': 3, 'stain': 3, 'tony': 3, 'pardon': 3, 'peter': 3, 'built': 3, 'credit': 3, 'cast': 3, 'drinks': 3, 'jumping': 3, 'support': 3, 'planning': 3, 'typical': 3, 'send': 3, 'circles': 3, 'stars': 3, 'smoke': 3, 'excellent': 3, 'pieces': 3, 'ourselves': 3, 'clinic': 3, 'raise': 3, 'male': 3, 'saturday': 3, 'magician': 3, 'th': 3, 'johnson': 3, 'france': 3, 'barcelona': 3, 'hiking': 3, 'sid': 3, 'club': 3, '19': 3, 'whenever': 3, 'someplace': 3, 'cold': 3, 'threw': 3, 'favour': 3, 'rent': 3, 'tells': 3, 'sells': 3, 'spacecamp': 3, 'afford': 3, 'invented': 3, 'impossible': 3, 'steady': 3, 'seconds': 3, 'field': 3, 'correct': 3, 'blond': 3, 'boobs': 3, 'serve': 3, 'disagree': 3, 'collection': 3, 'knocked': 3, 'pressure': 3, 'obvious': 3, 'ooooh': 3, 'review': 3, 'classy': 3, 'kitty': 3, 'hungry': 3, 'evening': 3, 'competition': 3, 'female': 3, 'stack': 3, 'waving': 3, 'caught': 3, 'toast': 3, 'oatmeal': 3, '\\x91cha': 3, 'furniture': 3, 'breakfast': 3, 'commitment': 3, 'hers': 3, 'oboe': 3, 'fool': 3, 'y’know': 3, 'peeking': 3, 'older': 3, 'intense': 3, 'falling': 3, 'hidden': 3, 'hmmm': 3, 'pretending': 3, 'road': 3, 'musician': 3, '20': 3, 'tomato': 3, 'finished': 3, 'grown': 3, 'taken': 3, 'license': 3, 'weirdest': 3, 'labor': 3, 'stolen': 3, 'phoebs': 3, 'expensive': 3, 'ton': 3, 'mix': 3, 'laminated': 3, '13': 3, 'freeze': 3, 'misunderstood': 3, 'setting': 3, 'joanne': 3, 'lets': 3, 'bell': 3, 'agreed': 3, 'jamie': 3, 'cramp': 3, 'gali': 3, 'opening': 3, 'bird': 3, 'upstairs': 3, 'action': 3, 'awesome': 3, 'toy': 3, 'fund': 3, 'beach': 3, 'waxine': 3, 'strips': 3, 'court': 3, 'knocking': 3, 'engagement': 3, 'telethon': 3, 'gala': 3, 'flying': 3, 'fancy': 3, 'glass': 3, 'yell': 3, 'punch': 3, 'franzblau': 3, 'armadillo': 3, 'insist': 3, 'carry': 3, 'certainly': 3, 'combination': 3, 'law': 3, 'ai': 3, 'itself': 3, 'yelling': 3, 'focus': 3, 'where\\x92s': 3, 'marcel': 3, 'animal': 3, 'whoever': 3, 'results': 3, 'collins': 3, 'suddenly': 3, 'unagi': 3, 'aware': 3, 'homemade': 3, 'moon': 3, 'return': 3, 'safely': 3, 'oww': 3, 'plate': 3, 'princess': 3, 'coffeehouse': 3, 'rude': 3, 'drums': 3, 'women\\x92s': 3, 'skin': 3, 'flesh': 3, 'breast': 3, '’ll': 3, 'paying': 3, 'toner': 3, 'mac': 3, 'schedule': 3, 'goin\\x92': 3, 'uh-': 3, 'cervix': 3, 'jump': 3, 'tile': 3, 'lifetime': 3, 'junior': 3, 'heat': 3, 'supervisor': 3, 'possibly': 3, 'empire': 3, 'manager': 3, 'running': 3, 'closed': 3, 'forgive': 3, 'chelsea': 3, 'naming': 3, 'cancel': 3, '\\x91til': 3, 'blood': 3, 'including': 3, 'awful': 3, 'energy': 3, 'blocks': 3, '500': 3, 'eating': 3, 'should\\x92ve': 3, 'points': 3, 'dressed': 3, 'meat': 3, 'oil': 3, 'sale': 3, 'sweeping': 3, \"o'clock\": 3, 'docks': 3, 'borrow': 3, 'america': 3, 'attractive': 3, 'odds': 3, 'drugs': 3, 'j': 3, 'sake': 3, 'boom': 3, '700': 3, 'private': 3, 'sperm': 3, 'brown': 3, 'liking': 3, 'privacy': 3, 'color': 3, 'disgusting': 3, 'ocean': 3, 'lily': 3, 'gosh': 3, 'pbs': 3, 'pill': 3, 'ed': 3, 'begley': 3, 'jr.': 3, \"i've\": 3, 'drunken': 3, 'wells': 3, 'natural': 3, 'instincts': 3, 'fly': 3, 'whispering': 3, 'pregnancy': 3, 'cigarette': 3, 'group': 3, 'impressive': 3, 'pearls': 3, 'clown': 3, 'breath': 3, 'adam': 3, 'boxer': 3, 'eww': 3, 'closer': 3, 'chicago': 3, 'reservations': 3, 'incredibly': 3, 'showed': 3, 'sickness': 3, 'power': 3, 'illinois': 3, 'considered': 3, 'bother': 3, 'ping': 3, 'pong': 3, 'terrific': 3, 'noticed': 3, 'alarm': 3, 'sidney': 3, 'marks': 3, 'answering': 3, '27': 3, 'saves': 3, 'taught': 3, 'president': 3, 'contraction': 3, 'stealing': 3, 'dial': 3, 'television': 3, 'bumped': 3, 'chan': 3, 'magioni': 3, 'paleontology': 3, 'join': 3, 'forbidden': 3, 'novels': 3, 'evaluation': 3, 'concentrate': 3, 'popular': 3, 'matthews': 3, 'partner': 3, 'flea': 3, 'tons': 3, 'quiet': 3, 'drapes': 3, 'twins': 3, 'fling': 3, 'sugar': 3, 'fortunately': 3, 'poking': 3, 'retract': 3, 'flip': 3, 'ducks': 3, 'clowns': 3, 'acting': 3, 'hollow': 3, 'uterus': 3, 'finals': 3, 'slip': 3, '#': 3, 'stryker': 3, 'worker': 3, 'snack': 3, 'gum': 3, 'hurts': 3, 'neighbors': 3, 'towel': 3, 'lawyer': 3, 'negative': 3, 'keeping': 3, 'du': 3, 'recipe': 3, 'cracking': 3, 'awww': 3, 'normal': 3, 'limit': 3, 'brothers': 3, 'seat': 3, 'gives': 3, 'vent': 3, 'filing': 3, 'friendly': 3, 'smile': 3, 'type': 3, 'bamboozled': 3, 'grip': 3, 'swing': 3, 'greatest': 3, 'sorta': 3, '200': 3, 'fifteen': 3, 'mcdowell': 3, 'amy': 3, 'muscles': 3, 'giant': 3, 'leather': 3, 'puppet': 3, 'forty': 3, 'and-': 3, 'geez': 3, 'problems': 3, 'blame': 3, 'steak': 3, 'scrud': 3, 'dictionary': 3, 'tank': 3, 'gas': 3, 'healthy': 3, 'siadic': 3, 'following': 3, 'postpone': 3, 'waltham': 3, 'mckenna': 3, 'heaven': 3, 'thquirt': 3, 'squeeze': 3, 'strength': 3, 'paris': 3, 'conscious': 3, 'chatracus': 3, 'lift': 3, 'rain': 3, 'freaking': 3, 'staying': 3, 'breasts': 3, 'instructor': 3, 'minister': 3, 'comet': 3, 'bapstein': 3, 'base': 3, 'decision': 3, 'chase': 3, 'i’ll': 3, 'loser': 3, 'thirsty': 3, 'chop': 3, 'sauti': 3, 'gerston': 3, 'santos': 3, 'petrie': 3, 'maitre': 3, 'scottish': 3, 'swedish': 3, 'there\\x92ll': 2, 'certain': 2, 'beg': 2, 'turning': 2, 'seemed': 2, 'war': 2, 'epic': 2, 'suggestions': 2, 'messed': 2, 'dessert': 2, 'buried': 2, 'spirit': 2, 'partying': 2, 'video': 2, 'hug': 2, 'lined': 2, 'hernia': 2, 'indian': 2, 'dinosaurs': 2, 'sum': 2, 'laughing': 2, 'scientists': 2, 'importantly': 2, 'damage': 2, 'diaper': 2, 'caitlin': 2, 'dropping': 2, 'pee': 2, 'awkward': 2, 'common': 2, 'deaf': 2, 'exploded': 2, 'gina': 2, 'lecture': 2, 'marge': 2, 'hint': 2, 'uma': 2, 'thurman': 2, 'feminist': 2, 'charity': 2, 'embarrassing': 2, 'embarrass': 2, 'easily': 2, 'secure': 2, 'yeah\\x97no': 2, 'total': 2, 'wuss': 2, 'discovered': 2, 'lobby': 2, 'charge': 2, 'vic': 2, 'eighth': 2, 'deli': 2, 'pet': 2, 'navy': 2, 'memory': 2, 'tomatoes': 2, 'guru': 2, 'saj': 2, 'waaay': 2, 'league': 2, 'chair': 2, 'era': 2, 'queen': 2, 'von': 2, 'wayne': 2, 'level': 2, 'earlier': 2, 'apologise': 2, 'anniversary': 2, 'promised': 2, 'complement': 2, 'atm': 2, 'ee': 2, 'switched': 2, 'gravy': 2, 'fridge': 2, 'maniac': 2, 'ye': 2, 'adding': 2, 'thin': 2, 'worn': 2, 'internet': 2, 'marrying': 2, 'legitimate': 2, 'member': 2, 'saliva': 2, 'playfully': 2, 'cushion': 2, 'spill': 2, 'exact': 2, 'musta': 2, 'l': 2, 'robe': 2, 'latte': 2, 'pretend': 2, 'sissy': 2, 'hadn\\x92t': 2, 'nowhere': 2, 'virginity': 2, 'yuh': 2, 'invitation': 2, 'finds': 2, 'drag': 2, 'charlton': 2, 'heston': 2, 'oughta': 2, 'bum': 2, 'neat': 2, 'match': 2, 'apart': 2, 'rushed': 2, 'nuclear': 2, 'goods': 2, 'enjoyed': 2, 'create': 2, 'unbelievably': 2, 'nurses': 2, 'harder': 2, 'bachelor': 2, 'shrill': 2, 'mill': 2, 'dealing': 2, 'western': 2, 'this-': 2, 'whatcha': 2, 'checked': 2, 'messages': 2, 'round': 2, 'lap': 2, 'nutmeg': 2, 'professional': 2, 'sailing': 2, '\\x91sup': 2, 'strangers': 2, 'signed': 2, 'kay': 2, 'helping': 2, 'india': 2, 'atlantic': 2, 'square': 2, 'seventh': 2, 'windows': 2, 'betting': 2, 'answers': 2, 'written': 2, 'goalie': 2, 'hairy': 2, 'eligible': 2, 'wig': 2, 'respectfully': 2, 'rocks': 2, 'ignore': 2, 'sunshine': 2, 'sky': 2, 'begin': 2, 'ooohh': 2, 'ec': 2, 'drama': 2, 'de': 2, 'spilled': 2, 'chinese': 2, 'fits': 2, 'chest': 2, 'convinced': 2, 'gorilla': 2, 'pile': 2, 'football': 2, 'nights': 2, 'stuffing': 2, 'they\\x92ll': 2, 'honing': 2, 'dishes': 2, 'grow': 2, 'cook': 2, 'beeps': 2, 'trusted': 2, 'nuh': 2, 'shave': 2, 'impressions': 2, 'butter': 2, 'i-': 2, 'socks': 2, 'lamp': 2, 'ukrainian': 2, 'aid': 2, 'period': 2, 'fantastic': 2, 'r': 2, 'fellow': 2, 'appears': 2, '\\x91bout': 2, 'songs': 2, 'pen': 2, 'draw': 2, 'moustache': 2, 'iced': 2, 'juice': 2, 'fella': 2, 'selfish': 2, 'delicious': 2, '3rd': 2, 'criticism': 2, 'mood': 2, 'killer': 2, 'feast': 2, 'pumpkin': 2, 'difficult': 2, 'penis': 2, 'gang': 2, 'dare': 2, 'blow': 2, 'saint': 2, 'starving': 2, 'lookin\\x92': 2, 'arm': 2, 'spooky': 2, 'ole': 2, 'factory': 2, 'pin': 2, 'waking': 2, 'feeding': 2, 'jingle': 2, 'millionaire': 2, 'nut': 2, 'whip': 2, 'ahead': 2, 'popcorn': 2, 'pushing': 2, 'success': 2, 'disease': 2, 'angry': 2, 'vacation': 2, 'florida': 2, 'krog': 2, 'fully': 2, 'triumph': 2, 'herself': 2, 'baby\\x92s': 2, 'kiki': 2, 'waitressing': 2, 'specials': 2, 'chocolate': 2, 'midnight': 2, 'truck': 2, 'jordie': 2, 'suit': 2, 'sun': 2, 'mountain': 2, 'jogging': 2, 'property': 2, 'lovers': 2, 'thrilled': 2, 'linen': 2, 'motion': 2, 'painful': 2, 'wax': 2, 'satin': 2, 'plaid': 2, 'learning': 2, 'russia': 2, 'waiters': 2, 'chefs': 2, 'audience': 2, 'depressed': 2, 'a.m.': 2, 'bear': 2, 'behaved': 2, 'tuesday': 2, 'balls': 2, 'blackout': 2, 'beginning': 2, 'sheer': 2, 'blouse': 2, 'doctors': 2, 'became': 2, 'yelled': 2, 'routine': 2, 'catching': 2, 'could\\x92ve': 2, '5': 2, 't': 2, 'american': 2, 'forward\\x97stop': 2, 'push': 2, 'ba': 2, 'cheshhh': 2, 'wind': 2, 'airport': 2, 'fabulous': 2, 'maternity': 2, 'hogging': 2, 'july': 2, 'apple': 2, 'cubicle': 2, 'cube': 2, 'indeedy': 2, 'sweep': 2, 'hammer': 2, 'blade': 2, 'why-': 2, 'cruel': 2, 'the-': 2, 'ringing': 2, 'helped': 2, 'deposit': 2, 'assumed': 2, 'alive': 2, '48': 2, 'joan': 2, 'sea': 2, 'large': 2, 'cancelled': 2, 'avoiding': 2, 'flattered': 2, 'sensed': 2, 'apollo': 2, 'sixth': 2, 'stood': 2, 'nicest': 2, 'kicked': 2, 'rapist': 2, 'brochures': 2, 'pl': 2, 'paste': 2, 'situation': 2, 'maria': 2, 'silk': 2, 'theme': 2, 'nipples': 2, 'career': 2, 'gogo': 2, 'bail': 2, 'pathetic': 2, 'needy': 2, 'cha': 2, 'egg': 2, 'muffins': 2, 'exist': 2, 'controls': 2, 'c.h.e.e.s.e.': 2, 'wasting': 2, 'guilty': 2, 'graduated': 2, 'lobster': 2, 'shake': 2, \"i'm-\": 2, 'quack': 2, 'robbie': 2, 'doin': 2, 'plates': 2, '\\x91ya': 2, 'celtics': 2, '\\x91is': 2, 'tiles': 2, 'build': 2, 'unit': 2, 'cinderelly': 2, 'scare': 2, 'kisser': 2, 'supply': 2, 'catering': 2, 'lock': 2, 'gettin\\x92': 2, 'often': 2, 'cilantro': 2, 'hopping': 2, '1,000': 2, 'daily': 2, 'joseph': 2, 'francis': 2, 'conquered': 2, 'physical': 2, 'ultimate': 2, 'champion': 2, 'training': 2, 'designer': 2, 'row': 2, 'beeped': 2, 'spleen': 2, 'stu': 2, 'bald': 2, 'chess': 2, 'soak': 2, 'blazers': 2, 'apologizing': 2, 'ledbetter': 2, 'rejoin': 2, 'donald': 2, '22': 2, '18': 2, 'spelled': 2, 'boobies': 2, 'mint': 2, 'treasures': 2, 'cookie': 2, 'price': 2, 'score': 2, 'disposable': 2, 'groceries': 2, 'report': 2, 'eaten': 2, 'sharp': 2, 'wheel': 2, 'jackass': 2, 'contestants': 2, \"i'll\": 2, 'horse': 2, 'allergies': 2, 'soda': 2, 'mom\\x92s': 2, 'sweety': 2, 'bags': 2, 'refuse': 2, 'tramp': 2, 'faster': 2, 'broom': 2, '*': 2, 'opposite': 2, 'batch': 2, 'dies': 2, 'mailman': 2, 'hurely': 2, 'sucker': 2, 'boarding': 2, 'jacket': 2, 'lens': 2, 'countdown': 2, 'alien': 2, 'suite': 2, 'lounge': 2, 'manly': 2, 'slut': 2, 'brings': 2, 'avenue': 2, 'reasons': 2, 'hardly': 2, 'wife\\x92s': 2, 'nelson': 2, 'grass': 2, 'dingy': 2, 'doubt': 2, 'hamper': 2, 'remove': 2, 'unusual': 2, 'abott': 2, 'cable': 2, 'loan': 2, 'jet': 2, 'helps': 2, 'volunteer': 2, 'pledges': 2, 'performance': 2, 'guts': 2, 'sayin': 2, 'stunning': 2, 'attack': 2, 'connect': 2, '33': 2, 'issues': 2, 'bagel': 2, 'confident': 2, 'manage': 2, 'hardest': 2, '26': 2, 'that\\x92': 2, 'picnic': 2, 'finger': 2, '35': 2, 'walls': 2, 'shorts': 2, 'woman\\x92s': 2, 'man\\x92s': 2, 'awfully': 2, 'application': 2, 'panicked': 2, '\\x9274': 2, 'latour': 2, 'unacceptable': 2, 'punk': 2, 'state': 2, 'mississ': 2, 'nude': 2, 'blades': 2, 'complicated': 2, 'magazines': 2, 'aisle': 2, 'paints': 2, 'charcoal': 2, '41': 2, 'paranoid': 2, 'proposed': 2, 'goose': 2, 'bumps': 2, 'rush': 2, 'chin': 2, 'puff': 2, 'forest': 2, 'forgotten': 2, 'tastes': 2, 'crust': 2, 'hopefully': 2, 'ours': 2, \"c'mere\": 2, 'rough': 2, 'marc': 2, 'forgetting': 2, 'competitive': 2, 'fish': 2, 'fight\\x92s': 2, 'lotion': 2, 'planned': 2, 'howie': 2, 'friend\\x92s': 2, 'hated': 2, 'label': 2, 'search': 2, 'irony': 2, 'benefits': 2, 'lapsed': 2, 'agent': 2, 'rented': 2, 'mention': 2, 'triple': 2, '93': 2, '76': 2, 'barium': 2, 'local': 2, 'laugh': 2, 'las': 2, 'urgent': 2, 'belt': 2, 'lasagne': 2, 'we\\x92d': 2, 'los': 2, 'hopes': 2, 'boots': 2, 'tan': 2, 'opera': 2, 'recent': 2, 'ashamed': 2, 'whom': 2, '8:00': 2, 'neil': 2, 'lasagna': 2, 'fulfilling': 2, 'yikes': 2, 'nooooo': 2, 'accent': 2, 'nanny': 2, 'betty': 2, 'chocolates': 2, 'abort': 2, 'uniform': 2, 'specially': 2, 'project': 2, 'classes': 2, '\\x96': 2, 'sheets': 2, 'cried': 2, 'suggestion': 2, 'potatoes': 2, 'kinds': 2, 'underdog': 2, 'balloon': 2, 'cartoon': 2, 'reached': 2, \"d'you\": 2, 'observe': 2, 'chairs': 2, '45': 2, 'identical': 2, 'study': 2, '2,000': 2, 'testing': 2, 'smells': 2, 'officially': 2, 'stephanie': 2, 'fairly': 2, 'patrick': 2, 'broadway': 2, 'tongue': 2, 'balance': 2, 'tweezers': 2, 'direction': 2, 'south': 2, 'clever': 2, 'ideas': 2, 'wished': 2, 'beating': 2, 'mistakes': 2, 'jerks': 2, 'they\\x92d': 2, 'ballroom': 2, 'whitney': 2, 'mouse': 2, 'hopeless': 2, 'miracle': 2, 'tin': 2, 'might\\x92ve': 2, 'emotional': 2, 'burned': 2, 'intuitive': 2, 'stevie': 2, 'backstage': 2, '9': 2, 'mouthing': 2, 'beans': 2, 'nesele': 2, 'sunday': 2, 'patch': 2, 'lighter': 2, 'thumb': 2, 'knuckle': 2, 'mel': 2, 'aaron': 2, 'tim': 2, 'himself': 2, 'fanny': 2, 'carrying': 2, 'medical': 2, 'terms': 2, 'steal': 2, 'laughed': 2, 'blast': 2, 'naps': 2, 'jew': 2, 'inspector': 2, 'airline': 2, 'employee': 2, 'eater': 2, 'posner': 2, 'designers': 2, 'laid': 2, 'kissing': 2, 'sweaty': 2, 'subtle': 2, 'drum': 2, 'sticks': 2, 'react': 2, 'lilies': 2, 'brownie': 2, 'foosball': 2, 'violated': 2, 'lo': 2, 'helen': 2, 'photos': 2, 'fiancee': 2, 'scooch': 2, 'teaches': 2, 'swimming': 2, 'eggs': 2, 'embryos': 2, 'gumball': 2, 'regatta': 2, \"we'll\": 2, 'monana': 2, 'canvas': 2, 'monet': 2, 'phonetically': 2, 'memorize': 2, 'uses': 2, 'carefully': 2, '23': 2, 'client': 2, 'testify': 2, 'owes': 2, '7.50': 2, 'cursed': 2, 'andie': 2, 'jo\\x92s': 2, 'horoscope': 2, 'lover\\x92s': 2, 'spat': 2, 'psyched': 2, 'tooty': 2, 'weight': 2, 'temporary': 2, '4:00': 2, 'landlord': 2, 'b': 2, 'makin': 2, 'joy': 2, 'practicing': 2, 'seats': 2, 'survived': 2, 'prove': 2, 'oi': 2, 'glen': 2, 'fiancée': 2, 'roommates': 2, 'boles': 2, 'avoid': 2, 'attic': 2, 'given': 2, 'tune': 2, 'purpose': 2, 'growing': 2, \"y'see\": 2, 'co': 2, 'just-': 2, 'guilt': 2, 'vibe': 2, 'overseas': 2, '28': 2, 'mirror': 2, 'leader': 2, 'barley': 2, 'sophisticated': 2, 'cereal': 2, 'flicks': 2, 'pushover': 2, 'albany': 2, 'younger': 2, 'taller': 2, 'science': 2, 'beef': 2, 'stopped': 2, 'worrying': 2, 'caller': 2, 'data': 2, 'pleasant': 2, 'knowing': 2, 'ding': 2, 'elaine': 2, 'slight': 2, 'integrity': 2, 'whoo': 2, 'drops': 2, 'slide': 2, 'happiness': 2, 'weak': 2, 'martin': 2, 'scorcese': 2, 'sat': 2, 'everyone\\x92s': 2, 'burt': 2, 'vision': 2, 'recently': 2, 'comin': 2, 'staten': 2, 'tasted': 2, 'rhonda': 2, 'scott': 2, 'masculine': 2, 'cuter': 2, 'err': 2, 'restaurants': 2, 'pre': 2, 'cecilia': 2, 'liquor': 2, 'loveable': 2, 'thousand': 2, 'expression': 2, 'moms': 2, '&': 2, 'ordinary': 2, 'knives': 2, 'ankle': 2, 'hip': 2, 'liam\\x92s': 2, 'reject': 2, 'revenge': 2, 'bouillabaisse': 2, 'stare': 2, 'speacial': 2, 'crab': 2, 'cakes': 2, 'woowoo': 2, 'jay': 2, 'leno': 2, \"ma'am\": 2, 'tar': 2, 'pipe': 2, 'dunno': 2, 'station': 2, 'tedlock': 2, 'hamburger': 2, 'customers': 2, 'morgan': 2, 'cancellation': 2, 'facility': 2, 'chippy': 2, 'jennifer': 2, 'master': 2, 'poet': 2, 'shadow': 2, 'lip': 2, 'related': 2, 'howdy': 2, 'wa': 2, 'whistle': 2, 'comin\\x92': 2, 'bearnaise': 2, 'convention': 2, 'wrapped': 2, 'traps': 2, 'skip': 2, 'peep': 2, 'huggin\\x92': 2, 'nose': 2, 'grandfather': 2, 'welch': 2, 'mia': 2, 'hamm': 2, 'just\\x97i': 2, 'summer': 2, 'cuba': 2, 'northern': 2, 'bees': 2, 'parade': 2, 'hired': 2, 'swans': 2, 'lemme': 2, 'messing': 2, '717': 2, 'sulk': 2, 'huntley': 2, 'bicep': 2, 'memorial': 2, 'salt': 2, 'simmons': 2, 'company\\x92s': 1, 'transition': 1, 'kl-5': 1, 'gr-6': 1, 'amount': 1, 'detail': 1, 'definite': 1, 'confidence': 1, 'chris': 1, 'betcha': 1, 'vessel': 1, 'emptier': 1, 'interviewed': 1, 'coached': 1, 'ccan': 1, 'ambulance': 1, 'wander': 1, 'nether': 1, 'eternity': 1, 'usual': 1, 'aerobics': 1, 'poster': 1, \"'bout\": 1, 'perk': 1, 'village': 1, 'ish': 1, 'tomorow': 1, 'seek': 1, 'comfort': 1, 'wry': 1, 'respects': 1, 'phobo': 1, 'phewbedo': 1, 'phaybobo': 1, 'auditions': 1, 'blinding': 1, 'lifting': 1, 'weights': 1, 'passed': 1, 'to\\x97you': 1, 'sticking': 1, '15s': 1, 'eighteenth': 1, 'artifact': 1, 'calcutta': 1, 'homo': 1, 'erectus': 1, 'hum': 1, 'paleontologist': 1, 'keynote': 1, 'speaker': 1, 'professore': 1, 'academics': 1, 'sand': 1, 'flood': 1, 'bash': 1, 'lima': 1, 'bean': 1, 'bubbling': 1, 'forth': 1, 'erin': 1, 'calms': 1, 'peaceful': 1, 'nodded': 1, 'insecure': 1, 'constantly': 1, 'reassure': 1, 'airplane': 1, 'dwha': 1, '\\x91see': 1, 'saturday\\x92': 1, 'pa': 1, 'haa': 1, 'monger': 1, 'nailed': 1, 'foxtrot': 1, 'tango': 1, 'wracking': 1, 'callbacks': 1, \"we're\": 1, 'nose\\x97i': 1, 'concussion': 1, 'sensing': 1, 'controlled': 1, 'glee': 1, 'recover': 1, 'elizabeth\\x92s': 1, 'wh\\x97excuse': 1, 'matt': 1, 'lauer\\x92s': 1, 'cleaned': 1, 'ooooohh': 1, 'scouts': 1, 'camped': 1, 'ooo': 1, 'moral': 1, 'obligation': 1, 'oop': 1, 'event': 1, 'hilarious': 1, 'hundreds': 1, 'rode': 1, 'faced': 1, 'fears': 1, 'ultimately': 1, 'overcame': 1, 'minsk': 1, 'permanently': 1, 'achieve': 1, 'positronic': 1, 'distillation': 1, 'subatomic': 1, 'particles': 1, 'options': 1, 'prototypes': 1, 'mushroom': 1, 'cap': 1, 'bologna': 1, 'toothpicks': 1, 'people\\x92s': 1, 'mashuga': 1, 'tasty': 1, 'adrienne\\x92s': 1, 'victor': 1, 'onion': 1, 'character\\x92s': 1, 'rookie': 1, 'greg': 1, 'jenny': 1, 'souvenirs': 1, 'poisoning': 1, 'number\\x92s': 1, 'bazida': 1, 'mortician': 1, 'yard': 1, 'ships': 1, \"y'ever\": 1, \"d'know\": 1, \"y'haven't\": 1, 'dick': 1, 'shampoo': 1, 'mesozoic': 1, '21st': 1, 'yess': 1, 'zack': 1, 'low': 1, 'courtside': 1, 'anvil': 1, 'aim': 1, 'babes': 1, 'immodest': 1, 'whiff': 1, 'frowned': 1, 'upon': 1, 'judgey': 1, 'holierthanthou': 1, 'reputation': 1, 'mcnailshisstudents': 1, 'block': 1, 'thursday': 1, 'keystone': 1, 'caplin': 1, 'rumors': 1, 'stressed': 1, 'swore': 1, 'gods': 1, 'sock': 1, 'forcing': 1, 'numb': 1, 'nuts\\x97oh': 1, 'bobby\\x92s': 1, 'gangster': 1, 'rap': 1, 'visiting': 1, 'victoria': 1, 'model': 1, 'trapped': 1, 'og': 1, 'snooty': 1, 'stocked': 1, 'donut': 1, 'conclusion': 1, '8:30': 1, 'joel': 1, 'burg': 1, 'briefcase': 1, 'basis': 1, 'freakish': 1, 'hanger': 1, 'batman\\x92s': 1, 'expressly': 1, 'val': 1, 'kilmer': 1, 'batman': 1, 'bond\\x92s': 1, 'so\\x97if': 1, 'ordained': 1, 'weddings': 1, 'legal': 1, 'clergy': 1, 'passion': 1, 'rubs': 1, 'dot': 1, 'ink': 1, 'sofa': 1, 'cushions': 1, 'spaghetti': 1, 'homeless': 1, 'know\\x97well': 1, 'denise': 1, 'secretly': 1, 'counted': 1, 'watchin': 1, 'hire': 1, 'espresso': 1, 'brutal': 1, 'willing': 1, 'travelling': 1, 'handing': 1, '2,100': 1, 'chickeeeen': 1, 'initiated': 1, 'danger': 1, 'waste': 1, 'olivia': 1, 'extras': 1, 'scenes': 1, 'please!honey': 1, 'god!is': 1, 'christian': 1, 'sanders?he': 1, 'bitten': 1, 'peacock': 1, 'rsvp': 1, 'veil': 1, 'kurt': 1, 'douglas': 1, 'doooo': 1, 'pep': 1, 'rally': 1, 'pyramid': 1, 'anyway\\x97umm': 1, 'marijuana': 1, 'cigarettes': 1, 'dubbies': 1, 'ripped': 1, 'microphones': 1, '6:00': 1, 'holocaust': 1, 'earth': 1, 'ennnh': 1, 'canned': 1, 'dug': 1, 'occasional': 1, 'ing': 1, 'binge': 1, 'position': 1, 'buyer': 1, 'effective': 1, 'expense': 1, 'cliché': 1, 'cheeks': 1, 'bossy': 1, 'domineering': 1, 'sloppy': 1, 'immature': 1, 'cousin': 1, 'obsessive': 1, 'voices': 1, 'hamilton': 1, 'rear': 1, 'backpacking': 1, 'hmm\\x97wait': 1, 'studied': 1, 'foothills': 1, 'mount': 1, 'tibidaybo': 1, 'filter': 1, 'tipped': 1, 'error': 1, 'credited': 1, 'inconvenience': 1, 'copies': 1, 'really\\x97i': 1, 'panties': 1, 'exotic': 1, 'vermont': 1, 'daiquiris': 1, 'virgin': 1, 'carpet': 1, 'what\\x97y\\x92know': 1, 'layman': 1, 'arrogance': 1, 'unable': 1, 'to\\x97i': 1, 'huh\\x97hmm': 1, 'incident': 1, 'scale': 1, 'dumbest': 1, 'everybody\\x92s': 1, 'appointments': 1, 'greasy': 1, 'puzzle\\x97beer': 1, 'we-': 1, 'faeces': 1, 'videos': 1, 'museums': 1, 'version': 1, 'gooooood': 1, 'racecar': 1, 'velula': 1, 'wins': 1, 'daydreaming': 1, 'outer': 1, 'taj': 1, 'mahal': 1, 'slots': 1, 'grope': 1, 'parallel': 1, 'stairway': 1, 'counting': 1, 'lightning': 1, 'begins\\x97stop': 1, '\\x97now': 1, 'hockey': 1, 'claims': 1, 'dangerous': 1, 'liaisons': 1, 'bernie\\x92s': 1, 'phase': 1, 'realised': 1, 'given\\x92': 1, 'topic': 1, 'ruth': 1, 'plain': 1, 'ain\\x92t': 1, 'disarray': 1, 'flung': 1, 'physically': 1, 'depending': 1, 'species': 1, 'alumni': 1, 'reads': 1, 'fossil': 1, 'samples': 1, 'steps': 1, 'entirely': 1, 'giiiiiiift': 1, 'drying': 1, 'rod': 1, 'horribly': 1, 'traumatised': 1, 'mommy': 1, 'clock\\x92s': 1, 'ambitious': 1, 'here\\x97': 1, 'pyjama': 1, 'stating': 1, 'ohhhhh': 1, 'mustard': 1, 'tastrophe': 1, 'plague': 1, 'houses': 1, 'clawing': 1, 'cats': 1, 'ooh\\x97hey': 1, 'donuts': 1, 'odour': 1, 'transit': 1, 'authority': 1, 'carseat': 1, 'onto': 1, 'stroller': 1, 'ah\\x97\\x97whoa': 1, 'introducing': 1, 'applied': 1, 'fierce': 1, \"but\\x97i'm\": 1, 'applaud': 1, 'intended': 1, 'admitted': 1, 'friendship': 1, 'farrell': 1, 'overheard': 1, 'ot': 1, 'bigot': 1, 'tests': 1, 'learners': 1, 'essay': 1, 'documents': 1, 'toss': 1, 'shedder': 1, 'claim': 1, 'mexico': 1, 'national': 1, 'sundays': 1, 'danielle': 1, 'telescope': 1, 'creeps': 1, 'spatters': 1, 'watched': 1, 'pot': 1, 'hasn\\x92t': 1, '\\x91okay': 1, 'pheebs\\x92': 1, 'saddest': 1, 'camper': 1, 'minimal': 1, 'rethink': 1, 'underwear\\x97you': 1, 'fabric': 1, 'softener': 1, 'adventure': 1, 'delvecchio': 1, 'imagination': 1, 'split': 1, 'hibachi': 1, 'affect': 1, 'form': 1, 'ms': 1, 'grant': 1, 'accidentally': 1, 'valuable': 1, 'her-': 1, '-leg': 1, 'steer': 1, 'ju-': 1, 'real-': 1, 'g': 1, 'girlie': 1, 're': 1, 'wired': 1, 'stereo': 1, 'disturbing': 1, 'belongs': 1, 'bitter': 1, 'chapter': 1, 'peek': 1, '’re': 1, 'clicked': 1, 'spoil': 1, 'whazzup': 1, 'molly': 1, 'tellin\\x92': 1, 'complex': 1, 'unlikely': 1, 'geeky': 1, 'think-': 1, 'vulnerability': 1, 'factor': 1, 'here\\x97but': 1, '29': 1, 'savings': 1, 'focusing': 1, 'consider': 1, 'length': 1, 'rope': 1, 'nouse': 1, 'grace': 1, 'rhyming': 1, 'styles': 1, 'beside': 1, 'meeeee': 1, 'eeee': 1, 'song\\x92s': 1, 'partners': 1, '\\x91look': 1, 'meaning\\x92': 1, \"it's\": 1, 'doodle': 1, 'besides': 1, 'busty': 1, 'general': 1, 'ment': 1, 'brilliant': 1, 'sincerely': 1, 'wisely': 1, 'radio\\x92s': 1, '1st': 1, '2nd': 1, 'particular': 1, 'superb': 1, 'complaint': 1, 'please!i': 1, 'traditional': 1, 'grilled': 1, 'fixin': 1, 'funyuns': 1, \"havin'\": 1, 'magnificent': 1, 'vividly': 1, 'mouthful': 1, 'reverse': 1, 'ups': 1, 'nana': 1, 'java': 1, '1939': 1, '24': 1, 'nono': 1, 'poison': 1, 'involved': 1, 'mature': 1, 'presenter': 1, 'category': 1, 'returning': 1, 'nominees': 1, 'wheeler': 1, 'aquarius': 1, 'gemini': 1, 'taurus': 1, 'virgo': 1, 'sagittarius': 1, 'meantime': 1, 'bernard': 1, 'hear\\x97\\x97mother': 1, 'jan': 1, 'contracting': 1, 'wide': 1, 'pelvis': 1, 'unwitting': 1, 'essence': 1, 'anyone\\x92s': 1, 'crawl': 1, 'meddled': 1, 'according': 1, 'da': 1, 'sparkly': 1, 'wonerful': 1, 'capades': 1, 'wooo': 1, 'matador': 1, 'happenin': 1, 'stupider': 1, 'medieval': 1, 'nighttime': 1, 'antique': 1, 'fortune': 1, 'ridiculously': 1, 'crystal': 1, 'f': 1, 'flennin': 1, 'depressing': 1, 'soft': 1, 'pretzel': 1, 'id': 1, 'bras': 1, \"do\\x97y'know\": 1, 'be\\x97okay': 1, 'jurassic': 1, 'scarf': 1, 'tucked': 1, 'ewww': 1, 'ezels': 1, 'campaign': 1, 'caf': 1, 'hazel': 1, 'non': 1, 'foam': 1, 'missy': 1, 'alternate': 1, 'crawler': 1, 'raised': 1, 'awareness': 1, 'doorknob': 1, 'grows': 1, 'spring': 1, 'adorable': 1, 'equipped': 1, 'destroy': 1, 'fourteen': 1, 'protected': 1, 'tornado': 1, 'dreamless': 1, 'dirt': 1, 'dumping': 1, 'reality': 1, 'job-': 1, 'artelle': 1, 'blobbies': 1, 'cleansing': 1, 'firemen': 1, 'cramps': 1, 'voulez': 1, 'vous': 1, 'coucher': 1, 'avec': 1, 'moi': 1, 'ce': 1, 'soir': 1, 'cafe': 1, 'maurice': 1, 'fascinated': 1, 'talky': 1, 'golden': 1, 'menu': 1, 'silently': 1, 'airhead': 1, 'forgets': 1, 'picture\\x97i': 1, 'churo': 1, 'paulette': 1, 'vincent': 1, 'soaked': 1, 'judy': 1, 'diaphragm': 1, 'chew': 1, 'halloween': 1, 'withdrawal': 1, 'applying': 1, 'grasp': 1, '\\x91easy': 1, 'tab\\x92': 1, 'zine': 1, 'nighties': 1, 'nerves': 1, 'deadened': 1, 'bikini': 1, 'kilt': 1, 'skirt': 1, 'knee': 1, 'someone\\x92s': 1, 'haircut': 1, 'thirty': 1, 'guides': 1, 'alley': 1, 'wave': 1, 'butternut': 1, 'squash': 1, 'squatternut': 1, 'buash': 1, 'reliving': 1, 'indians': 1, 'i\\x97y\\x92know': 1, 'tad': 1, 'edgy': 1, 'parents\\x92': 1, 'ette': 1, 'papers': 1, 'chewed': 1, 'trap': 1, 'chewing': 1, 'harassment': 1, 'cases': 1, 'urine': 1, 'cuts': 1, 'emeril': 1, 'broiling': 1, 'pan': 1, 'caterpillars': 1, 'william': 1, 'sonoma': 1, 'champ': 1, 'battery': 1, 'skimp': 1, '112': 1, '110': 1, 'mingle': 1, 'ease': 1, 'solider': 1, 'tommy': 1, 'wingman': 1, 'buds': 1, 'frat': 1, 'bros': 1, 'lobbing': 1, 'yellow': 1, 'method': 1, 'chord': 1, '7143457': 1, 'lecturer': 1, 'layering': 1, 'fabrics': 1, 'colours': 1, 'instance': 1, 'schemp': 1, 'deadline': 1, 'fundamentally': 1, 'unmarriable': 1, 'parachute': 1, 'knapsack': 1, 'dressy': 1, 'merry': 1, 'platform': 1, 'millennium': 1, '\\x91cut!\\x92': 1, 'update': 1, '\\x91cos': 1, 'stronger': 1, 'scarves': 1, 'tulip': 1, 'londoners': 1, 'tourists': 1, 'poems': 1, 'back\\x97stop': 1, 'wedged': 1, 'soooo': 1, 'mini': 1, 'van': 1, 'neutral': 1, 'haul': 1, '2030': 1, 'computers': 1, 'functions': 1, 'theoretically': 1, 'download': 1, 'interfacing': 1, 'bumb': 1, 'stays': 1, 'bernoulli': 1, 'principle': 1, 'newton': 1, 'aaargh': 1, 'slutty': 1, 'lingerie': 1, 'hurtin': 1, 'skidmark': 1, 'overdue': 1, 'apology': 1, 'overweight': 1, 'ni': 1, 'chou': 1, 'stroke': 1, 'tingly': 1, 'hickey': 1, 'speaks': 1, 'held': 1, 'but\\x97okay': 1, 'scores': 1, 'winning': 1, 'roast': 1, 'pizzas': 1, 'just\\x97there\\x92s': 1, 'thinkers': 1, 'leaders': 1, 'peeing': 1, 'brush': 1, 'lid': 1, 'oke': 1, 'dokey': 1, 'per': 1, 'se': 1, 'interactive': 1, 'wildlife': 1, 'animals': 1, 'docile': 1, 'cornered': 1, 'objects': 1, 'banana': 1, 'jungle': 1, 'horns': 1, 'rabbit': 1, 'gains': 1, 'specimen': 1, 'process': 1, 'allow': 1, 'haha': 1, 'hyphen': 1, 'bicentennial': 1, 'felon': 1, 'fallin': 1, 'shiny': 1, 'chad': 1, 'miserable': 1, 'seahorse': 1, 'seahorses': 1, 'toward': 1, '.what\\x92s': 1, 'terrified': 1, 'goofin': 1, 'leedbetter': 1, 'namesake': 1, 'clamed': 1, '\\x93aww': 1, 'sucks!\\x94': 1, 'entering': 1, 'puppies': 1, 'wound': 1, 'exposed': 1, 'sexually': 1, 'lover': 1, 'satisfy': 1, 'fulfill': 1, 'eel': 1, 'replica': 1, 'sends': 1, 'orbit': 1, 'captain': 1, 'cupid': 1, 'dwarf': 1, 'clark': 1, 'happier': 1, 'ceremony': 1, 'reinforcements': 1, 'rape\\x97': 1, 'tiffany': 1, 'a\\x97ah': 1, 'pays': 1, 'this\\x97ah': 1, 'stripper\\x92s': 1, 'just\\x97if': 1, 'matches': 1, 'timing': 1, 'fires': 1, 'gossiping': 1, 'havin\\x92': 1, 'diets': 1, 'moderation': 1, 'understood': 1, 'unbearable': 1, 'tequila': 1, 'partly': 1, 'lesson': 1, 'session': 1, '1200': 1, 'lycra': 1, 'spandex': 1, 'dared': 1, 'briefs': 1, 'flap': 1, 'heels': 1, 'posture': 1, 'lumberjack': 1, 'lacys': 1, 'masculinity': 1, 'lusts': 1, 'nursing': 1, 'emma': 1, 'yowsa': 1, 'lord': 1, 'suity': 1, 'pillman': 1, 'counselor': 1, 'added': 1, 'but\\x97come': 1, 'vulnerable': 1, 'ching': 1, 'sung': 1, 'authorized': 1, 'distribute': 1, 'just\\x97y\\x92know': 1, 'reciprocate': 1, 'blessing': 1, 'meaningless': 1, 'surrounded': 1, 'charm': 1, 'mistaken': 1, 'badly': 1, 'that\\x97it\\x92s': 1, 'convince': 1, 'ravioli': 1, '-she': 1, 'she-': 1, 'supportive': 1, 'opens': 1, 'flame': 1, 'snow': 1, 'knick': 1, '.......': 1, 'ewing': 1, 'rebuilding': 1, 'waah': 1, 'aa': 1, 'gimme-': 1, 'costalano': 1, 'choking': 1, 'retainer': 1, 'hating': 1, 'sweating': 1, 'punches': 1, 'devil': 1, 'satan': 1, 'smock': 1, 'd.d.s.': 1, 'robert\\x92s': 1, 'lose?\\x92': 1, 'me?\\x92': 1, 'complementary': 1, 'climbing': 1, 'retiling': 1, 'yo': 1, 'spackel': 1, 'lay': 1, 'copying': 1, '........': 1, 'issac\\x92s': 1, 'd.j.-ing': 1, 'philly': 1, 'champagne': 1, 'anniversaries': 1, 'lasts': 1, 'fantasy': 1, 'fantasies': 1, 'sour': 1, 'sneak': 1, 'cockpit': 1, 'stewardess': 1, 'trial': 1, 'supplies': 1, 'blouses': 1, 'dresses': 1, 'purses': 1, 'bloomingdale\\x92s': 1, 'okayyyyy': 1, 'paint': 1, 'sword': 1, 'replace': 1, 'baguette': 1, 'balded': 1, 'y': 1, 'nnnnn': 1, 'g\\x92night': 1, 'key\\x92s': 1, '98': 1, '90/10': 1, 'wh\\x97no': 1, 'tennille': 1, 'reporter': 1, 'influence': 1, 'dozens': 1, 'case\\x97\\x97yay': 1, 'callin\\x92': 1, '92.3': 1, 'wxrk': 1, 'k': 1, 'challenge': 1, 'karen': 1, 'tron': 1, 'ditch': 1, 'possibility': 1, 'girlfriends': 1, 'intellectual': 1, 'missing': 1, 'conquer': 1, 'banned': 1, '49': 1, 'trainer': 1, 'koon': 1, 'doe': 1, 'brazilian': 1, 'octagon': 1, 'designed': 1, 'ruptured': 1, 'joked': 1, 'shows': 1, 'morse': 1, 'lied': 1, 'risky': 1, 'frozen': 1, 'lake': 1, 'mask': 1, 'cameron': 1, 'diaz': 1, 'sabotage': 1, 'jill\\x92s': 1, 'gate': 1, 'packing': 1, 'trench': 1, 'bums': 1, 'genuinely': 1, 'fort': 1, 'danced': 1, 'fallen': 1, 'furnished': 1, 'rage': 1, 'i\\x97what': 1, '12': 1, 'cutting': 1, 'seventeen': 1, '\\x91laser': 1, 'floyd\\x92': 1, 'planetarium': 1, 'occurred': 1, '\\x91the': 1, 'munchies.\\x92': 1, 'nyu': 1, 'dorms': 1, 'envelope': 1, 'stuffers': 1, 'stamp': 1, 'lickers': 1, 'resumes': 1, 'eclipse': 1, 'soaps': 1, 'shampoos': 1, 'need\\x97\\x97what': 1, 'cake': 1, 'murray': 1, 'handed': 1, 'yugoslavian': 1, 'not\\x97that\\x92s': 1, 'milan': 1, 'respond': 1, 'superiors': 1, 'l.a': 1, 'after\\x97i': 1, 'lyin\\x92': 1, 'leeeeean': 1, 'dragon': 1, 'triscadecaphobia': 1, 'edges': 1, 'entitled': 1, 'angel': 1, 'losing': 1, 'losers': 1, 'spin': 1, 'google': 1, 'think\\x97oh': 1, 'gimmie': 1, 'flirting': 1, 'flirt': 1, 'ewwuck': 1, 'graceful': 1, 'visit': 1, 'dried': 1, 'seashores': 1, 'abandoner': 1, 'custard': 1, 'goooooood': 1, 'licence': 1, 'revoked': 1, 'slips': 1, 'no!you': 1, 'cotton': 1, 'lifeguards': 1, 'dismantle': 1, 'care\\x97i': 1, 'offered': 1, 'fran': 1, 'wenus': 1, 'whooooaaaa': 1, 'picky': 1, 'grieve': 1, 'wholesale': 1, 'socket': 1, 'tinted': 1, 'brownies': 1, 'tooth': 1, 'invisible': 1, 'dentists': 1, 'hygienist\\x92s': 1, '\\x91albino': 1, 'bob\\x92.': 1, 'oral': 1, 'hygiene': 1, 'floss': 1, 'coincidence': 1, 'dreadful': 1, 'acted': 1, 'england': 1, 'celebrities': 1, 'spots': 1, 'forgiving': 1, 'sarandon': 1, 'political': 1, 'donated': 1, 'cans': 1, 'geography': 1, 'jetway': 1, 'i\\x97he': 1, 'federal': 1, 'regulations': 1, 'beats': 1, 'receive': 1, 'doubling': 1, 'bonus': 1, '100': 1, '1,500': 1, 'get\\x97no': 1, 'somehow': 1, 'presenting': 1, 'tuttle\\x92s': 1, 'mission': 1, 'asteroid': 1, '37135': 1, 'fraid': 1, 'kiddin': 1, 'aaaah': 1, 'wonderfulness': 1, 'creepy': 1, 'screwing': 1, 'handshake': 1, 'that\\x97i': 1, 'greely\\x92s': 1, 'theory': 1, 'dominance': 1, 'freeman': 1, 'a.': 1, 'graduate': 1, 'seminar': 1, 'sounded': 1, 'schmair': 1, 'superstar': 1, 'pouring': 1, 'feasted': 1, 'closet': 1, 'don\\x92t\\x97whoa': 1, 'god\\x97ow!\\x97oo': 1, 'crushing': 1, 'bones': 1, 'ouch': 1, 'constructive': 1, 'solution': 1, 'chalk': 1, 'lesbian': 1, 'headin\\x92': 1, '1982': 1, 'hardware': 1, 'redo': 1, 'highly': 1, 'inch': 1, 'glued': 1, 'pry': 1, 'gouged': 1, 'surgeons': 1, 'colon': 1, 'tummy': 1, 'purred': 1, 'jeez': 1, 'heck': 1, 'the\\x97that': 1, '\\x91hi!\\x92': 1, 'homesick': 1, 'lads': 1, 'babe': 1, 'scrum': 1, 'gorgeous': 1, 'kind\\x92ve': 1, 'bedrooms': 1, 'baths': 1, 'erwin\\x92s': 1, 'skinny': 1, 'sunglasses': 1, 'radio': 1, 'holds': 1, 'stealer': 1, 'spaceship': 1, 'stung': 1, 'joshua\\x92s': 1, 'style\\x97what': 1, 'victorian': 1, 'doorknobs': 1, 'cupert': 1, 'hewitt': 1, 'dragged': 1, 'ornate': 1, 'ninth': 1, 'finest': 1, 'oak': 1, 'east': 1, 'mississippi': 1, 'prettiest': 1, 'lace': 1, 'craftsmanship': 1, 'gepeto': 1, '5,000': 1, '300': 1, 'changing': 1, 'offer': 1, 'profit': 1, 'accountant': 1, 'shark': 1, 'crossword': 1, 'dots': 1, 'maroon': 1, 'comedy': 1, 'petite': 1, 'wee': 1, 'mute': 1, 'jewelry': 1, 'neurologist': 1, 'comprehensive': 1, 'overview': 1, 'status': 1, 'response': 1, 'clifford': 1, 'burnett': 1, 'november': 1, '16': 1, 'based': 1, 'mathematician': 1, 'widower': 1, 'muriel': 1, 'draddle': 1, 'rhymes': 1, 'pole': 1, 'breaths': 1, 'atmosphere': 1, 'sidestep': 1, 'mazel': 1, 'tov': 1, 'uptown': 1, 'was\\x97if': 1, 'racist': 1, 'positive': 1, 'trading': 1, 'zinfandel': 1, 'closest': 1, 'angelica': 1, 'noooooooo': 1, 'bask': 1, 'kissey': 1, 'meaning': 1, 'european': 1, \"just\\x97y'know\\x97stop\": 1, 'culture': 1, 'puke': 1, 'grabs': 1, 'cheered': 1, 'wisdom': 1, 'wha\\x97what': 1, 'river': 1, 'coast': 1, 'coast\\x92s': 1, 'yo\\x97you': 1, 'else\\x92s': 1, 'ceilings': 1, 'sage': 1, 'branches': 1, 'sacramental': 1, 'oregano': 1, 'semen': 1, 'righteous': 1, 'ritual': 1, 'ritter': 1, 'receipt': 1, 'nokululu': 1, 'oon': 1, 'scotty': 1, 'jared': 1, 'paulo': 1, 'grappa': 1, 'salmon': 1, 'sets': 1, 'slash': 1, 'bathtub': 1, 'sooo': 1, 'skedaddle': 1, 'highness': 1, 'loaner': 1, 'helper': 1, 'imaginary': 1, 'lafite': 1, 'nicely': 1, 'damaged': 1, 'zillionaire': 1, 'dakota': 1, 'zip': 1, 'something\\x92s': 1, '\\x93hey': 1, 'nudes,\\x94': 1, '\\x93nah': 1, 'place.\\x94': 1, 'roller': 1, 'shrink': 1, 'stumble': 1, 'item': 1, 'j437-a': 1, 'winterberry': 1, 'herbal': 1, 'savory': 1, 'resist': 1, 'brides': 1, 'donna': 1, 'carin': 1, 'clubbing': 1, 'imagining': 1, 'guests': 1, 'journal': 1, 'drawings': 1, 'colors': 1, 'access': 1, 'so\\x92s': 1, 'math': 1, 'paths': 1, 'stayed': 1, 'random': 1, 'intimidated': 1, 'bore': 1, 'manipulative': 1, 'doors': 1, \"just\\x97i'll\": 1, 'adjustment': 1, 'progress': 1, 'removal': 1, 'glaucoma': 1, 'haunt': 1, 'tick': 1, 'step': 1, 'cubby': 1, 'max': 1, 'snug': 1, 'sergio': 1, 'valente\\x92s': 1, 'delivered': 1, 'buttery': 1, 'crumbly': 1, 'graham': 1, 'cracker': 1, 'filling': 1, 'filled': 1, 'tempted': 1, 'momma\\x92s': 1, 'bakery': 1, 'scooter': 1, 'hill': 1, 'tracks': 1, 'boobie': 1, 'payback': 1, 'express': 1, 'silence': 1, 'lambs': 1, 'specifically': 1, 'ah-': 1, 'rubber': 1, 'glue': 1, \"whatever\\x97\\x97can't\": 1, 'er': 1, 'sandra\\x92s': 1, 'very\\x97really': 1, 'julie\\x92s': 1, 'dilated': 1, 'fingers': 1, 'compare': 1, 'interrupting': 1, 'fed': 1, '\\xa0  ': 1, 'bridal': 1, 'al': 1, 'ruined': 1, 'sur': 1, 'raining': 1, 'bright': 1, 'paleontologists': 1, 'shirts': 1, 'others': 1, 'punched': 1, 'clunked': 1, 'massager': 1, 'reach': 1, 'originated': 1, 'aroma': 1, 'giraffe\\x92s': 1, 'pirate': 1, 'foster': 1, 'puppets': 1, 'pete\\x92s': 1, 'interviewing': 1, 'opponent': 1, 'trains': 1, 'iran': 1, 'thieves': 1, 'capable': 1, 'burger': 1, 'slap': 1, 'conducting': 1, 'experiment': 1, 'smack': 1, 'websites': 1, 'website': 1, 'unnecessary': 1, 'government': 1, 'tabs': 1, 'branching': 1, 'solidify': 1, 'declare': 1, 'bowmont\\x92s': 1, 'howie\\x92s': 1, 'editing': 1, 'edit': 1, 'spoken': 1, 'refill': 1, 'she\\x97well': 1, 'don': 1, 'janet': 1, 'officer\\x97fireman': 1, 'wrap': 1, 'blanket': 1, 'you\\x97okay': 1, 'warrant': 1, 'reattach': 1, 'disconnect': 1, 'circle': 1, 'hoop': 1, 'pointing': 1, 'doorman-': 1, 'peeper': 1, 'nngghhh': 1, 'heating': 1, 'radiator': 1, 'rdtor': 1, 'heyy': 1, 'screen': 1, 'actor\\x92s': 1, 'guild': 1, 'residual': 1, 'expired': 1, 'boats': 1, 'viking': 1, 'moist': 1, 'surefire': 1, 'talker': 1, 'tissues': 1, 'freemont': 1, 'west': 1, 'westmont': 1, 'westburg': 1, 'drove': 1, 'enema': 1, 'wonderment': 1, 'gaze': 1, 'drowning': 1, 'moron': 1, '80': 1, 'guarantee': 1, 'deals': 1, 'locked': 1, 'shook': 1, 'seal': 1, 'matthew': 1, 'perry': 1, 'signs': 1, 'gambler': 1, 'sweats': 1, 'press': 1, 'whoa\\x97hey\\x97wh': 1, 'sliver': 1, 'other\\x92s': 1, 'hometowns': 1, '\\x85   ': 1, 'nothing\\x97why': 1, 'classroom': 1, 'students': 1, 'picturing': 1, 'candels': 1, 'lit': 1, 'midterms': 1, \"that's\": 1, 'countries': 1, 'tone': 1, 'to\\x97whoa': 1, 'dogs': 1, 'lag': 1, 'flies': 1, 'angeles': 1, 'loses': 1, 'touching': 1, 'cell': 1, 'rang': 1, 'features': 1, 'handbag': 1, 'puzzler': 1, 'puzzle': 1, 'contracts': 1, 'genitals': 1, 'phones': 1, 'noisy': 1, 'passin\\x92': 1, 'phew': 1, 'networks': 1, 'broadcast': 1, 'nudity': 1, 'denis': 1, 'franz': 1, 'rocked': 1, 'globe': 1, 'united': 1, 'knitting': 1, 'knit': 1, 'careers': 1, 'advised': 1, 'role': 1, 'homosexually': 1, 'auditioned': 1, 'contract': 1, 'luchhi': 1, 'daytime': 1, 'unexpected': 1, 'nominated': 1, 'simon': 1, 'wait\\x97oh\\x97hey\\x97huh': 1, 'sorts': 1, 'closes': 1, 'realilized': 1, 'duh': 1, 'judgmental': 1, 'destiny': 1, 'fulfilled': 1, 'ageist': 1, 'fresh': 1, 'chipper': 1, \"they're-\": 1, 'napping': 1, 'whaddya': 1, 'shy': 1, 'then-': 1, 'do-': 1, 'preppy': 1, 'understanding': 1, 'flattery': 1, 'dismiss': 1, 'draft': 1, 'wynona': 1, 'rider': 1, 'ironic': 1, 'goofy': 1, 'listener': 1, 'trays': 1, 'floopy': 1, 'nonsense': 1, 'english': 1, 'permanent': 1, 'organize': 1, 'plural': 1, 'allright': 1, 'stable': 1, 'obstacles': 1, 'mediocre': 1, 'zelner\\x92s': 1, 'lure': 1, 'distract': 1, 'anything\\x97minute': 1, 'finding': 1, 'iron': 1, 'steel': 1, 'operators': 1, 'schools': 1, 'chip\\x92s': 1, 'motorcycle': 1, 'letterman': 1, 'wore': 1, 'mascot': 1, 'mellow': 1, 'hey\\x97ooh': 1, 'loosen': 1, 'strings': 1, 'mena': 1, 'unattractive': 1, 'laying': 1, 'someday': 1, 'bathrooms': 1, 'spice': 1, 'is\\x97it\\x92s': 1, 'threesome': 1, 'diner': 1, 'skates': 1, 'cocoa': 1, 'lumps': 1, 'whipped': 1, 'add': 1, 'peas': 1, 'onions': 1, '80-foot': 1, 'inflatable': 1, 'lotsa': 1, \"d'y'see\": 1, 'yoghurt': 1, 'containers': 1, 'uncoordinated': 1, 'adjoining': 1, 'corneas': 1, 'reserve': 1, 'donate': 1, 'fluids': 1, 'cycles': 1, 'applicants': 1, 'studies': 1, 'participate': 1, 'effects': 1, 'receptionists': 1, 'potato': 1, 'chips': 1, 'oven': 1, 'crumbies': 1, 'monkey': 1, 'wiped': 1, 'biggie': 1, 'platforms': 1, 'taping': 1, 'underpants': 1, 'dancer': 1, 'loosened': 1, 'hips': 1, 'rhythm': 1, 'y\\x92think': 1, 'up\\x92s': 1, 'deliveries': 1, 'description': 1, 'ummmmmmmm': 1, 'get\\x97oh': 1, 'date\\x97oh': 1, 'dinner\\x92s': 1, 'fried': 1, 'lot\\x92s': 1, 'inflate': 1, 'flopping': 1, 'cocktails': 1, 'appalachia': 1, 'ear': 1, 'rambunctious': 1, \"it's\\x97not\": 1, 'graduation': 1, 'surrogate': 1, 'cufflinks': 1, 'pulse': 1, 'saucy': 1, 'electrical': 1, 'judging': 1, 'mister': 1, 'pinching': 1, 'explanation': 1, 'pinchable': 1, 'bulging': 1, 'biceps\\x97she': 1, 'wrestle': 1, 'manuver': 1, 'hangs': 1, 'poke': 1, 'higher': 1, 'angle': 1, 'approaching': 1, 'gonna\\x97': 1, 'pervert': 1, 'pat': 1, 'sajak': 1, 'alex': 1, 'trebek': 1, 'woolery': 1, 'eyelash': 1, 'curler': 1, 'oohh': 1, 'ohhhhhhhhhhh': 1, 'thomas': 1, 'gobb': 1, 'assign': 1, 'tricks': 1, 'convey': 1, 'basic': 1, '\\x91i': 1, 'fishhook': 1, 'eyebrow': 1, 'it\\x92': 1, 'divide': 1, '232': 1, 'dismissed': 1, 'trib': 1, 'winter': 1, 'c\\x92mon': 1, 'azzz': 1, 'bench': 1, 'directly': 1, 'assuming': 1, 'nurturing': 1, 'congratu': 1, '-lations': 1, 'lations': 1, 'philadelphia': 1, 'layers': 1, 'if\\x97no': 1, 'freaky': 1, 'licked': 1, 'presumptuous': 1, 'lame': 1, 'and\\x97oh': 1, 'kyle\\x92s': 1, 'divert': 1, 'listings': 1, 'coma': 1, 'ramoray\\x92s': 1, 'ramoray': 1, 'swallow': 1, 'sonic': 1, 'blaster': 1, 'zone': 1, 'lodged': 1, 'throat': 1, 'naturally': 1, 'gellers': 1, 'porsch': 1, 'stories': 1, 'neighbor': 1, 'chunk': 1, 'newspaper': 1, 'helena': 1, 'darlings': 1, 'right-': 1, 'the\\x97\\x97wowww': 1, 'beyond': 1, 'lasted': 1, 'hanukkah': 1, 'easter': 1, 'bunny\\x92s': 1, 'funeral': 1, 'lighting': 1, '\\x91walking': 1, 'strange': 1, 'home.\\x92': 1, 'japan': 1, 'fictitious': 1, 'agree': 1, 'psychic': 1, 'substantial': 1, 'ridicule': 1, 'fisher': 1, 'firm': 1, 'represents': 1, 'fooled': 1, 'cancer': 1, 'emphysema': 1, 'big-': 1, 'one-': 1, 'knight': 1, 'candle': 1, '46': 1, '47': 1, 'bwah': 1, 'definitive': 1, 'mwwwooooo': 1, 'crowd': 1, 'left-': 1, 'see\\x97darnit': 1, 'shuffleboard': 1, 'relatives': 1, 'tolouse': 1, 'toulouse': 1, 'nestle': 1, 'tollhouse': 1, 'americans': 1, 'butcher': 1, 'language': 1, 'grabbing': 1, 'cupboard': 1, 'appealing': 1, 'patches': 1, 'cigs': 1, 'contest': 1, 'collect': 1, 'flaw': 1, 'constant': 1, 'pronouncing': 1, 'snort': 1, 'laughs': 1, 'flaws': 1, 'chews': 1, 'endearing': 1, 'speaking': 1, 'correctly': 1, 'indeed': 1, 'hooohhh': 1, 'gloves': 1, 'torme': 1, 'paper\\x92s': 1, '\\x91probably\\x92': 1, 'yourselves': 1, 'yoo': 1, 'litman': 1, 'neurolic': 1, 'keeper': 1, 'admire': 1, 'raising': 1, 'meets': 1, 'i\\x97that\\x92s': 1, 'disgustingtons': 1, 'wheeled': 1, 'juicy': 1, 'crowning': 1, 'see\\x97i': 1, 'example': 1, 'normally': 1, 'sweatpants': 1, 'triplets': 1, 'thrice': 1, 'randy': 1, 'explains': 1, 'santa\\x92s': 1, 'cardboard': 1, 'cutout': 1, 'evander': 1, 'holyfield': 1, 'irreplaceable': 1, 'generations': 1, 'objectively': 1, 'yeah\\x97wait': 1, '94': 1, 'humidity': 1, 'dense': 1, 'poetry': 1, 'transcriber\\x92s': 1, 'surgically': 1, 'attached': 1, '350': 1, 'windshield': 1, 'mommies': 1, 'ju\\x97\\x97hi': 1, 'eddie': 1, 'moskowitz': 1, 'reaffirms': 1, 'faith': 1, 'strain': 1, 'straightener': 1, 'unattended': 1, 'it’s': 1, 'drift': 1, 'principal\\x92s': 1, 'catcher\\x92s': 1, 'mitt': 1, 'bonding': 1, '6-year': 1, 'belong': 1, 'oranges': 1, 'memorized': 1, '1a.': 1, 'the\\x97': 1, 'bumming': 1, 'layer': 1, 'crack': 1, 'foundation': 1, 'asbestos': 1, 'ceiling': 1, 'childhood': 1, 'uncooked': 1, 'batter': 1, 'unreasonable': 1, 'rescue': 1, 'janitor': 1, 'resume': 1, 'implementing': 1, 'colored': 1, 'labels': 1, 'folders': 1, 'brighten': 1, 'cabinets': 1, 'lynch': 1, 'mentor': 1, 'cultivating': 1, 'relationships': 1, 'geographically': 1, 'ude': 1, 'awhile': 1, 'defense': 1, 'genie': 1, 'brunch': 1, 'deciding': 1, 'disrupts': 1, 'wrecking': 1, 'phial': 1, 'pox': 1, 'release': 1, 'hallway': 1, 'throws': 1, 'annoy': 1, 'flower': 1, 'startin\\x92': 1, 'faint': 1, 'subscription': 1, 'roommate\\x92s': 1, 'protective': 1, 'kettle': 1, 'differ': 1, 'oooooh': 1, 'raquetball': 1, 'ciao': 1, 'bela': 1, 'uhhhh': 1, 'jockstrap': 1, 'hel': 1, 'blarrglarrghh': 1, \"y'think\": 1, 'kiddin\\x92': 1, 'valentine\\x92s': 1, 'handbook': 1, 'describe': 1, 'naughty': 1, 'taboo': 1, 'december': 1, 'photographer': 1, 'jeffery': 1, 'kings': 1, 'heavy': 1, 'metal': 1, 'carcass': 1, '\\x91c\\x92': 1, '\\x91k\\x92': 1, 'kleinman\\x92s': 1, 'overpriced': 1, 'schoolchildren': 1, 'dangle': 1, 'pressuring': 1, 'testosteroney': 1, 'francisco': 1, 'interestingly': 1, 'leaf': 1, 'blower': 1, 'spontaneous': 1, 'phrase': 1, 'shove': 1, \"people'll\": 1, \"guys'll\": 1, 'scooching': 1, 'riggs': 1, 'willick': 1, '......': 1, 'funnily': 1, 'hop': 1, 'patio': 1, 'ladybugs': 1, 'insects': 1, 'suggest': 1, 'dining': 1, 'hombre': 1, 'spraying': 1, 'cologne': 1, 'hottest': 1, 'waved': 1, 'myth': 1, 'lenny': 1, 'believes': 1, 'implantation': 1, 'thick': 1, 'now\\x97go': 1, 'prepare': 1, 'embryossss': 1, 'stairs': 1, 'attach': 1, '75': 1, 'costs': 1, '16,000': 1, 'that\\x97okay': 1, 'codes': 1, 'johnos': 1, 'yum': 1, 'efficient': 1, 'condom': 1, 'wallet': 1, 'are-': 1, 'tanned': 1, 'fluff': 1, 'pillows': 1, 'bills': 1, 'helloooo': 1, 'arrested': 1, 'painterly': 1, 'impasto': 1, 'painted': 1, 'outdoors': 1, 'elusive': 1, 'subject': 1, 'monster': 1, 'trucks': 1, 'spelt': 1, 'm': 1, 'y.': 1, 'impressed': 1, 'frontal': 1, 'temporal': 1, 'zygomatic': 1, 'craniotomy': 1, 'renaissance': 1, 'caravaggio': 1, 'chiaroscuro': 1, 'highlight': 1, 'anguish': 1, 'bumpy': 1, 'libbing': 1, 'thorough': 1, '\\x91does': 1, 'it?\\x92': 1, 'glance': 1, 'overall': 1, 'attorney': 1, 'annulled': 1, 'therapy': 1, 'forms': 1, 'witnesses': 1, 'teachin': 1, 'eyed': 1, 'spends': 1, 'leaves': 1, 'rodney': 1, 'nightmare': 1, 'storming': 1, 'manuscript': 1, 'josephine': 1, 'ninja': 1, 'advantage': 1, 'advance': 1, 'twelfth': 1, 'nineteenth': 1, 'announces': 1, 'crime': 1, 'sidekick': 1, 'lead': 1, 'series': 1, 'dreamed': 1, 'preparing': 1, 'technology': 1, 'bactine': 1, 'owner': 1, 'trampled': 1, 'woods': 1, 'relief': 1, 'lifted': 1, 'loss': 1, 'rash': 1, 'hives': 1, 'shortness': 1, 'euphoria\\x97oh': 1, 'steam': 1, 'responsibility': 1, 'that\\x92ll': 1, 'yesss': 1, 'shhh': 1, 'runnin\\x92': 1, '555': 1, '9323': 1, 'prom': 1, 'product': 1, 'violation': 1, 'grief': 1, 'illegally': 1, 'subletting': 1, 'matters': 1, 'handsome': 1, 'repeating': 1, 'comic': 1, 'confront': 1, \"i'd\": 1, 'shall': 1, 'intercourse': 1, 'hike': 1, 'toots': 1, 'arrest': 1, 'register': 1, 'world\\x92s': 1, 'hangover': 1, 'brooklyn': 1, 'heights': 1, 'cleveland': 1, 'bandleader': 1, 'ashley': 1, 'evidently': 1, 'waitin': 1, 'yellin': 1, 'christmastime': 1, 'donations': 1, 'spreading': 1, 'spread': 1, 'timer': 1, 'brag': 1, 'sore': 1, 'dime': 1, 'lint': 1, 'canadian': 1, 'coin': 1, 'contribution': 1, 'complaints': 1, 'profile': 1, 'hoops': 1, 'trrrribbiani': 1, 'audition\\x92s': 1, 'that\\x92d': 1, '437': 1, 'shift': 1, 'increase': 1, 'rolling': 1, 'referring': 1, 'increasing': 1, 'understaffed': 1, 'appreciation': 1, 'sanctity': 1, 'defend': 1, 'drain': 1, 'ants': 1, 'uff': 1, 'thigh': 1, 'theatre': 1, 'multiplex': 1, 'anytime': 1, 'posters': 1, 'ahhhhhhhhhh': 1, 'taped': 1, 'fellas': 1, 'instinct': 1, 'risked': 1, 'eez': 1, 'carat': 1, 'congress': 1, 'debating': 1, 'deficit': 1, 'reduction': 1, 'mayor': 1, 'fares': 1, 'teams': 1, 'agamemnon': 1, 'stares': 1, 'knack': 1, 'reacquainted': 1, 'trump': 1, 'expert': 1, 'torture': 1, 'captured': 1, 'girlfriend\\x97which': 1, 'shorten': 1, 'muse': 1, 'confusion': 1, 'rare': 1, 'bookstore': 1, 'madison': 1, 'architecture': 1, 'cathedral': 1, 'pastry': 1, 'thai': 1, 'antiquities': 1, 'wing': 1, 'ancient': 1, 'egypt': 1, 'mesopotamia': 1, 'byzantine': 1, 'critics': 1, 'monogamy': 1, 'carryon': 1, 'impact': 1, 'skating': 1, 'shin': 1, 'estate': 1, 'dad\\x92s': 1, 'limb': 1, 'modeling': 1, 'clap': 1, 'chorus': 1, 'favored': 1, 'unconsciously': 1, 'marvel': 1, 'sail': 1, 'cheer': 1, 'pony': 1, 'count': 1, 'dehydrated': 1, 'japanese': 1, 'noodles': 1, 'fluorescent': 1, 'dependent': 1, 'self': 1, 'destructive': 1, \"he's-\": 1, 'thought-': 1, 'flush': 1, 'bump': 1, 'it\\x97the': 1, 'charisma': 1, 'fail': 1, 'midterm': 1, 'you\\x97i': 1, 'blushed': 1, 'toughest': 1, 'g.i.': 1, 'protects': 1, 'u.s.': 1, 'interests': 1, '56': 1, 'swimmers': 1, 'sarah\\x92s': 1, 'tallies': 1, 'ohhhh': 1, 'debbie': 1, '321': 1, 'charla': 1, '278': 1, 'platonic': 1, 'goof': 1, 'term': 1, 'technical': 1, 'definition': 1, 'fangled': 1, 'original': 1, 'dan': 1, 'ow!-ow!-ow': 1, 'hey!-hey': 1, 'neighborhood': 1, 'serves': 1, 'planet': 1, 'yarns': 1, 'weave': 1, 'not\\x97no': 1, 'flick': 1, 'jus-': 1, 'prison': 1, 'bitches': 1, 'hide': 1, 'lunges': 1, 'maintenance': 1, 'flaky': 1, 'lee': 1, 'cranky': 1, 'cuz': 1, 'kiddy': 1, 'invasive': 1, 'vaginal': 1, 'exam': 1, 'suckers': 1, 'mugsy': 1, 'magical': 1, 'regularly': 1, 'scheduled': 1, 'programming': 1, 'wigging': 1, 'luggage': 1, 'canada': 1, 'ill': 1, 'monnnnn': 1, 'felicity': 1, 'unsuccessful': 1, 'sized': 1, 'tips': 1, 'brady': 1, 'cole': 1, 'slaw': 1, 'buns': 1, 'ground': 1, 'formerly': 1, 'cows': 1, 'turkeys': 1, 'senior': 1, 'whoooaa': 1, 'milwaukee': 1, 'disneyland': 1, '1989': 1, 'mechanical': 1, 'dutch': 1, 'fixed': 1, 'kingdom': 1, 'patience': 1, 'yore': 1, 'yesteryear': 1, 'redecorate\\x97and': 1, 'cheap': 1, 'offs': 1, 'junk': 1, '60': 1, 'colonial': 1, 'the\\x97okay': 1, 'portion': 1, 'injure': 1, '16-hour': 1, 'greenpeace': 1, 'j.': 1, 'crew': 1, 'shoppin\\x92': 1, 'screaming': 1, 'baack': 1, 'mets': 1, 'bat': 1, 'shea': 1, 'stadium': 1, 'supergay': 1, 'await': 1, 'mri': 1, 'scans': 1, 'dna': 1, 'gathered': 1, 'simple': 1, 'carbon': 1, 'leathery': 1, 'wrinkled': 1, 'massaging': 1, 'stimulate': 1, 'flow': 1, 'frustrating': 1, 'lovable': 1, 'continue': 1, 'glare': 1, 'streetlight': 1, 'breadstick': 1, 'fangs': 1, 'advanced': 1, 'paul\\x92s': 1, 'café': 1, 'afterwards': 1, 'sixteen': 1, 'pound': 1, 'childbirth': 1, 'c': 1, 'sections': 1, 'stretching': 1, 'lips': 1, 'involve': 1, 'projectile': 1, 'vomiting': 1, 'vail': 1, \"guys'd\": 1, 'syphilis': 1, 'thankful': 1, 'thanksgivings': 1, 'sucked': 1, 'lousy': 1, 'crappy': 1, 'bugger': 1, 'ma’am': 1, '’d': 1, 'italy': 1, '—': 1, 'strapping': 1, 'jaw': 1, 'colour': 1, 'memo-': 1, 'crash': 1, 'embassy': 1, 'parties': 1, 'phobia': 1, 'needles': 1, 'phd': 1, 'orally': 1, 'circumstances': 1, 'injection': 1, 'tho': 1, 'sting': 1, 'balcony': 1, 'cape': 1, 'up\\x97i': 1, 'checkbook': 1, 'loyal': 1, 'ummm': 1, 'clogging': 1, 'unclogging': 1, 'didn\\x92t\\x97i': 1, 'coveralls': 1, 'whoops': 1, 'amanda': 1, 'parent\\x92s': 1, 'salami': 1, 'unhook': 1, 'just\\x97it\\x92s': 1, 'bouquet': 1, 'moonlit': 1, 'rue': 1, 'sprinkle': 1, 'rose': 1, 'pedals': 1, 'loooot': 1, 'electricity': 1, 'goal': 1, 'no\\x97\\x97one': 1, 'gar\\x92': 1, 'hammered': 1, 'shooting': 1, 'fork': 1, 'luckiest': 1, 'luckier': 1, 'wires': 1, 'wire': 1, 'disappears': 1, 'baseboard': 1, 'darling': 1, 'teamwork': 1, 'gawd': 1, 'pooper': 1, 'within': 1, 'like-': 1, 'coyotes': 1, 'members': 1, 'herd': 1, 'slimmer': 1, 'visited': 1, 'thompson': 1, 'blowing': 1, 'budget': 1, 'grandma\\x92s': 1, 'sleepy': 1, 'sleeperson': 1, 'remembering': 1, 'nicknames': 1, 'brownshirt': 1, 'cutie': 1, 'mcpretty': 1, 'rejections': 1, 'believable': 1, 'yummy': 1, 'kissin': 1, 'obsessed': 1, 'restraining': 1, 'orrr': 1, 'fabutec': 1, 'info': 1, 'mercial': 1, 'mop': 1, 'waxing': 1, 'organic': 1, 'substances': 1, 'depths': 1, 'scuse': 1, 'sucking': 1, 'corporate': 1, 'varrrrrroom': 1, 'varrrrrrrrrrom': 1, 'varrrrrrrrroom': 1, 'bed\\x92s': 1, 'upstate': 1, 'cars': 1, 'mercy': 1, 'burring': 1, 'pictures\\x97are': 1, 'rides': 1, '\\x91where': 1, 'they?\\x92': 1, 'barn': 1, 'bend': 1, 'outdoorsy': 1, 'handy': 1, 'win\\x97ross': 1, '3\\x97go': 1, '2:17': 1, 'jinx': 1, 'meal': 1, 'you\\x92re\\x97you': 1, 'seller': 1, 'suitcases': 1, 'raisin': 1, 'proves': 1, 'harm': 1, 'starlight': 1, 'ratchet': 1, 'suicide': 1, 'blueberry': 1, 'muffin': 1, 'carlos': 1, 'luger': 1, 'hat\\x92s': 1, 'cash': 1, 'yearly': 1, 'trips': 1, 'rec': 1, 'rustic': 1, 'custom': 1, 'waisted': 1, 'duchess': 1, 'gown': 1, 'rack': 1, 'phillips': 1, 'unnatural': 1, 'shed': 1, 'separate': 1, 'underneath': 1, 'squat': 1, 'ted': 1, 'scares': 1, 'teddy': 1, 'andrew': 1, 'pear': 1, '\\x91i\\x92': 1, 'martini': 1, 'chuckles': 1, 'aboard': 1, 'y\\x97': 1, 'ohhhhhhhh': 1, 'steered': 1, 'noticing': 1, 'commercials': 1, 'smacks': 1, 'vacuum': 1, 'polish': 1, 'tip': 1, 'stoop': 1, 'bridge': 1, 'talkin': 1, 'liar': 1, 'police': 1, 'suspects': 1, 'load': 1, 'nor': 1, 'i\\x97i': 1, 'good\\x97ohh': 1, 'blurtin\\x92': 1, 'curtain': 1, 'hazard': 1, 'safety': 1, 'rub': 1, 'gibson': 1, 'clint': 1, 'eastwood': 1, 'tension': 1, 'onstage': 1, 'chemistry': 1, 'benefit': 1, 'erotic': 1, 'wildly': 1, 'unpopular': 1, 'ph.d.': 1, 'lillian': 1, 'fuzzy': 1, 'mints': 1, 'gross': 1, 'from-': 1, 'pets': 1, 'occasionally': 1, 'pose': 1, 'tail': 1, 'frisbee': 1, 'tuxedos': 1, 'approved': 1, 'hookin\\x92': 1, 'attend': 1, 'limited': 1, 'seating': 1, 'gellar': 1, 'relative': 1, 'fewer': 1, 'bricks': 1, 'musicians': 1, 'bone': 1, 'practical': 1, 'monroe': 1, 'becoming': 1, 'confidant': 1, 'complain': 1, 'musical': 1, 'visits': 1, 'meanwhile': 1, 'understands': 1, 'hhiii': 1, 'wise': 1, 'right\\x97oh': 1, 'geeks': 1, 'anthropologists': 1, 'dudes': 1, 'don\\x92t\\x97maybe': 1, 'hulk': 1, 'mentioned': 1, 'independent': 1, 'chubby': 1, 'puzzles': 1, 'themselves': 1, 'supporting': 1, 'just\\x97it': 1, 'controversial': 1, 'wallets': 1, 'garden': 1, 'gentleman': 1, 'reacted': 1, 'why\\x92s': 1, 'bummer': 1, 'craziest': 1, 'upset\\x97for': 1, 'endless': 1, 'unfulfilling': 1, 'exclusive': 1, 'granted': 1, 'settle': 1, 'lane': 1, 'cartoons': 1, 'knife': 1, 'slays': 1, 'attacking': 1, 'attacked': 1, 'stopping': 1, 'finishing': 1, 'inflict': 1, 'closely': 1, 'devon': 1, 'swift': 1, 'bloke': 1, 'knees': 1, 'brolin': 1, 'assume': 1, 'again\\x97nooooooo': 1, 'youngest': 1, 'uh\\x97how': 1, 'vice': 1, 'reconfiguration': 1, 'statistical': 1, 'factoring': 1, 'companies': 1, 'cooked': 1, 'reviewer': 1, 'admits': 1, 'spit': 1, 'cocky': 1, 'shining': 1, 'leak': 1, 'luckily': 1, 'settled': 1, 'but\\x97y\\x92know': 1, 'destined': 1, 'soul': 1, 'mate': 1, 'girl\\x92s': 1, 'misses': 1, 'sight': 1, 'delicacy': 1, 'moment\\x92s': 1, 'janice\\x92s': 1, '\\x91dear': 1, 'hubba': 1, 'bubba': 1, 'birthday\\x92.': 1, 'enemas': 1, '\\x91mattress': 1, 'king\\x92': 1, 'showroom': 1, 'bambi': 1, 'maaaaadd': 1, 'plan\\x92s': 1, 'dances': 1, 'super': 1, 'electrician': 1, 'shocks': 1, 'responsible': 1, 'folks': 1, 'euphoria': 1, 'unbound': 1, 'nora': 1, 'tyler': 1, 'passing': 1, '79': 1, 'mistress': 1, 'cider': 1, 'cinamon': 1, 'eraser': 1, 'n.y.p.d': 1, 'busted': 1, 'slammer': 1, 'come\\x97i': 1, 'believe\\x97i': 1, 'nature\\x92s': 1, 'spectacular': 1, 'phenomenon': 1, 'right\\x97hey': 1, 'respected': 1, 'astronomer': 1, 'sting\\x92s': 1, 'passageway': 1, 'ben\\x92s': 1, 'mum': 1, 'positions': 1, 'base-': 1, 'hassidic': 1, 'jewellers': 1, 'softball': 1, 'innate': 1, 'ness': 1, 'adore': 1, 'personally': 1, 'gallon': 1, 'beginners': 1, 'basics': 1, 'upstage': 1, 'downstage': 1, 'snuggle': 1, 'volcano': 1, 'driving': 1, 'bowl': 1, 'further': 1, 'crank': 1, 'intrigued': 1, 'fluid': 1, 'darts': 1, 'spackle': 1, 'tiki': 1, 'weeeell': 1, 'rum': 1, 'zero': 1, 'frightening': 1, 'tryin': 1, 'suggested': 1, 'mean\\x97no': 1, 'you\\x97you': 1, 'mozzarella': 1, 'jalepino': 1, 'poppers': 1, 'barney': 1, '3:30': 1, 'courthouse': 1, 'markson': 1, 'fact\\x97yes': 1, 'brains': 1, 'smeared': 1, 'you\\x97yeah': 1, 'manhattan': 1, 'stores': 1, 'schmoon': 1, 'transferring': 1, 'rome': 1, 'vienna': 1, 'transferred': 1, 'attract': 1, 'stinkers': 1, 'kostelick': 1, 'prank': 1, 'memos': 1, 'sweets': 1, 'surprisingly': 1, 'strict': 1, 'god!\\x97eh': 1, 'classics': 1, 'marshmellows': 1, 'concentric': 1, 'feature': 1, 'mcclane': 1, 'botched': 1, 'operation': 1, 'murder': 1, 'punctuated': 1, 'equilibrium': 1, 'devonian': 1, 'hooking': 1, 'smarter': 1, 'cracks': 1, 'wink': 1, 'apron': 1, 'aprons': 1, 'screening': 1, 'groom\\x97no': 1, 'minor': 1, 'setback': 1, 'argument': 1, 'croupier': 1, 'dice': 1, \"nothin'\": 1, 'guys\\x92': 1, 'i\\x97rachel': 1, 'deserves': 1, 'informed': 1, 'ohh\\x97do': 1, 'hydrosaurids': 1, 'unearthed': 1, 'main': 1, 'locations': 1, 'hydrosaurs': 1, 'beth': 1, 'loreo': 1, 'unfortunate': 1, 'levels': 1, 'jeannine': 1, 'adios': 1, 'beaudalire': 1, 'translation': 1, 'conductor': 1, 'ferry': 1, 'nova': 1, 'scotia': 1, 'these\\x92ll': 1, 'orange': 1, 'demeaning': 1, 'remotely': 1, 'yentel': 1, 'dowdy': 1, 'dues': 1, 'mira': 1, 'arthritic': 1, 'seamstress': 1, 'misery': 1, 'amusing': 1, 'mannequin': 1, 'mannequins': 1, 'pickle': 1, 'hearts': 1, 'plunge': 1, 'pit': 1, 'depression': 1, 'momma': 1, 'alessandro\\x92s': 1, 'spoon': 1, 'torn': 1, 'desire': 1, 'abysmal': 1, 'thata': 1, 'introduction': 1, 'hollandaise': 1, 'yolk': 1, 'shallots': 1, 'shirvel': 1, 'tarragon': 1, 'argentinaaaa': 1, 'seeeeen': 1, 'fifty': 1, 'pesos': 1, 'humaaan': 1, 'spleeeeen': 1, 'olè': 1, 'entertain': 1, 'requesting': 1, 'bored': 1, 'pharmaceutical': 1, 'pharmacists': 1, 'medeio': 1, 'eva': 1, 'trorro': 1, 'womba': 1, 'fringe': 1, 'sides': 1, 'goodnight': 1, 'readers': 1, 'mikey': 1, 'p': 1, 'rat': 1, 'capture': 1, 'possom': 1, 'wisecracking': 1, 'owl': 1, 'suzie': 1, 'rejection': 1, 'waited': 1, 'puts': 1, 'bath': 1, 'loong': 1, '5:30': 1, 'carried': 1, 'breadsticks': 1, 'marinara': 1, 'vodka': 1, 'celery': 1, 'lebanon': 1, 'nasty': 1, 'hanks': 1, 'meg': 1, 'ryan': 1, 'bullets': 1, 'guns': 1, 'slower': 1, 'clinton': 1, 'moss': 1, '865': 1, 'program': 1, '20,000': 1, 'offensive': 1, 'bleeding': 1, 'crotch': 1, 'soccer': 1, 'player': 1, 'pinned': 1, 'tickled': 1, 'freckles': 1, 'muscle': 1, 'plinky': 1, 'plunky': 1, 'meadow': 1, 'breeze': 1, 'moonlight': 1, 'flowing': 1, 'trees': 1, 'wagering': 1, 'permitted': 1, 'waterfalls': 1, 'trickling': 1, 'fountains': 1, 'calming': 1, 'babbling': 1, 'brook': 1, 'awake': 1, \"somethin'\": 1, 'f.y.i': 1, 'afternoons': 1, 'swirl': 1, 'strippers': 1, 'exit': 1, 'awwww': 1, 'competitor': 1, 'hell\\x92s': 1, 'queens': 1, 'traveled': 1, 'southern': 1, 'protest': 1, 'wisconsin': 1, 'solved': 1, 'grocery': 1, 'or\\x97oh': 1, 'linda': 1, 'camp': 1, 'tradition': 1, 'abandoned': 1, 'couples': 1, 'braverman': 1, 'protecting': 1, 'kicky': 1, 'pancakes': 1, 'distance': 1, 'fitting': 1, 'cave': 1, 'courage': 1, 'fettuccini': 1, 'alfredo': 1, 'bubbles': 1, 'perceptive': 1, 'freaks': 1, 'sending': 1, 'cruise': 1, 'razor': 1, 'stitches': 1, 'realises': 1, 'sister\\x92s': 1, 'teeny': 1, 'comprehends': 1, 'thousands': 1, 'miles': 1, 'disappointed': 1, 'decent': 1, 'booked': 1, 'postponing': 1, 'option': 1, '\\x91or\\x92': 1, 'backwards': 1, 'please\\x97': 1, 'refer': 1, 'bobo': 1, 'sullies': 1, 'leon': 1, 'purchasing': 1, 'kidney': 1, 'gotcha': 1, '87': 1, 'vcr': 1, 'bleaker': 1, 'mama': 1, 'lisettie': 1, 'enh': 1, 'that\\x97this': 1, '11-b': 1, 'code': 1, 'requires': 1, 'material': 1, 'convenience': 1, 'warning': 1, 'bust': 1, 'picks': 1, 'towels': 1, 'loaned': 1, 'nineteen': 1, 'u.s.s.': 1, 'nimitz': 1, 'interviews': 1, 'napkin': 1, 'greeting': 1, 'charred': 1, 'picture\\x97wow': 1, 'hairier': 1, 'chief': 1, 'bonfire': 1, 'valentine': 1, 'busiest': 1, 'g.stephanopoulos': 1, 'mediterranean': 1, 'curiously': 1, 'intelligent': 1, 'stephanopoulos': 1, 'snuffalopagus': 1, 'spying': 1, 'rainy': 1, 'allll': 1, 'boredddd': 1, 'choices': 1, 'printed': 1, 'winona': 1, 'ryder': 1, 'michelle': 1, 'pfieffer': 1, 'dorothy': 1, 'hammel': 1, 'spins': 1, 'fonzie': 1, 'resident': 1, 'specified': 1, 'needing': 1, 'qualified': 1, 'doogie': 1, 'askin\\x92': 1, 'officer': 1, 'petty': 1, 'margaritas': 1, 'weekly': 1, 'pleased': 1, 'pickles': 1, 'tampons': 1, 'penny': 1, 'stock': 1, 'tow': 1, 'innocent': 1, 'victim': 1, 'punish': 1, 'bound': 1, 'rights': 1, 'minks': 1, 'i\\x97it': 1, 'sits': 1, 'straighten': 1, 'via': 1, 'burritos': 1, 'reservation': 1, 'burrito': 1, 'shakin\\x92': 1, \"o'mally\": 1, 'quicker': 1, 'required': 1, 'evaluate': 1, 'gel': 1, 'cowlicky': 1, 'sweepin\\x92.': 1, 'chimney': 1, 'vicar': 1, 'zelda': 1, 'erotica': 1, 'sexuality': 1, 'shortbread': 1, 'scotland': 1, 'vikings': 1, 'rediscover': 1, 'roots': 1, 'bagpipes': 1, 'personalities': 1, 'pillow': 1, 'g.': 1, 'string': 1, 'doggy': 1, 'kitten': 1, 'but\\x97bye': 1, 'janine\\x92s': 1, 'dancers': 1, 'alot': 1, 'whippin\\x92': 1, '\\x93oh': 1, 'trifle?\\x94': 1, 'trifle': 1, 'opinion': 1, 'foxy': 1, 'sexless': 1, 'misunderstand': 1, 'flexed': 1, 'concert': 1, 'allan': 1, 'planner': 1, 'theta': 1, 'beta': 1, 'pi': 1, 'syracuse': 1, 'repeat': 1, 'closets': 1, 'here\\x97do': 1, 'blacken': 1, 'edge': 1, 'forehead': 1, 'pencil': 1, 'anybody\\x92s': 1, 'ringside': 1, 'affected': 1, 'concentration': 1, 'bout': 1, 'zana': 1, 'spindler': 1, 'devane': 1, 'kelly': 1, 'goldie': 1, 'zuchoff': 1, 'mcgwire': 1, 'j.t.': 1, 'breadsly': 1, 'dorfman': 1, 'wedgie': 1, 'architect': 1, 'grabbed': 1, 'fiction': 1, 'writers': 1, 'leading': 1, 'invest': 1, 'nostril': 1, 'sneezed': 1, 'bats': 1, 'flew': 1, 'tellin': 1, 'leaned': 1, 'perfectly': 1, 'superficial': 1, 'insignificant': 1, 'apples': 1})\n"
          ],
          "name": "stdout"
        }
      ]
    },
    {
      "cell_type": "markdown",
      "metadata": {
        "id": "P6VIWEVKrD-U"
      },
      "source": [
        "## GRU \n"
      ]
    },
    {
      "cell_type": "code",
      "metadata": {
        "id": "bmOftZlHC1B7"
      },
      "source": [
        "class GRU(nn.Module):\n",
        "    def __init__(self, n_layers, hidden_dim, n_vocab, embed_dim, n_classes, dropout_p):\n",
        "        super(GRU, self).__init__()\n",
        "        self.n_layers = n_layers\n",
        "        self.hidden_dim = hidden_dim\n",
        "\n",
        "        self.embed = nn.Embedding.from_pretrained(utterance.vocab.vectors, freeze=False)\n",
        "        self.dropout = nn.Dropout(dropout_p)\n",
        "        self.gru = nn.GRU(embed_dim, self.hidden_dim, num_layers=self.n_layers, batch_first=True, bidirectional=False)\n",
        "        self.out = nn.Linear(self.hidden_dim, n_classes)\n",
        "\n",
        "    def forward(self, x):\n",
        "        x = self.embed(x)\n",
        "        h_0 = self._init_state(batch_size=x.size(0)) \n",
        "        x, _= self.gru(x, h_0) \n",
        "        h_t = x[:,-1,:]         \n",
        "        # self.dropout(h_t)\n",
        "        logit = self.out(h_t)     \n",
        "        return logit\n",
        "\n",
        "    def _init_state(self, batch_size=1):\n",
        "        weight = next(self.parameters()).data\n",
        "        return weight.new(self.n_layers, batch_size, self.hidden_dim).zero_()\n",
        "\n",
        "def train(model, optimizer, train_iter):\n",
        "    model.train()\n",
        "    for b, batch in enumerate(train_iter):\n",
        "        x, y = batch.utterance.to(DEVICE), batch.emotion.to(DEVICE)\n",
        "        optimizer.zero_grad()\n",
        "        logit = model(x)\n",
        "        loss = F.cross_entropy(logit, y)\n",
        "        loss.backward()\n",
        "        optimizer.step()\n",
        "\n",
        "def evaluate(model, val_iter):\n",
        "    model.eval()\n",
        "    corrects, total_loss = 0, 0\n",
        "    \n",
        "    for batch in val_iter:\n",
        "        x, y = batch.utterance.to(DEVICE), batch.emotion.to(DEVICE)\n",
        "        logit = model(x)\n",
        "        loss = F.cross_entropy(logit, y, reduction='sum')\n",
        "        total_loss += loss.item()\n",
        "        corrects += (logit.max(1)[1].view(y.size()).data == y.data).sum()\n",
        "    # print(logit.max(1)[1].view(y.size()).data)\n",
        "    size = len(val_iter.dataset)\n",
        "    avg_loss = total_loss / size\n",
        "    avg_accuracy = 100.0 * corrects / size\n",
        "    return avg_loss, avg_accuracy"
      ],
      "execution_count": null,
      "outputs": []
    },
    {
      "cell_type": "markdown",
      "metadata": {
        "id": "EakxnT4Yrrvp"
      },
      "source": [
        "## TRAIN\n",
        "1. Hidden Layer dimension 조정\n",
        "2. GRU Layer 수를 조정\n",
        "3. Loss가 제일 작은 모델을 저장"
      ]
    },
    {
      "cell_type": "code",
      "metadata": {
        "id": "3G3sivUNEC9m",
        "colab": {
          "base_uri": "https://localhost:8080/",
          "height": 1000
        },
        "outputId": "65da9a36-9686-48b6-85cc-3e38cd4e09bb"
      },
      "source": [
        "best_val_loss = None\n",
        "best_dim = None\n",
        "best_n_layers = None\n",
        "i = 5\n",
        "for hidden_dim in range(100, 150, 50):\n",
        "    print(hidden_dim, i)\n",
        "    train_iter, val_iter, test_iter = data.BucketIterator.splits((train_data, val_data, test_data), shuffle=True, batch_size=BATCH_SIZE, repeat=False, sort=False)\n",
        "\n",
        "    print('훈련 데이터의 미니 배치의 개수 : {}'.format(len(train_iter)))\n",
        "    print('테스트 데이터의 미니 배치의 개수 : {}'.format(len(test_iter)))\n",
        "    print('검증 데이터의 미니 배치의 개수 : {}'.format(len(val_iter)))\n",
        "\n",
        "    # n_layers, hidden_dim, n_vocab, embed_dim, n_classes, dropout_p\n",
        "    model = GRU(i, hidden_dim, vocab_size, 300, n_classes, 0.4).to(DEVICE)\n",
        "    optimizer = torch.optim.Adam(model.parameters(), lr=lr)\n",
        "\n",
        "    loss_list = list()\n",
        "    for e in range(1, EPOCHS+1):\n",
        "        train(model, optimizer, train_iter)\n",
        "        val_loss, val_accuracy = evaluate(model, val_iter)\n",
        "\n",
        "        loss_list.append([e, i, val_loss])\n",
        "        # 검증 오차가 가장 적은 최적의 모델을 저장\n",
        "        if not best_val_loss or val_loss < best_val_loss:\n",
        "            if not os.path.isdir(\"snapshot\"):\n",
        "                os.makedirs(\"snapshot\")\n",
        "            best_dim = hidden_dim\n",
        "            best_n_layers = i\n",
        "            print(\"Current Best : \", hidden_dim, best_n_layers)\n",
        "            print(\"[%d, Epoch: %d, %d] val loss : %5.2f | val accuracy : %5.2f\" % (1, e,hidden_dim, val_loss, val_accuracy))\n",
        "\n",
        "            torch.save(model.state_dict(), './snapshot/txtclassification.pt')\n",
        "            best_val_loss = val_loss"
      ],
      "execution_count": null,
      "outputs": [
        {
          "output_type": "stream",
          "text": [
            "100 5\n",
            "훈련 데이터의 미니 배치의 개수 : 166\n",
            "테스트 데이터의 미니 배치의 개수 : 44\n",
            "검증 데이터의 미니 배치의 개수 : 19\n",
            "Current Best :  100 5\n",
            "[1, Epoch: 1, 100] val loss :  2.00 | val accuracy : 41.68\n",
            "Current Best :  100 5\n",
            "[1, Epoch: 2, 100] val loss :  1.77 | val accuracy : 41.68\n",
            "Current Best :  100 5\n",
            "[1, Epoch: 3, 100] val loss :  1.71 | val accuracy : 41.68\n",
            "Current Best :  100 5\n",
            "[1, Epoch: 4, 100] val loss :  1.70 | val accuracy : 41.68\n",
            "Current Best :  100 5\n",
            "[1, Epoch: 5, 100] val loss :  1.70 | val accuracy : 41.68\n",
            "Current Best :  100 5\n",
            "[1, Epoch: 6, 100] val loss :  1.70 | val accuracy : 41.68\n",
            "Current Best :  100 5\n",
            "[1, Epoch: 7, 100] val loss :  1.69 | val accuracy : 41.68\n",
            "Current Best :  100 5\n",
            "[1, Epoch: 8, 100] val loss :  1.69 | val accuracy : 41.68\n",
            "Current Best :  100 5\n",
            "[1, Epoch: 9, 100] val loss :  1.68 | val accuracy : 41.68\n",
            "Current Best :  100 5\n",
            "[1, Epoch: 10, 100] val loss :  1.68 | val accuracy : 41.68\n",
            "Current Best :  100 5\n",
            "[1, Epoch: 11, 100] val loss :  1.68 | val accuracy : 41.85\n",
            "Current Best :  100 5\n",
            "[1, Epoch: 12, 100] val loss :  1.67 | val accuracy : 41.94\n",
            "Current Best :  100 5\n",
            "[1, Epoch: 13, 100] val loss :  1.66 | val accuracy : 41.77\n",
            "Current Best :  100 5\n",
            "[1, Epoch: 14, 100] val loss :  1.65 | val accuracy : 42.11\n",
            "Current Best :  100 5\n",
            "[1, Epoch: 15, 100] val loss :  1.63 | val accuracy : 41.85\n",
            "Current Best :  100 5\n",
            "[1, Epoch: 16, 100] val loss :  1.62 | val accuracy : 42.87\n",
            "Current Best :  100 5\n",
            "[1, Epoch: 17, 100] val loss :  1.61 | val accuracy : 42.87\n",
            "Current Best :  100 5\n",
            "[1, Epoch: 18, 100] val loss :  1.59 | val accuracy : 44.31\n",
            "Current Best :  100 5\n",
            "[1, Epoch: 19, 100] val loss :  1.58 | val accuracy : 44.99\n",
            "Current Best :  100 5\n",
            "[1, Epoch: 20, 100] val loss :  1.55 | val accuracy : 45.59\n",
            "Current Best :  100 5\n",
            "[1, Epoch: 21, 100] val loss :  1.53 | val accuracy : 46.60\n",
            "Current Best :  100 5\n",
            "[1, Epoch: 23, 100] val loss :  1.52 | val accuracy : 48.39\n",
            "Current Best :  100 5\n",
            "[1, Epoch: 25, 100] val loss :  1.51 | val accuracy : 47.79\n",
            "Current Best :  100 5\n",
            "[1, Epoch: 26, 100] val loss :  1.51 | val accuracy : 47.37\n",
            "Current Best :  100 5\n",
            "[1, Epoch: 28, 100] val loss :  1.50 | val accuracy : 47.03\n",
            "Current Best :  100 5\n",
            "[1, Epoch: 35, 100] val loss :  1.50 | val accuracy : 47.20\n",
            "Current Best :  100 5\n",
            "[1, Epoch: 37, 100] val loss :  1.50 | val accuracy : 46.43\n",
            "Current Best :  100 5\n",
            "[1, Epoch: 41, 100] val loss :  1.50 | val accuracy : 47.20\n",
            "Current Best :  100 5\n",
            "[1, Epoch: 46, 100] val loss :  1.49 | val accuracy : 47.11\n",
            "Current Best :  100 5\n",
            "[1, Epoch: 47, 100] val loss :  1.49 | val accuracy : 46.94\n",
            "Current Best :  100 5\n",
            "[1, Epoch: 50, 100] val loss :  1.49 | val accuracy : 47.45\n"
          ],
          "name": "stdout"
        },
        {
          "output_type": "error",
          "ename": "KeyboardInterrupt",
          "evalue": "ignored",
          "traceback": [
            "\u001b[0;31m---------------------------------------------------------------------------\u001b[0m",
            "\u001b[0;31mKeyboardInterrupt\u001b[0m                         Traceback (most recent call last)",
            "\u001b[0;32m<ipython-input-254-199cf968016a>\u001b[0m in \u001b[0;36m<module>\u001b[0;34m()\u001b[0m\n\u001b[1;32m     17\u001b[0m     \u001b[0mloss_list\u001b[0m \u001b[0;34m=\u001b[0m \u001b[0mlist\u001b[0m\u001b[0;34m(\u001b[0m\u001b[0;34m)\u001b[0m\u001b[0;34m\u001b[0m\u001b[0;34m\u001b[0m\u001b[0m\n\u001b[1;32m     18\u001b[0m     \u001b[0;32mfor\u001b[0m \u001b[0me\u001b[0m \u001b[0;32min\u001b[0m \u001b[0mrange\u001b[0m\u001b[0;34m(\u001b[0m\u001b[0;36m1\u001b[0m\u001b[0;34m,\u001b[0m \u001b[0mEPOCHS\u001b[0m\u001b[0;34m+\u001b[0m\u001b[0;36m1\u001b[0m\u001b[0;34m)\u001b[0m\u001b[0;34m:\u001b[0m\u001b[0;34m\u001b[0m\u001b[0;34m\u001b[0m\u001b[0m\n\u001b[0;32m---> 19\u001b[0;31m         \u001b[0mtrain\u001b[0m\u001b[0;34m(\u001b[0m\u001b[0mmodel\u001b[0m\u001b[0;34m,\u001b[0m \u001b[0moptimizer\u001b[0m\u001b[0;34m,\u001b[0m \u001b[0mtrain_iter\u001b[0m\u001b[0;34m)\u001b[0m\u001b[0;34m\u001b[0m\u001b[0;34m\u001b[0m\u001b[0m\n\u001b[0m\u001b[1;32m     20\u001b[0m         \u001b[0mval_loss\u001b[0m\u001b[0;34m,\u001b[0m \u001b[0mval_accuracy\u001b[0m \u001b[0;34m=\u001b[0m \u001b[0mevaluate\u001b[0m\u001b[0;34m(\u001b[0m\u001b[0mmodel\u001b[0m\u001b[0;34m,\u001b[0m \u001b[0mval_iter\u001b[0m\u001b[0;34m)\u001b[0m\u001b[0;34m\u001b[0m\u001b[0;34m\u001b[0m\u001b[0m\n\u001b[1;32m     21\u001b[0m \u001b[0;34m\u001b[0m\u001b[0m\n",
            "\u001b[0;32m<ipython-input-240-8924d6113411>\u001b[0m in \u001b[0;36mtrain\u001b[0;34m(model, optimizer, train_iter)\u001b[0m\n\u001b[1;32m     31\u001b[0m         \u001b[0mloss\u001b[0m \u001b[0;34m=\u001b[0m \u001b[0mF\u001b[0m\u001b[0;34m.\u001b[0m\u001b[0mcross_entropy\u001b[0m\u001b[0;34m(\u001b[0m\u001b[0mlogit\u001b[0m\u001b[0;34m,\u001b[0m \u001b[0my\u001b[0m\u001b[0;34m)\u001b[0m\u001b[0;34m\u001b[0m\u001b[0;34m\u001b[0m\u001b[0m\n\u001b[1;32m     32\u001b[0m         \u001b[0mloss\u001b[0m\u001b[0;34m.\u001b[0m\u001b[0mbackward\u001b[0m\u001b[0;34m(\u001b[0m\u001b[0;34m)\u001b[0m\u001b[0;34m\u001b[0m\u001b[0;34m\u001b[0m\u001b[0m\n\u001b[0;32m---> 33\u001b[0;31m         \u001b[0moptimizer\u001b[0m\u001b[0;34m.\u001b[0m\u001b[0mstep\u001b[0m\u001b[0;34m(\u001b[0m\u001b[0;34m)\u001b[0m\u001b[0;34m\u001b[0m\u001b[0;34m\u001b[0m\u001b[0m\n\u001b[0m\u001b[1;32m     34\u001b[0m \u001b[0;34m\u001b[0m\u001b[0m\n\u001b[1;32m     35\u001b[0m \u001b[0;32mdef\u001b[0m \u001b[0mevaluate\u001b[0m\u001b[0;34m(\u001b[0m\u001b[0mmodel\u001b[0m\u001b[0;34m,\u001b[0m \u001b[0mval_iter\u001b[0m\u001b[0;34m)\u001b[0m\u001b[0;34m:\u001b[0m\u001b[0;34m\u001b[0m\u001b[0;34m\u001b[0m\u001b[0m\n",
            "\u001b[0;32m/usr/local/lib/python3.6/dist-packages/torch/autograd/grad_mode.py\u001b[0m in \u001b[0;36mdecorate_context\u001b[0;34m(*args, **kwargs)\u001b[0m\n\u001b[1;32m     24\u001b[0m         \u001b[0;32mdef\u001b[0m \u001b[0mdecorate_context\u001b[0m\u001b[0;34m(\u001b[0m\u001b[0;34m*\u001b[0m\u001b[0margs\u001b[0m\u001b[0;34m,\u001b[0m \u001b[0;34m**\u001b[0m\u001b[0mkwargs\u001b[0m\u001b[0;34m)\u001b[0m\u001b[0;34m:\u001b[0m\u001b[0;34m\u001b[0m\u001b[0;34m\u001b[0m\u001b[0m\n\u001b[1;32m     25\u001b[0m             \u001b[0;32mwith\u001b[0m \u001b[0mself\u001b[0m\u001b[0;34m.\u001b[0m\u001b[0m__class__\u001b[0m\u001b[0;34m(\u001b[0m\u001b[0;34m)\u001b[0m\u001b[0;34m:\u001b[0m\u001b[0;34m\u001b[0m\u001b[0;34m\u001b[0m\u001b[0m\n\u001b[0;32m---> 26\u001b[0;31m                 \u001b[0;32mreturn\u001b[0m \u001b[0mfunc\u001b[0m\u001b[0;34m(\u001b[0m\u001b[0;34m*\u001b[0m\u001b[0margs\u001b[0m\u001b[0;34m,\u001b[0m \u001b[0;34m**\u001b[0m\u001b[0mkwargs\u001b[0m\u001b[0;34m)\u001b[0m\u001b[0;34m\u001b[0m\u001b[0;34m\u001b[0m\u001b[0m\n\u001b[0m\u001b[1;32m     27\u001b[0m         \u001b[0;32mreturn\u001b[0m \u001b[0mcast\u001b[0m\u001b[0;34m(\u001b[0m\u001b[0mF\u001b[0m\u001b[0;34m,\u001b[0m \u001b[0mdecorate_context\u001b[0m\u001b[0;34m)\u001b[0m\u001b[0;34m\u001b[0m\u001b[0;34m\u001b[0m\u001b[0m\n\u001b[1;32m     28\u001b[0m \u001b[0;34m\u001b[0m\u001b[0m\n",
            "\u001b[0;32m/usr/local/lib/python3.6/dist-packages/torch/optim/adam.py\u001b[0m in \u001b[0;36mstep\u001b[0;34m(self, closure)\u001b[0m\n\u001b[1;32m    117\u001b[0m                    \u001b[0mgroup\u001b[0m\u001b[0;34m[\u001b[0m\u001b[0;34m'lr'\u001b[0m\u001b[0;34m]\u001b[0m\u001b[0;34m,\u001b[0m\u001b[0;34m\u001b[0m\u001b[0;34m\u001b[0m\u001b[0m\n\u001b[1;32m    118\u001b[0m                    \u001b[0mgroup\u001b[0m\u001b[0;34m[\u001b[0m\u001b[0;34m'weight_decay'\u001b[0m\u001b[0;34m]\u001b[0m\u001b[0;34m,\u001b[0m\u001b[0;34m\u001b[0m\u001b[0;34m\u001b[0m\u001b[0m\n\u001b[0;32m--> 119\u001b[0;31m                    \u001b[0mgroup\u001b[0m\u001b[0;34m[\u001b[0m\u001b[0;34m'eps'\u001b[0m\u001b[0;34m]\u001b[0m\u001b[0;34m\u001b[0m\u001b[0;34m\u001b[0m\u001b[0m\n\u001b[0m\u001b[1;32m    120\u001b[0m                    )\n\u001b[1;32m    121\u001b[0m         \u001b[0;32mreturn\u001b[0m \u001b[0mloss\u001b[0m\u001b[0;34m\u001b[0m\u001b[0;34m\u001b[0m\u001b[0m\n",
            "\u001b[0;32m/usr/local/lib/python3.6/dist-packages/torch/optim/functional.py\u001b[0m in \u001b[0;36madam\u001b[0;34m(params, grads, exp_avgs, exp_avg_sqs, max_exp_avg_sqs, state_steps, amsgrad, beta1, beta2, lr, weight_decay, eps)\u001b[0m\n\u001b[1;32m     85\u001b[0m         \u001b[0;31m# Decay the first and second moment running average coefficient\u001b[0m\u001b[0;34m\u001b[0m\u001b[0;34m\u001b[0m\u001b[0;34m\u001b[0m\u001b[0m\n\u001b[1;32m     86\u001b[0m         \u001b[0mexp_avg\u001b[0m\u001b[0;34m.\u001b[0m\u001b[0mmul_\u001b[0m\u001b[0;34m(\u001b[0m\u001b[0mbeta1\u001b[0m\u001b[0;34m)\u001b[0m\u001b[0;34m.\u001b[0m\u001b[0madd_\u001b[0m\u001b[0;34m(\u001b[0m\u001b[0mgrad\u001b[0m\u001b[0;34m,\u001b[0m \u001b[0malpha\u001b[0m\u001b[0;34m=\u001b[0m\u001b[0;36m1\u001b[0m \u001b[0;34m-\u001b[0m \u001b[0mbeta1\u001b[0m\u001b[0;34m)\u001b[0m\u001b[0;34m\u001b[0m\u001b[0;34m\u001b[0m\u001b[0m\n\u001b[0;32m---> 87\u001b[0;31m         \u001b[0mexp_avg_sq\u001b[0m\u001b[0;34m.\u001b[0m\u001b[0mmul_\u001b[0m\u001b[0;34m(\u001b[0m\u001b[0mbeta2\u001b[0m\u001b[0;34m)\u001b[0m\u001b[0;34m.\u001b[0m\u001b[0maddcmul_\u001b[0m\u001b[0;34m(\u001b[0m\u001b[0mgrad\u001b[0m\u001b[0;34m,\u001b[0m \u001b[0mgrad\u001b[0m\u001b[0;34m,\u001b[0m \u001b[0mvalue\u001b[0m\u001b[0;34m=\u001b[0m\u001b[0;36m1\u001b[0m \u001b[0;34m-\u001b[0m \u001b[0mbeta2\u001b[0m\u001b[0;34m)\u001b[0m\u001b[0;34m\u001b[0m\u001b[0;34m\u001b[0m\u001b[0m\n\u001b[0m\u001b[1;32m     88\u001b[0m         \u001b[0;32mif\u001b[0m \u001b[0mamsgrad\u001b[0m\u001b[0;34m:\u001b[0m\u001b[0;34m\u001b[0m\u001b[0;34m\u001b[0m\u001b[0m\n\u001b[1;32m     89\u001b[0m             \u001b[0;31m# Maintains the maximum of all 2nd moment running avg. till now\u001b[0m\u001b[0;34m\u001b[0m\u001b[0;34m\u001b[0m\u001b[0;34m\u001b[0m\u001b[0m\n",
            "\u001b[0;31mKeyboardInterrupt\u001b[0m: "
          ]
        }
      ]
    },
    {
      "cell_type": "code",
      "metadata": {
        "id": "S1bRZSQPBWvz",
        "colab": {
          "base_uri": "https://localhost:8080/"
        },
        "outputId": "f9577ff5-c038-4fca-e7b9-9556f992f488"
      },
      "source": [
        "model = GRU(best_n_layers, best_dim, vocab_size, 300, n_classes, 0.4).to(DEVICE)\n",
        "model.load_state_dict(torch.load('./snapshot/txtclassification.pt'))\n",
        "test_loss, test_acc = evaluate(model, test_iter)\n",
        "print('테스트 오차: %5.2f | 테스트 정확도: %5.2f' % (test_loss, test_acc))"
      ],
      "execution_count": null,
      "outputs": [
        {
          "output_type": "stream",
          "text": [
            "테스트 오차:  1.36 | 테스트 정확도: 52.46\n"
          ],
          "name": "stdout"
        }
      ]
    },
    {
      "cell_type": "code",
      "metadata": {
        "id": "9BxKUhNixLjw"
      },
      "source": [
        "def reform2(filename):\n",
        "  dataset_ = pd.read_csv(filename, engine=\"python\", encoding=\"utf-8\")\n",
        "  dataset_.reset_index(inplace=True)\n",
        "  del dataset_[\"level_0\"]\n",
        "  arr = dataset_.to_numpy()\n",
        " \n",
        "  reform_list = list()\n",
        "  header = ['speaker_utterance']\n",
        "  current_i = -1\n",
        "  for i, d_list in enumerate(arr):\n",
        "    if current_i is not d_list[0]:\n",
        "      current_i = d_list[0]\n",
        "      speaker_dict = {}\n",
        "      count = 0\n",
        "      bf_talk = \"\"\n",
        "    \n",
        "\n",
        "\n",
        "    l = list()\n",
        "    l.append(bf_talk + d_list[2] + \" \" + d_list[3])\n",
        "    bf_talk = d_list[2] + \" \" + d_list[3] + \" \"\n",
        "    reform_list.append(l)\n",
        "\n",
        "  df = pd.DataFrame(reform_list, columns=header)\n",
        "  print(df.head())\n",
        "  return df"
      ],
      "execution_count": null,
      "outputs": []
    },
    {
      "cell_type": "code",
      "metadata": {
        "colab": {
          "base_uri": "https://localhost:8080/"
        },
        "id": "MBe9_NuZsSbX",
        "outputId": "7ac19510-d879-4938-e8f9-73f5bbb017e3"
      },
      "source": [
        "reform2(\"/dataset/My Drive/en_data.csv\").to_csv(\"/dataset/My Drive/en_data_utf8.csv\", index=None)"
      ],
      "execution_count": null,
      "outputs": [
        {
          "output_type": "stream",
          "text": [
            "                                   speaker_utterance\n",
            "0               Phoebe Alright, whadyou do with him?\n",
            "1  Phoebe Alright, whadyou do with him? Monica Oh...\n",
            "2  Monica Oh! You're awake! Joey Then you gotta c...\n",
            "3  Joey Then you gotta come clean with Ma! This i...\n",
            "4  Mr. Tribbiani Yeah, but this is Joey I don't w...\n"
          ],
          "name": "stdout"
        }
      ]
    },
    {
      "cell_type": "code",
      "metadata": {
        "id": "WmrKB7vnwpy5"
      },
      "source": [
        "def predict(model, val_iter):\n",
        "    model.eval()\n",
        "    print(\"predict\")\n",
        "    predict_list = list()\n",
        "    count = 0\n",
        "    for batch in val_iter:\n",
        "      indexed = [utterance.vocab.stoi[t] for t in batch.speaker_utterance]          #convert to integer sequence\n",
        "      length = [len(indexed)]                                    #compute no. of words\n",
        "      tensor = torch.LongTensor(indexed).to(DEVICE)              #convert to tensor\n",
        "      tensor = tensor.unsqueeze(1).T                             #reshape in form of batch,no. of words\n",
        "      length_tensor = torch.LongTensor(length)                   #convert to tensor\n",
        "      prediction = model(tensor)                  #prediction \n",
        "      predict_list.append([count, emotion.vocab.itos[prediction.max(1)[1].view([1]).cpu().data.numpy()[0]]])\n",
        "      count += 1\n",
        "    return predict_list\n",
        "\n"
      ],
      "execution_count": null,
      "outputs": []
    },
    {
      "cell_type": "markdown",
      "metadata": {
        "id": "WrH9_78lvdCk"
      },
      "source": [
        ""
      ]
    },
    {
      "cell_type": "code",
      "metadata": {
        "id": "-f7bkYj2tPcn"
      },
      "source": [
        "submit_data = TabularDataset(path=\"/dataset/My Drive/en_data_utf8.csv\", format='csv', fields=[('speaker_utterance', utterance)], skip_header=True)"
      ],
      "execution_count": null,
      "outputs": []
    },
    {
      "cell_type": "code",
      "metadata": {
        "colab": {
          "base_uri": "https://localhost:8080/"
        },
        "id": "vwMOHoW1Irhy",
        "outputId": "7219cc58-1d5f-46a7-f4cd-beeb2cf741a0"
      },
      "source": [
        "a = predict(model, submit_data)\n",
        "print(a)\n",
        "pd.DataFrame(a, columns=[\"id\", \"Predicted\"]).to_csv(\"sample.csv\", index=None)"
      ],
      "execution_count": null,
      "outputs": [
        {
          "output_type": "stream",
          "text": [
            "predict\n",
            "[[0, 'neutral'], [1, 'neutral'], [2, 'non-neutral'], [3, 'non-neutral'], [4, 'neutral'], [5, 'neutral'], [6, 'neutral'], [7, 'neutral'], [8, 'neutral'], [9, 'neutral'], [10, 'neutral'], [11, 'neutral'], [12, 'neutral'], [13, 'neutral'], [14, 'non-neutral'], [15, 'non-neutral'], [16, 'non-neutral'], [17, 'non-neutral'], [18, 'non-neutral'], [19, 'neutral'], [20, 'neutral'], [21, 'neutral'], [22, 'non-neutral'], [23, 'non-neutral'], [24, 'non-neutral'], [25, 'non-neutral'], [26, 'non-neutral'], [27, 'anger'], [28, 'anger'], [29, 'anger'], [30, 'non-neutral'], [31, 'neutral'], [32, 'neutral'], [33, 'neutral'], [34, 'non-neutral'], [35, 'non-neutral'], [36, 'neutral'], [37, 'neutral'], [38, 'non-neutral'], [39, 'neutral'], [40, 'neutral'], [41, 'neutral'], [42, 'non-neutral'], [43, 'non-neutral'], [44, 'non-neutral'], [45, 'non-neutral'], [46, 'neutral'], [47, 'neutral'], [48, 'neutral'], [49, 'neutral'], [50, 'neutral'], [51, 'neutral'], [52, 'neutral'], [53, 'neutral'], [54, 'neutral'], [55, 'neutral'], [56, 'neutral'], [57, 'non-neutral'], [58, 'non-neutral'], [59, 'neutral'], [60, 'neutral'], [61, 'neutral'], [62, 'non-neutral'], [63, 'non-neutral'], [64, 'neutral'], [65, 'neutral'], [66, 'neutral'], [67, 'neutral'], [68, 'non-neutral'], [69, 'non-neutral'], [70, 'non-neutral'], [71, 'non-neutral'], [72, 'neutral'], [73, 'neutral'], [74, 'neutral'], [75, 'neutral'], [76, 'non-neutral'], [77, 'neutral'], [78, 'joy'], [79, 'joy'], [80, 'joy'], [81, 'neutral'], [82, 'neutral'], [83, 'neutral'], [84, 'non-neutral'], [85, 'non-neutral'], [86, 'non-neutral'], [87, 'neutral'], [88, 'neutral'], [89, 'neutral'], [90, 'neutral'], [91, 'non-neutral'], [92, 'neutral'], [93, 'neutral'], [94, 'neutral'], [95, 'non-neutral'], [96, 'non-neutral'], [97, 'neutral'], [98, 'neutral'], [99, 'neutral'], [100, 'neutral'], [101, 'neutral'], [102, 'neutral'], [103, 'non-neutral'], [104, 'joy'], [105, 'non-neutral'], [106, 'neutral'], [107, 'neutral'], [108, 'neutral'], [109, 'neutral'], [110, 'non-neutral'], [111, 'neutral'], [112, 'neutral'], [113, 'neutral'], [114, 'neutral'], [115, 'neutral'], [116, 'non-neutral'], [117, 'non-neutral'], [118, 'neutral'], [119, 'non-neutral'], [120, 'non-neutral'], [121, 'joy'], [122, 'neutral'], [123, 'non-neutral'], [124, 'non-neutral'], [125, 'non-neutral'], [126, 'non-neutral'], [127, 'non-neutral'], [128, 'non-neutral'], [129, 'non-neutral'], [130, 'neutral'], [131, 'neutral'], [132, 'neutral'], [133, 'neutral'], [134, 'non-neutral'], [135, 'non-neutral'], [136, 'non-neutral'], [137, 'non-neutral'], [138, 'neutral'], [139, 'neutral'], [140, 'neutral'], [141, 'neutral'], [142, 'neutral'], [143, 'non-neutral'], [144, 'neutral'], [145, 'neutral'], [146, 'neutral'], [147, 'neutral'], [148, 'neutral'], [149, 'non-neutral'], [150, 'neutral'], [151, 'neutral'], [152, 'neutral'], [153, 'neutral'], [154, 'neutral'], [155, 'neutral'], [156, 'neutral'], [157, 'neutral'], [158, 'neutral'], [159, 'non-neutral'], [160, 'neutral'], [161, 'neutral'], [162, 'neutral'], [163, 'non-neutral'], [164, 'non-neutral'], [165, 'non-neutral'], [166, 'non-neutral'], [167, 'neutral'], [168, 'neutral'], [169, 'non-neutral'], [170, 'joy'], [171, 'neutral'], [172, 'neutral'], [173, 'neutral'], [174, 'non-neutral'], [175, 'neutral'], [176, 'non-neutral'], [177, 'neutral'], [178, 'neutral'], [179, 'neutral'], [180, 'neutral'], [181, 'neutral'], [182, 'neutral'], [183, 'neutral'], [184, 'neutral'], [185, 'neutral'], [186, 'neutral'], [187, 'neutral'], [188, 'neutral'], [189, 'neutral'], [190, 'neutral'], [191, 'neutral'], [192, 'neutral'], [193, 'neutral'], [194, 'neutral'], [195, 'neutral'], [196, 'neutral'], [197, 'non-neutral'], [198, 'neutral'], [199, 'non-neutral'], [200, 'non-neutral'], [201, 'non-neutral'], [202, 'non-neutral'], [203, 'non-neutral'], [204, 'neutral'], [205, 'neutral'], [206, 'non-neutral'], [207, 'non-neutral'], [208, 'non-neutral'], [209, 'neutral'], [210, 'neutral'], [211, 'non-neutral'], [212, 'non-neutral'], [213, 'non-neutral'], [214, 'neutral'], [215, 'neutral'], [216, 'neutral'], [217, 'neutral'], [218, 'neutral'], [219, 'neutral'], [220, 'non-neutral'], [221, 'non-neutral'], [222, 'neutral'], [223, 'neutral'], [224, 'neutral'], [225, 'neutral'], [226, 'neutral'], [227, 'neutral'], [228, 'neutral'], [229, 'neutral'], [230, 'neutral'], [231, 'neutral'], [232, 'neutral'], [233, 'non-neutral'], [234, 'non-neutral'], [235, 'neutral'], [236, 'non-neutral'], [237, 'neutral'], [238, 'non-neutral'], [239, 'non-neutral'], [240, 'neutral'], [241, 'neutral'], [242, 'non-neutral'], [243, 'non-neutral'], [244, 'neutral'], [245, 'non-neutral'], [246, 'non-neutral'], [247, 'neutral'], [248, 'neutral'], [249, 'neutral'], [250, 'non-neutral'], [251, 'non-neutral'], [252, 'non-neutral'], [253, 'non-neutral'], [254, 'neutral'], [255, 'non-neutral'], [256, 'non-neutral'], [257, 'neutral'], [258, 'neutral'], [259, 'neutral'], [260, 'neutral'], [261, 'neutral'], [262, 'neutral'], [263, 'neutral'], [264, 'neutral'], [265, 'non-neutral'], [266, 'non-neutral'], [267, 'non-neutral'], [268, 'non-neutral'], [269, 'non-neutral'], [270, 'joy'], [271, 'non-neutral'], [272, 'non-neutral'], [273, 'non-neutral'], [274, 'neutral'], [275, 'neutral'], [276, 'non-neutral'], [277, 'non-neutral'], [278, 'neutral'], [279, 'neutral'], [280, 'neutral'], [281, 'non-neutral'], [282, 'non-neutral'], [283, 'non-neutral'], [284, 'neutral'], [285, 'neutral'], [286, 'non-neutral'], [287, 'non-neutral'], [288, 'non-neutral'], [289, 'non-neutral'], [290, 'non-neutral'], [291, 'non-neutral'], [292, 'neutral'], [293, 'neutral'], [294, 'neutral'], [295, 'neutral'], [296, 'neutral'], [297, 'neutral'], [298, 'neutral'], [299, 'neutral'], [300, 'neutral'], [301, 'neutral'], [302, 'neutral'], [303, 'neutral'], [304, 'neutral'], [305, 'neutral'], [306, 'non-neutral'], [307, 'non-neutral'], [308, 'non-neutral'], [309, 'neutral'], [310, 'neutral'], [311, 'non-neutral'], [312, 'neutral'], [313, 'neutral'], [314, 'neutral'], [315, 'neutral'], [316, 'neutral'], [317, 'neutral'], [318, 'neutral'], [319, 'non-neutral'], [320, 'neutral'], [321, 'neutral'], [322, 'non-neutral'], [323, 'non-neutral'], [324, 'non-neutral'], [325, 'non-neutral'], [326, 'non-neutral'], [327, 'non-neutral'], [328, 'neutral'], [329, 'neutral'], [330, 'neutral'], [331, 'neutral'], [332, 'neutral'], [333, 'non-neutral'], [334, 'non-neutral'], [335, 'neutral'], [336, 'neutral'], [337, 'neutral'], [338, 'neutral'], [339, 'neutral'], [340, 'neutral'], [341, 'neutral'], [342, 'neutral'], [343, 'neutral'], [344, 'neutral'], [345, 'non-neutral'], [346, 'neutral'], [347, 'non-neutral'], [348, 'neutral'], [349, 'neutral'], [350, 'neutral'], [351, 'neutral'], [352, 'neutral'], [353, 'neutral'], [354, 'neutral'], [355, 'neutral'], [356, 'neutral'], [357, 'neutral'], [358, 'neutral'], [359, 'neutral'], [360, 'neutral'], [361, 'non-neutral'], [362, 'non-neutral'], [363, 'neutral'], [364, 'non-neutral'], [365, 'neutral'], [366, 'neutral'], [367, 'neutral'], [368, 'neutral'], [369, 'neutral'], [370, 'neutral'], [371, 'neutral'], [372, 'neutral'], [373, 'neutral'], [374, 'neutral'], [375, 'neutral'], [376, 'neutral'], [377, 'non-neutral'], [378, 'neutral'], [379, 'non-neutral'], [380, 'non-neutral'], [381, 'non-neutral'], [382, 'neutral'], [383, 'neutral'], [384, 'non-neutral'], [385, 'neutral'], [386, 'non-neutral'], [387, 'non-neutral'], [388, 'neutral'], [389, 'neutral'], [390, 'neutral'], [391, 'neutral'], [392, 'neutral'], [393, 'neutral'], [394, 'neutral'], [395, 'neutral'], [396, 'neutral'], [397, 'neutral'], [398, 'neutral'], [399, 'non-neutral'], [400, 'non-neutral'], [401, 'non-neutral'], [402, 'neutral'], [403, 'non-neutral'], [404, 'non-neutral'], [405, 'non-neutral'], [406, 'neutral'], [407, 'non-neutral'], [408, 'neutral'], [409, 'neutral'], [410, 'non-neutral'], [411, 'non-neutral'], [412, 'neutral'], [413, 'non-neutral'], [414, 'non-neutral'], [415, 'neutral'], [416, 'neutral'], [417, 'neutral'], [418, 'neutral'], [419, 'neutral'], [420, 'neutral'], [421, 'neutral'], [422, 'neutral'], [423, 'non-neutral'], [424, 'non-neutral'], [425, 'neutral'], [426, 'neutral'], [427, 'non-neutral'], [428, 'neutral'], [429, 'neutral'], [430, 'neutral'], [431, 'neutral'], [432, 'neutral'], [433, 'neutral'], [434, 'neutral'], [435, 'neutral'], [436, 'neutral'], [437, 'non-neutral'], [438, 'neutral'], [439, 'neutral'], [440, 'neutral'], [441, 'neutral'], [442, 'neutral'], [443, 'non-neutral'], [444, 'neutral'], [445, 'non-neutral'], [446, 'non-neutral'], [447, 'neutral'], [448, 'non-neutral'], [449, 'non-neutral'], [450, 'neutral'], [451, 'neutral'], [452, 'neutral'], [453, 'neutral'], [454, 'neutral'], [455, 'neutral'], [456, 'neutral'], [457, 'neutral'], [458, 'neutral'], [459, 'neutral'], [460, 'non-neutral'], [461, 'non-neutral'], [462, 'non-neutral'], [463, 'neutral'], [464, 'neutral'], [465, 'non-neutral'], [466, 'neutral'], [467, 'neutral'], [468, 'neutral'], [469, 'neutral'], [470, 'non-neutral'], [471, 'non-neutral'], [472, 'neutral'], [473, 'neutral'], [474, 'non-neutral'], [475, 'neutral'], [476, 'non-neutral'], [477, 'non-neutral'], [478, 'neutral'], [479, 'non-neutral'], [480, 'neutral'], [481, 'non-neutral'], [482, 'neutral'], [483, 'neutral'], [484, 'non-neutral'], [485, 'non-neutral'], [486, 'neutral'], [487, 'neutral'], [488, 'non-neutral'], [489, 'non-neutral'], [490, 'neutral'], [491, 'neutral'], [492, 'non-neutral'], [493, 'neutral'], [494, 'non-neutral'], [495, 'neutral'], [496, 'non-neutral'], [497, 'neutral'], [498, 'non-neutral'], [499, 'non-neutral'], [500, 'neutral'], [501, 'neutral'], [502, 'neutral'], [503, 'non-neutral'], [504, 'neutral'], [505, 'neutral'], [506, 'non-neutral'], [507, 'neutral'], [508, 'neutral'], [509, 'neutral'], [510, 'neutral'], [511, 'neutral'], [512, 'neutral'], [513, 'neutral'], [514, 'neutral'], [515, 'neutral'], [516, 'non-neutral'], [517, 'neutral'], [518, 'neutral'], [519, 'non-neutral'], [520, 'neutral'], [521, 'neutral'], [522, 'neutral'], [523, 'neutral'], [524, 'neutral'], [525, 'neutral'], [526, 'neutral'], [527, 'non-neutral'], [528, 'neutral'], [529, 'neutral'], [530, 'neutral'], [531, 'neutral'], [532, 'neutral'], [533, 'neutral'], [534, 'non-neutral'], [535, 'non-neutral'], [536, 'non-neutral'], [537, 'neutral'], [538, 'non-neutral'], [539, 'non-neutral'], [540, 'neutral'], [541, 'non-neutral'], [542, 'non-neutral'], [543, 'non-neutral'], [544, 'non-neutral'], [545, 'non-neutral'], [546, 'neutral'], [547, 'non-neutral'], [548, 'joy'], [549, 'non-neutral'], [550, 'non-neutral'], [551, 'non-neutral'], [552, 'non-neutral'], [553, 'non-neutral'], [554, 'non-neutral'], [555, 'joy'], [556, 'neutral'], [557, 'neutral'], [558, 'neutral'], [559, 'neutral'], [560, 'non-neutral'], [561, 'non-neutral'], [562, 'non-neutral'], [563, 'non-neutral'], [564, 'non-neutral'], [565, 'non-neutral'], [566, 'non-neutral'], [567, 'non-neutral'], [568, 'non-neutral'], [569, 'neutral'], [570, 'non-neutral'], [571, 'neutral'], [572, 'neutral'], [573, 'neutral'], [574, 'non-neutral'], [575, 'neutral'], [576, 'neutral'], [577, 'neutral'], [578, 'neutral'], [579, 'neutral'], [580, 'non-neutral'], [581, 'neutral'], [582, 'non-neutral'], [583, 'non-neutral'], [584, 'non-neutral'], [585, 'neutral'], [586, 'neutral'], [587, 'non-neutral'], [588, 'non-neutral'], [589, 'neutral'], [590, 'neutral'], [591, 'non-neutral'], [592, 'neutral'], [593, 'non-neutral'], [594, 'non-neutral'], [595, 'non-neutral'], [596, 'neutral'], [597, 'non-neutral'], [598, 'non-neutral'], [599, 'non-neutral'], [600, 'non-neutral'], [601, 'neutral'], [602, 'neutral'], [603, 'neutral'], [604, 'non-neutral'], [605, 'neutral'], [606, 'non-neutral'], [607, 'non-neutral'], [608, 'neutral'], [609, 'neutral'], [610, 'neutral'], [611, 'neutral'], [612, 'non-neutral'], [613, 'non-neutral'], [614, 'non-neutral'], [615, 'non-neutral'], [616, 'neutral'], [617, 'neutral'], [618, 'non-neutral'], [619, 'non-neutral'], [620, 'neutral'], [621, 'non-neutral'], [622, 'non-neutral'], [623, 'non-neutral'], [624, 'neutral'], [625, 'neutral'], [626, 'neutral'], [627, 'neutral'], [628, 'neutral'], [629, 'non-neutral'], [630, 'neutral'], [631, 'neutral'], [632, 'joy'], [633, 'non-neutral'], [634, 'non-neutral'], [635, 'non-neutral'], [636, 'neutral'], [637, 'neutral'], [638, 'neutral'], [639, 'neutral'], [640, 'non-neutral'], [641, 'neutral'], [642, 'neutral'], [643, 'non-neutral'], [644, 'neutral'], [645, 'neutral'], [646, 'neutral'], [647, 'neutral'], [648, 'non-neutral'], [649, 'neutral'], [650, 'neutral'], [651, 'neutral'], [652, 'neutral'], [653, 'neutral'], [654, 'neutral'], [655, 'neutral'], [656, 'neutral'], [657, 'non-neutral'], [658, 'neutral'], [659, 'non-neutral'], [660, 'joy'], [661, 'neutral'], [662, 'non-neutral'], [663, 'non-neutral'], [664, 'neutral'], [665, 'non-neutral'], [666, 'neutral'], [667, 'non-neutral'], [668, 'neutral'], [669, 'neutral'], [670, 'non-neutral'], [671, 'non-neutral'], [672, 'non-neutral'], [673, 'neutral'], [674, 'neutral'], [675, 'non-neutral'], [676, 'non-neutral'], [677, 'non-neutral'], [678, 'neutral'], [679, 'neutral'], [680, 'neutral'], [681, 'non-neutral'], [682, 'joy'], [683, 'joy'], [684, 'neutral'], [685, 'non-neutral'], [686, 'non-neutral'], [687, 'non-neutral'], [688, 'neutral'], [689, 'neutral'], [690, 'neutral'], [691, 'neutral'], [692, 'neutral'], [693, 'non-neutral'], [694, 'neutral'], [695, 'neutral'], [696, 'neutral'], [697, 'neutral'], [698, 'neutral'], [699, 'neutral'], [700, 'neutral'], [701, 'neutral'], [702, 'neutral'], [703, 'non-neutral'], [704, 'neutral'], [705, 'neutral'], [706, 'neutral'], [707, 'neutral'], [708, 'neutral'], [709, 'non-neutral'], [710, 'neutral'], [711, 'neutral'], [712, 'non-neutral'], [713, 'neutral'], [714, 'neutral'], [715, 'joy'], [716, 'joy'], [717, 'neutral'], [718, 'neutral'], [719, 'neutral'], [720, 'neutral'], [721, 'neutral'], [722, 'non-neutral'], [723, 'non-neutral'], [724, 'non-neutral'], [725, 'non-neutral'], [726, 'non-neutral'], [727, 'non-neutral'], [728, 'non-neutral'], [729, 'non-neutral'], [730, 'neutral'], [731, 'neutral'], [732, 'neutral'], [733, 'neutral'], [734, 'non-neutral'], [735, 'non-neutral'], [736, 'neutral'], [737, 'neutral'], [738, 'neutral'], [739, 'neutral'], [740, 'non-neutral'], [741, 'neutral'], [742, 'neutral'], [743, 'non-neutral'], [744, 'non-neutral'], [745, 'non-neutral'], [746, 'neutral'], [747, 'non-neutral'], [748, 'non-neutral'], [749, 'joy'], [750, 'neutral'], [751, 'neutral'], [752, 'non-neutral'], [753, 'non-neutral'], [754, 'neutral'], [755, 'neutral'], [756, 'neutral'], [757, 'neutral'], [758, 'neutral'], [759, 'non-neutral'], [760, 'non-neutral'], [761, 'neutral'], [762, 'non-neutral'], [763, 'neutral'], [764, 'non-neutral'], [765, 'non-neutral'], [766, 'neutral'], [767, 'neutral'], [768, 'neutral'], [769, 'non-neutral'], [770, 'non-neutral'], [771, 'neutral'], [772, 'neutral'], [773, 'neutral'], [774, 'non-neutral'], [775, 'non-neutral'], [776, 'non-neutral'], [777, 'non-neutral'], [778, 'non-neutral'], [779, 'neutral'], [780, 'non-neutral'], [781, 'neutral'], [782, 'neutral'], [783, 'neutral'], [784, 'neutral'], [785, 'neutral'], [786, 'non-neutral'], [787, 'non-neutral'], [788, 'non-neutral'], [789, 'non-neutral'], [790, 'neutral'], [791, 'neutral'], [792, 'neutral'], [793, 'non-neutral'], [794, 'neutral'], [795, 'non-neutral'], [796, 'non-neutral'], [797, 'neutral'], [798, 'non-neutral'], [799, 'non-neutral'], [800, 'non-neutral'], [801, 'neutral'], [802, 'neutral'], [803, 'neutral'], [804, 'neutral'], [805, 'neutral'], [806, 'neutral'], [807, 'neutral'], [808, 'neutral'], [809, 'non-neutral'], [810, 'neutral'], [811, 'neutral'], [812, 'neutral'], [813, 'neutral'], [814, 'non-neutral'], [815, 'neutral'], [816, 'neutral'], [817, 'neutral'], [818, 'neutral'], [819, 'neutral'], [820, 'neutral'], [821, 'neutral'], [822, 'neutral'], [823, 'non-neutral'], [824, 'neutral'], [825, 'non-neutral'], [826, 'neutral'], [827, 'neutral'], [828, 'neutral'], [829, 'non-neutral'], [830, 'non-neutral'], [831, 'non-neutral'], [832, 'neutral'], [833, 'neutral'], [834, 'non-neutral'], [835, 'neutral'], [836, 'non-neutral'], [837, 'non-neutral'], [838, 'neutral'], [839, 'neutral'], [840, 'neutral'], [841, 'neutral'], [842, 'neutral'], [843, 'non-neutral'], [844, 'non-neutral'], [845, 'neutral'], [846, 'neutral'], [847, 'non-neutral'], [848, 'non-neutral'], [849, 'neutral'], [850, 'neutral'], [851, 'neutral'], [852, 'non-neutral'], [853, 'neutral'], [854, 'neutral'], [855, 'neutral'], [856, 'non-neutral'], [857, 'non-neutral'], [858, 'neutral'], [859, 'neutral'], [860, 'neutral'], [861, 'neutral'], [862, 'neutral'], [863, 'neutral'], [864, 'neutral'], [865, 'non-neutral'], [866, 'non-neutral'], [867, 'neutral'], [868, 'neutral'], [869, 'neutral'], [870, 'neutral'], [871, 'neutral'], [872, 'neutral'], [873, 'neutral'], [874, 'neutral'], [875, 'neutral'], [876, 'neutral'], [877, 'neutral'], [878, 'non-neutral'], [879, 'neutral'], [880, 'neutral'], [881, 'neutral'], [882, 'neutral'], [883, 'non-neutral'], [884, 'non-neutral'], [885, 'neutral'], [886, 'neutral'], [887, 'neutral'], [888, 'non-neutral'], [889, 'neutral'], [890, 'neutral'], [891, 'non-neutral'], [892, 'non-neutral'], [893, 'non-neutral'], [894, 'neutral'], [895, 'neutral'], [896, 'non-neutral'], [897, 'non-neutral'], [898, 'neutral'], [899, 'neutral'], [900, 'neutral'], [901, 'neutral'], [902, 'neutral'], [903, 'non-neutral'], [904, 'non-neutral'], [905, 'non-neutral'], [906, 'non-neutral'], [907, 'neutral'], [908, 'joy'], [909, 'non-neutral'], [910, 'neutral'], [911, 'neutral'], [912, 'non-neutral'], [913, 'non-neutral'], [914, 'non-neutral'], [915, 'non-neutral'], [916, 'neutral'], [917, 'non-neutral'], [918, 'non-neutral'], [919, 'non-neutral'], [920, 'neutral'], [921, 'neutral'], [922, 'non-neutral'], [923, 'joy'], [924, 'joy'], [925, 'neutral'], [926, 'non-neutral'], [927, 'non-neutral'], [928, 'neutral'], [929, 'neutral'], [930, 'neutral'], [931, 'neutral'], [932, 'non-neutral'], [933, 'non-neutral'], [934, 'neutral'], [935, 'non-neutral'], [936, 'non-neutral'], [937, 'non-neutral'], [938, 'non-neutral'], [939, 'neutral'], [940, 'neutral'], [941, 'neutral'], [942, 'neutral'], [943, 'non-neutral'], [944, 'joy'], [945, 'neutral'], [946, 'neutral'], [947, 'neutral'], [948, 'neutral'], [949, 'neutral'], [950, 'non-neutral'], [951, 'non-neutral'], [952, 'joy'], [953, 'joy'], [954, 'neutral'], [955, 'neutral'], [956, 'neutral'], [957, 'non-neutral'], [958, 'non-neutral'], [959, 'non-neutral'], [960, 'non-neutral'], [961, 'neutral'], [962, 'neutral'], [963, 'non-neutral'], [964, 'non-neutral'], [965, 'neutral'], [966, 'non-neutral'], [967, 'non-neutral'], [968, 'neutral'], [969, 'non-neutral'], [970, 'non-neutral'], [971, 'non-neutral'], [972, 'non-neutral'], [973, 'non-neutral'], [974, 'neutral'], [975, 'neutral'], [976, 'neutral'], [977, 'neutral'], [978, 'neutral'], [979, 'neutral'], [980, 'neutral'], [981, 'neutral'], [982, 'non-neutral'], [983, 'neutral'], [984, 'neutral'], [985, 'neutral'], [986, 'neutral'], [987, 'neutral'], [988, 'neutral'], [989, 'neutral'], [990, 'neutral'], [991, 'neutral'], [992, 'non-neutral'], [993, 'neutral'], [994, 'neutral'], [995, 'neutral'], [996, 'non-neutral'], [997, 'neutral'], [998, 'neutral'], [999, 'non-neutral'], [1000, 'neutral'], [1001, 'neutral'], [1002, 'neutral'], [1003, 'neutral'], [1004, 'non-neutral'], [1005, 'non-neutral'], [1006, 'neutral'], [1007, 'neutral'], [1008, 'neutral'], [1009, 'neutral'], [1010, 'neutral'], [1011, 'neutral'], [1012, 'non-neutral'], [1013, 'neutral'], [1014, 'neutral'], [1015, 'neutral'], [1016, 'neutral'], [1017, 'neutral'], [1018, 'neutral'], [1019, 'non-neutral'], [1020, 'non-neutral'], [1021, 'non-neutral'], [1022, 'neutral'], [1023, 'neutral'], [1024, 'neutral'], [1025, 'neutral'], [1026, 'neutral'], [1027, 'neutral'], [1028, 'non-neutral'], [1029, 'neutral'], [1030, 'neutral'], [1031, 'neutral'], [1032, 'non-neutral'], [1033, 'non-neutral'], [1034, 'neutral'], [1035, 'neutral'], [1036, 'non-neutral'], [1037, 'neutral'], [1038, 'neutral'], [1039, 'non-neutral'], [1040, 'neutral'], [1041, 'non-neutral'], [1042, 'neutral'], [1043, 'neutral'], [1044, 'non-neutral'], [1045, 'non-neutral'], [1046, 'non-neutral'], [1047, 'joy'], [1048, 'joy'], [1049, 'neutral'], [1050, 'neutral'], [1051, 'neutral'], [1052, 'neutral'], [1053, 'neutral'], [1054, 'neutral'], [1055, 'neutral'], [1056, 'neutral'], [1057, 'non-neutral'], [1058, 'neutral'], [1059, 'neutral'], [1060, 'neutral'], [1061, 'neutral'], [1062, 'neutral'], [1063, 'neutral'], [1064, 'neutral'], [1065, 'non-neutral'], [1066, 'non-neutral'], [1067, 'neutral'], [1068, 'neutral'], [1069, 'neutral'], [1070, 'non-neutral'], [1071, 'non-neutral'], [1072, 'non-neutral'], [1073, 'neutral'], [1074, 'neutral'], [1075, 'neutral'], [1076, 'non-neutral'], [1077, 'neutral'], [1078, 'neutral'], [1079, 'neutral'], [1080, 'neutral'], [1081, 'non-neutral'], [1082, 'neutral'], [1083, 'neutral'], [1084, 'neutral'], [1085, 'neutral'], [1086, 'neutral'], [1087, 'neutral'], [1088, 'neutral'], [1089, 'neutral'], [1090, 'neutral'], [1091, 'neutral'], [1092, 'non-neutral'], [1093, 'non-neutral'], [1094, 'neutral'], [1095, 'neutral'], [1096, 'neutral'], [1097, 'neutral'], [1098, 'neutral'], [1099, 'non-neutral'], [1100, 'neutral'], [1101, 'neutral'], [1102, 'neutral'], [1103, 'neutral'], [1104, 'neutral'], [1105, 'neutral'], [1106, 'neutral'], [1107, 'neutral'], [1108, 'neutral'], [1109, 'neutral'], [1110, 'neutral'], [1111, 'neutral'], [1112, 'non-neutral'], [1113, 'joy'], [1114, 'non-neutral'], [1115, 'non-neutral'], [1116, 'neutral'], [1117, 'joy'], [1118, 'non-neutral'], [1119, 'neutral'], [1120, 'neutral'], [1121, 'neutral'], [1122, 'neutral'], [1123, 'neutral'], [1124, 'neutral'], [1125, 'neutral'], [1126, 'neutral'], [1127, 'neutral'], [1128, 'neutral'], [1129, 'neutral'], [1130, 'neutral'], [1131, 'neutral'], [1132, 'neutral'], [1133, 'neutral'], [1134, 'neutral'], [1135, 'neutral'], [1136, 'non-neutral'], [1137, 'neutral'], [1138, 'non-neutral'], [1139, 'non-neutral'], [1140, 'neutral'], [1141, 'neutral'], [1142, 'neutral'], [1143, 'neutral'], [1144, 'neutral'], [1145, 'neutral'], [1146, 'neutral'], [1147, 'non-neutral'], [1148, 'joy'], [1149, 'neutral'], [1150, 'neutral'], [1151, 'neutral'], [1152, 'non-neutral'], [1153, 'non-neutral'], [1154, 'neutral'], [1155, 'neutral'], [1156, 'non-neutral'], [1157, 'neutral'], [1158, 'non-neutral'], [1159, 'non-neutral'], [1160, 'neutral'], [1161, 'neutral'], [1162, 'non-neutral'], [1163, 'neutral'], [1164, 'non-neutral'], [1165, 'neutral'], [1166, 'neutral'], [1167, 'neutral'], [1168, 'neutral'], [1169, 'non-neutral'], [1170, 'non-neutral'], [1171, 'non-neutral'], [1172, 'neutral'], [1173, 'non-neutral'], [1174, 'neutral'], [1175, 'non-neutral'], [1176, 'neutral'], [1177, 'non-neutral'], [1178, 'neutral'], [1179, 'non-neutral'], [1180, 'neutral'], [1181, 'neutral'], [1182, 'non-neutral'], [1183, 'neutral'], [1184, 'neutral'], [1185, 'neutral'], [1186, 'neutral'], [1187, 'neutral'], [1188, 'neutral'], [1189, 'non-neutral'], [1190, 'non-neutral'], [1191, 'non-neutral'], [1192, 'non-neutral'], [1193, 'non-neutral'], [1194, 'non-neutral'], [1195, 'neutral'], [1196, 'neutral'], [1197, 'neutral'], [1198, 'neutral'], [1199, 'neutral'], [1200, 'neutral'], [1201, 'non-neutral'], [1202, 'neutral'], [1203, 'non-neutral'], [1204, 'neutral'], [1205, 'neutral'], [1206, 'non-neutral'], [1207, 'neutral'], [1208, 'neutral'], [1209, 'non-neutral'], [1210, 'neutral'], [1211, 'neutral'], [1212, 'neutral'], [1213, 'non-neutral'], [1214, 'non-neutral'], [1215, 'neutral'], [1216, 'neutral'], [1217, 'non-neutral'], [1218, 'non-neutral'], [1219, 'non-neutral'], [1220, 'neutral'], [1221, 'non-neutral'], [1222, 'neutral'], [1223, 'non-neutral'], [1224, 'non-neutral'], [1225, 'neutral'], [1226, 'neutral'], [1227, 'neutral'], [1228, 'non-neutral'], [1229, 'neutral'], [1230, 'neutral'], [1231, 'neutral'], [1232, 'neutral'], [1233, 'non-neutral'], [1234, 'non-neutral'], [1235, 'non-neutral'], [1236, 'non-neutral'], [1237, 'non-neutral'], [1238, 'neutral'], [1239, 'non-neutral'], [1240, 'non-neutral'], [1241, 'non-neutral'], [1242, 'neutral'], [1243, 'neutral'], [1244, 'neutral'], [1245, 'neutral'], [1246, 'neutral'], [1247, 'neutral'], [1248, 'neutral'], [1249, 'neutral'], [1250, 'neutral'], [1251, 'non-neutral'], [1252, 'non-neutral'], [1253, 'non-neutral'], [1254, 'non-neutral'], [1255, 'neutral'], [1256, 'non-neutral'], [1257, 'neutral'], [1258, 'neutral'], [1259, 'neutral'], [1260, 'neutral'], [1261, 'neutral'], [1262, 'non-neutral'], [1263, 'non-neutral'], [1264, 'neutral'], [1265, 'non-neutral'], [1266, 'non-neutral'], [1267, 'non-neutral'], [1268, 'neutral'], [1269, 'non-neutral'], [1270, 'neutral'], [1271, 'neutral'], [1272, 'neutral'], [1273, 'neutral'], [1274, 'non-neutral'], [1275, 'non-neutral'], [1276, 'neutral'], [1277, 'neutral'], [1278, 'neutral'], [1279, 'neutral'], [1280, 'neutral'], [1281, 'neutral'], [1282, 'non-neutral'], [1283, 'neutral'], [1284, 'non-neutral'], [1285, 'non-neutral'], [1286, 'non-neutral'], [1287, 'non-neutral'], [1288, 'neutral'], [1289, 'neutral'], [1290, 'non-neutral'], [1291, 'joy'], [1292, 'non-neutral'], [1293, 'non-neutral'], [1294, 'neutral'], [1295, 'non-neutral'], [1296, 'neutral'], [1297, 'non-neutral'], [1298, 'neutral'], [1299, 'neutral'], [1300, 'neutral'], [1301, 'non-neutral'], [1302, 'joy'], [1303, 'neutral'], [1304, 'neutral'], [1305, 'neutral'], [1306, 'neutral'], [1307, 'neutral'], [1308, 'neutral'], [1309, 'neutral'], [1310, 'non-neutral'], [1311, 'neutral'], [1312, 'non-neutral'], [1313, 'non-neutral'], [1314, 'non-neutral'], [1315, 'non-neutral'], [1316, 'non-neutral'], [1317, 'non-neutral'], [1318, 'neutral'], [1319, 'neutral'], [1320, 'non-neutral'], [1321, 'joy'], [1322, 'joy'], [1323, 'non-neutral'], [1324, 'neutral'], [1325, 'neutral'], [1326, 'non-neutral'], [1327, 'non-neutral'], [1328, 'non-neutral'], [1329, 'non-neutral'], [1330, 'non-neutral'], [1331, 'non-neutral'], [1332, 'neutral'], [1333, 'non-neutral'], [1334, 'neutral'], [1335, 'non-neutral'], [1336, 'non-neutral'], [1337, 'non-neutral'], [1338, 'neutral'], [1339, 'neutral'], [1340, 'neutral'], [1341, 'neutral'], [1342, 'neutral'], [1343, 'non-neutral'], [1344, 'non-neutral'], [1345, 'non-neutral'], [1346, 'neutral'], [1347, 'non-neutral'], [1348, 'non-neutral'], [1349, 'non-neutral'], [1350, 'non-neutral'], [1351, 'non-neutral'], [1352, 'neutral'], [1353, 'neutral'], [1354, 'non-neutral'], [1355, 'neutral'], [1356, 'neutral'], [1357, 'neutral'], [1358, 'neutral'], [1359, 'neutral'], [1360, 'neutral'], [1361, 'neutral'], [1362, 'non-neutral'], [1363, 'neutral'], [1364, 'neutral'], [1365, 'neutral'], [1366, 'neutral'], [1367, 'neutral'], [1368, 'neutral'], [1369, 'neutral'], [1370, 'non-neutral'], [1371, 'neutral'], [1372, 'non-neutral'], [1373, 'neutral'], [1374, 'neutral'], [1375, 'non-neutral'], [1376, 'non-neutral'], [1377, 'non-neutral'], [1378, 'non-neutral'], [1379, 'neutral'], [1380, 'neutral'], [1381, 'non-neutral'], [1382, 'neutral'], [1383, 'neutral'], [1384, 'non-neutral'], [1385, 'neutral'], [1386, 'neutral'], [1387, 'neutral'], [1388, 'non-neutral'], [1389, 'non-neutral'], [1390, 'neutral'], [1391, 'neutral'], [1392, 'non-neutral'], [1393, 'non-neutral'], [1394, 'non-neutral'], [1395, 'non-neutral'], [1396, 'neutral'], [1397, 'neutral'], [1398, 'neutral'], [1399, 'neutral'], [1400, 'neutral'], [1401, 'neutral'], [1402, 'neutral'], [1403, 'neutral'], [1404, 'neutral'], [1405, 'neutral'], [1406, 'neutral'], [1407, 'non-neutral'], [1408, 'neutral'], [1409, 'neutral'], [1410, 'neutral'], [1411, 'non-neutral'], [1412, 'non-neutral'], [1413, 'non-neutral'], [1414, 'non-neutral'], [1415, 'joy'], [1416, 'neutral'], [1417, 'non-neutral'], [1418, 'neutral'], [1419, 'non-neutral'], [1420, 'non-neutral'], [1421, 'non-neutral'], [1422, 'non-neutral'], [1423, 'neutral'], [1424, 'neutral'], [1425, 'neutral'], [1426, 'neutral'], [1427, 'neutral'], [1428, 'neutral'], [1429, 'neutral'], [1430, 'non-neutral'], [1431, 'neutral'], [1432, 'neutral'], [1433, 'joy'], [1434, 'non-neutral'], [1435, 'non-neutral'], [1436, 'neutral'], [1437, 'neutral'], [1438, 'neutral'], [1439, 'non-neutral'], [1440, 'non-neutral'], [1441, 'non-neutral'], [1442, 'non-neutral'], [1443, 'non-neutral'], [1444, 'neutral'], [1445, 'neutral'], [1446, 'neutral'], [1447, 'neutral'], [1448, 'neutral'], [1449, 'neutral'], [1450, 'neutral'], [1451, 'neutral'], [1452, 'neutral'], [1453, 'non-neutral'], [1454, 'neutral'], [1455, 'neutral'], [1456, 'non-neutral'], [1457, 'non-neutral'], [1458, 'non-neutral'], [1459, 'neutral'], [1460, 'non-neutral'], [1461, 'neutral'], [1462, 'non-neutral'], [1463, 'neutral'], [1464, 'non-neutral'], [1465, 'non-neutral'], [1466, 'non-neutral'], [1467, 'neutral'], [1468, 'non-neutral'], [1469, 'non-neutral'], [1470, 'neutral'], [1471, 'neutral'], [1472, 'neutral'], [1473, 'neutral'], [1474, 'non-neutral'], [1475, 'neutral'], [1476, 'non-neutral'], [1477, 'neutral'], [1478, 'neutral'], [1479, 'neutral'], [1480, 'neutral'], [1481, 'neutral'], [1482, 'neutral'], [1483, 'neutral'], [1484, 'non-neutral'], [1485, 'non-neutral'], [1486, 'neutral'], [1487, 'neutral'], [1488, 'neutral'], [1489, 'neutral'], [1490, 'neutral'], [1491, 'neutral'], [1492, 'non-neutral'], [1493, 'non-neutral'], [1494, 'neutral'], [1495, 'non-neutral'], [1496, 'neutral'], [1497, 'non-neutral'], [1498, 'non-neutral'], [1499, 'neutral'], [1500, 'non-neutral'], [1501, 'non-neutral'], [1502, 'joy'], [1503, 'neutral'], [1504, 'neutral'], [1505, 'neutral'], [1506, 'neutral'], [1507, 'neutral'], [1508, 'non-neutral'], [1509, 'neutral'], [1510, 'non-neutral'], [1511, 'non-neutral'], [1512, 'neutral'], [1513, 'non-neutral'], [1514, 'neutral'], [1515, 'neutral'], [1516, 'neutral'], [1517, 'neutral'], [1518, 'neutral'], [1519, 'non-neutral'], [1520, 'non-neutral'], [1521, 'joy'], [1522, 'neutral'], [1523, 'neutral'], [1524, 'neutral'], [1525, 'neutral'], [1526, 'neutral'], [1527, 'non-neutral'], [1528, 'neutral'], [1529, 'neutral'], [1530, 'neutral'], [1531, 'neutral'], [1532, 'neutral'], [1533, 'neutral'], [1534, 'neutral'], [1535, 'non-neutral'], [1536, 'neutral'], [1537, 'non-neutral'], [1538, 'non-neutral'], [1539, 'neutral'], [1540, 'neutral'], [1541, 'neutral'], [1542, 'non-neutral'], [1543, 'joy'], [1544, 'neutral'], [1545, 'non-neutral'], [1546, 'neutral'], [1547, 'non-neutral'], [1548, 'non-neutral'], [1549, 'neutral'], [1550, 'non-neutral'], [1551, 'non-neutral'], [1552, 'anger'], [1553, 'non-neutral'], [1554, 'neutral'], [1555, 'anger'], [1556, 'neutral'], [1557, 'neutral'], [1558, 'neutral'], [1559, 'neutral'], [1560, 'neutral'], [1561, 'non-neutral'], [1562, 'non-neutral'], [1563, 'neutral'], [1564, 'neutral'], [1565, 'neutral'], [1566, 'neutral'], [1567, 'neutral'], [1568, 'neutral'], [1569, 'non-neutral'], [1570, 'neutral'], [1571, 'non-neutral'], [1572, 'non-neutral'], [1573, 'neutral'], [1574, 'neutral'], [1575, 'non-neutral'], [1576, 'neutral'], [1577, 'neutral'], [1578, 'neutral'], [1579, 'neutral'], [1580, 'non-neutral'], [1581, 'neutral'], [1582, 'non-neutral'], [1583, 'non-neutral'], [1584, 'non-neutral'], [1585, 'non-neutral'], [1586, 'non-neutral'], [1587, 'non-neutral'], [1588, 'non-neutral'], [1589, 'neutral'], [1590, 'joy'], [1591, 'non-neutral'], [1592, 'non-neutral'], [1593, 'neutral'], [1594, 'non-neutral'], [1595, 'non-neutral'], [1596, 'neutral'], [1597, 'neutral'], [1598, 'neutral'], [1599, 'neutral'], [1600, 'non-neutral'], [1601, 'neutral'], [1602, 'neutral'], [1603, 'neutral'], [1604, 'non-neutral'], [1605, 'non-neutral'], [1606, 'neutral'], [1607, 'neutral'], [1608, 'neutral'], [1609, 'neutral'], [1610, 'neutral'], [1611, 'neutral'], [1612, 'neutral'], [1613, 'neutral'], [1614, 'non-neutral'], [1615, 'neutral'], [1616, 'neutral'], [1617, 'neutral'], [1618, 'neutral'], [1619, 'neutral'], [1620, 'non-neutral'], [1621, 'neutral'], [1622, 'neutral']]\n"
          ],
          "name": "stdout"
        }
      ]
    },
    {
      "cell_type": "code",
      "metadata": {
        "colab": {
          "base_uri": "https://localhost:8080/",
          "height": 17
        },
        "id": "l9EbaFYxKTPp",
        "outputId": "27bff221-f240-408e-bf62-38bc749acc55"
      },
      "source": [
        "from google.colab import files\n",
        "files.download('sample.csv') "
      ],
      "execution_count": null,
      "outputs": [
        {
          "output_type": "display_data",
          "data": {
            "application/javascript": [
              "\n",
              "    async function download(id, filename, size) {\n",
              "      if (!google.colab.kernel.accessAllowed) {\n",
              "        return;\n",
              "      }\n",
              "      const div = document.createElement('div');\n",
              "      const label = document.createElement('label');\n",
              "      label.textContent = `Downloading \"${filename}\": `;\n",
              "      div.appendChild(label);\n",
              "      const progress = document.createElement('progress');\n",
              "      progress.max = size;\n",
              "      div.appendChild(progress);\n",
              "      document.body.appendChild(div);\n",
              "\n",
              "      const buffers = [];\n",
              "      let downloaded = 0;\n",
              "\n",
              "      const channel = await google.colab.kernel.comms.open(id);\n",
              "      // Send a message to notify the kernel that we're ready.\n",
              "      channel.send({})\n",
              "\n",
              "      for await (const message of channel.messages) {\n",
              "        // Send a message to notify the kernel that we're ready.\n",
              "        channel.send({})\n",
              "        if (message.buffers) {\n",
              "          for (const buffer of message.buffers) {\n",
              "            buffers.push(buffer);\n",
              "            downloaded += buffer.byteLength;\n",
              "            progress.value = downloaded;\n",
              "          }\n",
              "        }\n",
              "      }\n",
              "      const blob = new Blob(buffers, {type: 'application/binary'});\n",
              "      const a = document.createElement('a');\n",
              "      a.href = window.URL.createObjectURL(blob);\n",
              "      a.download = filename;\n",
              "      div.appendChild(a);\n",
              "      a.click();\n",
              "      div.remove();\n",
              "    }\n",
              "  "
            ],
            "text/plain": [
              "<IPython.core.display.Javascript object>"
            ]
          },
          "metadata": {
            "tags": []
          }
        },
        {
          "output_type": "display_data",
          "data": {
            "application/javascript": [
              "download(\"download_ddfeee01-22a4-4c0a-90f9-83385b65ea4b\", \"sample.csv\", 22224)"
            ],
            "text/plain": [
              "<IPython.core.display.Javascript object>"
            ]
          },
          "metadata": {
            "tags": []
          }
        }
      ]
    }
  ]
}